{
 "cells": [
  {
   "cell_type": "markdown",
   "id": "d901301c-8033-4cf1-8ceb-1d8c370b486b",
   "metadata": {},
   "source": [
    "<h1 align=\"center\">Rodriguez Rodriguez Ian Alam</h1>\n",
    "<h2 align=\"center\">Física computacional.  Semestre 2015-1. 8245 </h2>\n",
    "<h4 align=\"center\"></h4> "
   ]
  },
  {
   "cell_type": "markdown",
   "id": "d01f7c7c-8583-4edb-aff9-b90b19830f11",
   "metadata": {},
   "source": [
    "## Práctica 5.  Integración numérica\n",
    "---"
   ]
  },
  {
   "cell_type": "markdown",
   "id": "de3e757e-1606-4ddc-a0e2-57339a4d47f7",
   "metadata": {},
   "source": [
    "### EJERCICIOS:\n",
    "\n",
    "\n",
    "**1. Regla del trapecio:** El archivo velocidades.txt (adjunto), contiene dos columnas de numeros, la primera representa el tiempo t en segundos y la segunda la x-velocidad en metros por segundo de una part cula, medida una vez por segundo desde el tiempo t = 0 hasta t = 100.\n",
    "Las primeras líneas se ven así:"
   ]
  },
  {
   "cell_type": "markdown",
   "id": "6d7e6232-ea83-4a55-9d32-248e072d77ec",
   "metadata": {},
   "source": [
    "Escribe un programa para hacer lo siguiente:\n",
    "(a) Lee los datos y, usando la regla del trapecio, calcula a partir de ellos la distancia aproximada recorrida por la partícula en la dirección x como una función del tiempo."
   ]
  },
  {
   "cell_type": "code",
   "execution_count": 2,
   "id": "26b44dc2-8fc5-408d-9b2a-4b88acb29847",
   "metadata": {},
   "outputs": [],
   "source": [
    "# Importemos las bibliotecas que usaremos.\n",
    "import numpy as np  # Importamos numpy para manejar arreglos."
   ]
  },
  {
   "cell_type": "code",
   "execution_count": null,
   "id": "ccff13ab-9a81-412f-9d00-aa96a0c5c761",
   "metadata": {},
   "outputs": [],
   "source": [
    "# Primero definimos una función para leer el archivo de texto\n",
    "def leer_datos(velocity):\n",
    "# Cargamos los datos desde el archivo y los almacenamos en arreglos dandoles la variable 'datos'.\n",
    "    datos=np.loadtxt(velocity, delimiter='\\t')  # Asumimos que los datos están separados por tabulador\n",
    "    tiempos=datos[:, 0]  # Primera columna: tiempos, es decir, tomamos los elementos de ese arreglo datos.\n",
    "    velocidades=datos[:, 1]  # Segunda columna: velocidades ' '.\n",
    "    return tiempos, velocidades\n",
    "\n",
    "# Usamos la Regla del Trapecio para calcular la distancia recorrida usando de variables los elementos de la primera columna 'tiempos', y la segunda 'velocidades'.\n",
    "def regla_trapecio(tiempos, velocidades):\n",
    "    n =len(tiempos) - 1  # Definimos al número de intervalos o divisiones\n",
    "    h =(tiempos[-1] - tiempos[0]) / n  #'Diferencia' entre los tiempos\n",
    "    # Escribimos la ecuación de la Regla del Trapecio usando nuestras variables.\n",
    "    distancia = (h / 2) * (velocidades[0] + 2 * sum(velocidades[1:n]) + velocidades[n])\n",
    "    return distancia\n",
    "\n",
    "# Podemos usar una función para calcular la distancia utilizando la velocidad media\n",
    "def distancia_velocidad_media(tiempos, velocidades):\n",
    "    velocidad_media=np.mean(velocidades)  # Calculamos la velocidad media usando numpy con el comando 'mean' que calcula el promedio de un conjunto de datos.\n",
    "    tiempo_total=tiempos[-1]- tiempos[0]  #Calculamos el tiempo total\n",
    "    return velocidad_media *tiempo_total  # Como Velocidad= Distancia / Tiempo, -->  Distancia = velocidad media * tiempo\n",
    "\n",
    "# Definimos el nombre del archivo (puedes cambiar este nombre al archivo real)\n",
    "velocity='velocidades.txt'\n",
    "\n",
    "# Leemos los datos del archivo\n",
    "tiempos, velocidades=leer_datos(velocity)\n",
    "\n",
    "# Calculamos la distancia con la Regla del Trapecio\n",
    "distancia_trapecio=regla_trapecio(tiempos, velocidades)\n",
    "\n",
    "# Calculamos la distancia con la velocidad media\n",
    "distancia_media=distancia_velocidad_media(tiempos, velocidades)\n",
    "\n",
    "# Mostramos los resultados llamando a la función \n",
    "print(f\"Distancia recorrida usando la Regla del Trapecio: {distancia_trapecio:.4f}\")\n",
    "print(f\"Distancia recorrida usando la velocidad media: {distancia_media:.4f}\")\n",
    "print('Podemos ver que los resultados son muy similares.')"
   ]
  },
  {
   "cell_type": "markdown",
   "id": "befe55eb-6e22-4721-b87c-65e5a00aeb08",
   "metadata": {},
   "source": [
    "b) Extiende tu programa para hacer una gráfica que muestre, en el mismo gráfico,tanto la curva de velocidad original como la distancia recorrida como una función del tiempo."
   ]
  },
  {
   "cell_type": "code",
   "execution_count": null,
   "id": "35dc2ed6-06d5-42e5-84de-5c04ce7168a0",
   "metadata": {},
   "outputs": [],
   "source": [
    "import matplotlib.pyplot as plt  # Importamos matplotlib para usar gráficos\n",
    "\n",
    "# Primero definimos una función para leer el archivo de texto\n",
    "def leer_datos(velocity):\n",
    "    # Cargamos los datos desde el archivo y los almacenamos en arreglos\n",
    "    datos=np.loadtxt(velocity, delimiter='\\t')  # Asumimos que los datos están separados por tabulaciones\n",
    "    tiempos=datos[:, 0]  # Primera columna: tiempos\n",
    "    velocidades=datos[:, 1]  # Segunda columna: velocidades\n",
    "    return tiempos, velocidades\n",
    "\n",
    "# Usamos la Regla del Trapecio para calcular la distancia recorrida, en lugar de calcular solo la distancia total, creamos un \n",
    "# array dist_acumulada donde se almacena la distancia acumulada hasta cada tiempo t usando la Regla del Trapecio.\n",
    "def regla_trapecio_acumulada(tiempos, velocidades):\n",
    "    n =len(tiempos) - 1  # Número de intervalos\n",
    "    dist_acumulada =np.zeros(n+1)  # Array para almacenar las distancias acumuladas\n",
    "    for i in range(1, n+1):    # Con un ciclo for se va sumando la distancia recorrida en cada intervalo de tiempo para obtener la distancia acumulada.\n",
    "        h=tiempos[i] - tiempos[i-1]  # Intervalo de tiempo\n",
    "        dist_acumulada[i] =dist_acumulada[i-1] + (h / 2) * (velocidades[i] + velocidades[i-1])\n",
    "    return dist_acumulada\n",
    "\n",
    "# Calculamos la distancia utilizando la velocidad media.\n",
    "def distancia_velocidad_media(tiempos, velocidades):\n",
    "    velocidad_media =np.mean(velocidades)  # Calculamos la velocidad media\n",
    "    tiempo_total =tiempos[-1] - tiempos[0]  # Calculamos el tiempo total\n",
    "    return velocidad_media * tiempo_total  # Distancia = velocidad media * tiempo\n",
    "\n",
    "# Le asociamos nuestro archivo '.txt' a la variable 'velocity'.\n",
    "velocity='velocidades.txt'\n",
    "\n",
    "# Leemos los datos del archivo\n",
    "tiempos, velocidades=leer_datos(velocity)\n",
    "\n",
    "# Calculamos la distancia acumulada \n",
    "distancia_acumulada=regla_trapecio_acumulada(tiempos, velocidades)\n",
    "\n",
    "# Creamos la gráfica\n",
    "plt.figure(figsize=(10, 6))  # Con esto definimos el tamaño.\n",
    "plt.plot(tiempos, velocidades, label='Velocidad (m/s)', color='blue')  # Graficamos la velocidad\n",
    "plt.plot(tiempos, distancia_acumulada, label='Distancia recorrida (m)', color='green')  # Graficamos la distancia acumulada\n",
    "plt.xlabel('Tiempo (s)')            # Agregamos las etiquetas a los ejes.\n",
    "plt.ylabel('Velocidad (m/s) y Distancia (m)')\n",
    "plt.title('Velocidad y Distancia Recorrida en función del Tiempo')\n",
    "plt.legend()  # Con esto mostramos la leyenda con las etiquetas\n",
    "plt.grid(True)  # Añadimos una cuadrícula\n",
    "plt.show()"
   ]
  },
  {
   "cell_type": "markdown",
   "id": "9ba9e7f3-1c37-458f-88a5-c93534de8ac9",
   "metadata": {},
   "source": [
    "**2. Integración numérica:** \n",
    "a) Escribe un programa para calcular un valor aproximado para la integral desde cero a dos de  \n",
    "$$\n",
    "\\int_0^2 (x^4 - 2x + 1) \\, dx,\n",
    "$$\n",
    "utilizando tanto la regla del trapecio, como la regla de Simpson con 10 divisiones."
   ]
  },
  {
   "cell_type": "code",
   "execution_count": 27,
   "id": "08502280-5522-480b-bf87-88849eb3a9ff",
   "metadata": {},
   "outputs": [
    {
     "name": "stdout",
     "output_type": "stream",
     "text": [
      "Resultado de la Regla del Trapecio con n=10: 4.506560\n",
      "Resultado de la Regla de Simpson con n=10: 4.400427\n"
     ]
    }
   ],
   "source": [
    "# Definimos la función que queremos integrar: f(x) = x^4 - 2*x + 1\n",
    "def funcion(x):\n",
    "    return x**4 - 2*x + 1\n",
    "\n",
    "# Usamos la Regla del Trapecio como hicimos en clase\n",
    "def regla_trapecio(f, a, b, n):\n",
    "    h =(b - a) / n  # Tamaño de los intervalos\n",
    "    suma =0.5 * (f(a) + f(b))  # Primer y último término que es dividido entre 2\n",
    "    for i in range(1, n):\n",
    "        suma = suma + f(a + i * h)  # Suma de los términos intermedios\n",
    "    return suma * h\n",
    "\n",
    "# Implementamos la Regla de Simpson\n",
    "def regla_simpson(f, a, b, n):\n",
    "    if n % 2 != 0:  # Recordemos que esta imposición es por que la regla de simpson se basa en aproximar la función a integrar mediante segmentos de parábolas. Pues se requiere dividir el intervalo en segmentos de longitud igual, y cada segmento debe contener dos partes (es decir, cada par de puntos se utiliza para formar una parábola).\n",
    "        raise ValueError(\"n debe ser un número par para la regla de Simpson\")\n",
    "    h = (b - a) / n  # Tamaño de los intervalos\n",
    "    suma =f(a) + f(b)\n",
    "    for i in range(1, n, 2):\n",
    "        suma =suma + 4 * f(a + i * h)  # Suma de los términos con coeficiente 4\n",
    "    for i in range(2, n-1, 2):\n",
    "        suma =suma + 2 * f(a + i * h)  # Suma de los términos con coeficiente 2\n",
    "    return suma * h / 3\n",
    "\n",
    "# Definimos los parámetros\n",
    "a=0  \n",
    "b=2 \n",
    "n=10  \n",
    "# Calculamos la integral usando la regla del trapecio\n",
    "resultado_trapecio=regla_trapecio(funcion, a, b, n)\n",
    "print(f\"Resultado de la Regla del Trapecio con n={n}: {resultado_trapecio:.6f}\")\n",
    "\n",
    "# Calculamos la integral usando la regla de Simpson\n",
    "resultado_simpson=regla_simpson(funcion, a, b, n)\n",
    "print(f\"Resultado de la Regla de Simpson con n={n}: {resultado_simpson:.6f}\")"
   ]
  },
  {
   "cell_type": "markdown",
   "id": "d161429e-2c9f-4dea-9f2e-1b9a59177ed9",
   "metadata": {},
   "source": [
    "b) Ejecuta el programa y compara tu resultado con el valor correcto conocido de $4.4$  ¿Cuál es el error en tu cálculo?"
   ]
  },
  {
   "cell_type": "markdown",
   "id": "dd6002cb-9b3e-4718-b953-1411cd38fde5",
   "metadata": {},
   "source": [
    "- Podemos ver que con la 'Regla del Trapecio' nuestro resultado difiere por una décima, obteniedno 4.5 en lugar de 4.4.\n",
    "Con la 'Regla de simpson', nuestra aproximación fue mejor pues si se obtuvo 4.4 como la literatura."
   ]
  },
  {
   "cell_type": "markdown",
   "id": "dd8d7ccb-4166-4227-ab37-9b2175684b43",
   "metadata": {},
   "source": [
    "c) Modifica el programa para utilizar 100 divisiones y luego 1000. ¿Cómo mejora el resultado?. ¿Como se comparan los resultados entre ambas reglas al usar la misma cantidad de divisiones?"
   ]
  },
  {
   "cell_type": "code",
   "execution_count": null,
   "id": "c93143d6-be83-45b3-a98c-fd4aaeb4061e",
   "metadata": {},
   "outputs": [],
   "source": [
    "# Simplemente hay que cambiar los valores de n para 100 y 1000.\n",
    "# Definimos la función que queremos integrar: f(x) = x^4 - 2*x + 1\n",
    "def funcion(x):\n",
    "    return x**4 - 2*x + 1\n",
    "\n",
    "# Usamos la Regla del Trapecio como hicimos en clase\n",
    "def trapecio(f, a, b, n):\n",
    "    h =(b - a) / n  # Tamaño de los intervalos\n",
    "    suma =0.5 * (f(a) + f(b))  # Primer y último término que es dividido entre 2\n",
    "    for i in range(1, n):\n",
    "        suma = suma + f(a + i * h)  # Suma de los términos intermedios\n",
    "    return suma * h\n",
    "\n",
    "# Implementamos la Regla de Simpson\n",
    "def simpson(f, a, b, n):\n",
    "    if n % 2 != 0:  # Recordemos que esta imposición es por que la regla de simpson se basa en aproximar la función a integrar mediante segmentos de parábolas. Pues se requiere dividir el intervalo en segmentos de longitud igual, y cada segmento debe contener dos partes (es decir, cada par de puntos se utiliza para formar una parábola).\n",
    "        raise ValueError(\"n debe ser un número par para la regla de Simpson\")\n",
    "    h =(b - a) / n  # Tamaño de los intervalos\n",
    "    suma =f(a) + f(b)\n",
    "    for i in range(1, n, 2):\n",
    "        suma =suma + 4 * f(a + i * h)  # Suma de los términos con coeficiente 4\n",
    "    for i in range(2, n-1, 2):\n",
    "        suma =suma + 2 * f(a + i * h)  # Suma de los términos con coeficiente 2\n",
    "    return suma * h / 3\n",
    "\n",
    "# Definimos los parámetros\n",
    "a=0  \n",
    "b=2 \n",
    "# Calculando la integral con 100 divisiones\n",
    "n1=100\n",
    "resultado_trapecio_100=trapecio(funcion,a, b, n1)\n",
    "resultado_simpson_100=simpson(funcion,a, b, n1)\n",
    "\n",
    "# Calculando la integral con 1000 divisiones\n",
    "n2=1000\n",
    "resultado_trapecio_1000 =trapecio(funcion,a, b, n2)\n",
    "resultado_simpson_1000 =simpson(funcion,a, b, n2)\n",
    "\n",
    "# Resultados\n",
    "print(f\"Trapecio con 100 divisiones: {resultado_trapecio_100}\")\n",
    "print(f\"Simpson con 100 divisiones: {resultado_simpson_100}\")\n",
    "print(f\"Trapecio con 1000 divisiones: {resultado_trapecio_1000}\")\n",
    "print(f\"Simpson con 1000 divisiones: {resultado_simpson_1000}\")\n",
    "print('- Con el mismo número de divisiones, los resultados obtenidos de ambas reglas pueden diferir por muy poco, Podemos ver que la regla de Simpson generalmente produce un resultado más cercano al valor exacto de la integral, mientras que la regla del trapecio puede ser menos precisa debido a que en clase vimos que es una aproximación lineal en cada subintervalo.')"
   ]
  },
  {
   "cell_type": "markdown",
   "id": "ac1e1a3f-eed1-452d-a739-d9466c1ccce6",
   "metadata": {},
   "source": [
    "**3. El límite de difracción de un telescopio:** Nuestra capacidad para resolver detalles en observaciones astronómicas está limitada\n",
    "por la difracción de la luz en nuestros telescopios. La luz de las estrellas puede \n",
    "considerarse como si proviniera de una fuente puntual en el infinito. Cuando dicha luz, \n",
    "con una longitud de onda λ, pasa a través de la apertura circular de un telescopio, \n",
    "y es enfocada por el telescopio en el plano focal, produce un patrón de difracción circular.\n",
    "La intensidad de la luz en este patrón de difracción está dada por:\n",
    "$$\n",
    "I(r) = (\\frac{J_1(kr)}{kr})^2,\n",
    "$$\n",
    "donde r es la distancia en el plano focal desde el centro del patrón de difracción, \n",
    "$k = 2π/λ, y J_1(x)$ es una función de Bessel. Las funciones de Bessel J_m(x) están dadas por:\n",
    "$$\n",
    "J_m(x) = (1/π) ∫_0^π cos(mθ - x sin(θ)) dθ,\n",
    "$$\n",
    "donde m es un entero no negativo y x ≥ 0."
   ]
  },
  {
   "cell_type": "markdown",
   "id": "d3824fb2-bdeb-437c-9653-e4844aefda69",
   "metadata": {},
   "source": [
    "a) Escribe una función $J(m, x)$ que calcule el valor de $J_m(x)$ usando la regla de Simpson con $N = 1000$ puntos. Utiliza dicha función en un programa para graficar, en un solo gráfico, las funciones de Bessel $J_0, J_1 y J_2$ como una función de $x$ (de x = 0 a x = 20)."
   ]
  },
  {
   "cell_type": "code",
   "execution_count": null,
   "id": "801610e8-4422-4967-a9bd-25d811ec1bef",
   "metadata": {},
   "outputs": [],
   "source": [
    "# Función para calcular J_m(x) usando la regla de Simpson\n",
    "def J_m(m, x, N=1000):\n",
    "    \"\"\" \n",
    "    Recordemos que \n",
    "    m: Orden de la función de Bessel.\n",
    "    x: Valor de x en el cual calcular J_m(x).\n",
    "    N: Número de divisiones para la integración.\n",
    "    \"\"\"\n",
    "    # Definimos los límites de integración (0 a pi)\n",
    "    a=0\n",
    "    b=np.pi\n",
    "    h=(b - a) / N  \n",
    "\n",
    "    # Definimos a nuestra funcion \n",
    "    def integrand(theta):\n",
    "        return np.cos(m * theta - x * np.sin(theta))\n",
    "\n",
    "    # Usamos la regla de Simpson que vimos en clse: S = h/3 * (f(a) + 4*f(x1) + 2*f(x2) + ... + f(b))\n",
    "    I = integrand(a) + integrand(b)  # Aquí f(a) + f(b)\n",
    "    for k in range(1, N, 2):\n",
    "        I += 4 * integrand(a + k * h)  # Sumamos \n",
    "    for k in range(2, N-1, 2):\n",
    "        I += 2 * integrand(a + k * h)  \n",
    "    \n",
    "    return I * h / 3 / np.pi  # Multiplicamos por h/3 y podemos normalizar con 1/pi\n",
    "\n",
    "# Finalmente graficamos las funciones de Bessel J_0(x), J_1(x), J_2(x)\n",
    "x_vals = np.linspace(0, 20, 500)\n",
    "J_0_vals=[J_m(0, x) for x in x_vals]\n",
    "J_1_vals=[J_m(1, x) for x in x_vals]\n",
    "J_2_vals=[J_m(2, x) for x in x_vals]\n",
    "# Agregamos los ejes y etiquetas.\n",
    "plt.plot(x_vals, J_0_vals, label=r'$J_0(x)$')\n",
    "plt.plot(x_vals, J_1_vals, label=r'$J_1(x)$')\n",
    "plt.plot(x_vals, J_2_vals, label=r'$J_2(x)$')\n",
    "plt.xlabel('x')\n",
    "plt.ylabel(r'$J_m(x)$')\n",
    "plt.title('Funciones de Bessel')\n",
    "plt.legend()\n",
    "plt.grid(True)\n",
    "plt.show()"
   ]
  },
  {
   "cell_type": "markdown",
   "id": "3a90678e-eec0-475b-a790-2154ae07fe7e",
   "metadata": {},
   "source": [
    "b) Compara tus resultados con los proporcionados con la biblioteca de scipy que \n",
    "implementa la regla de Simpson."
   ]
  },
  {
   "cell_type": "code",
   "execution_count": null,
   "id": "5ccfe066-55f1-477e-88ac-0e87d96fa542",
   "metadata": {},
   "outputs": [],
   "source": [
    "# Importamos la función de Bessel J_m desde scipy\n",
    "from scipy.special import jv\n",
    "# Recalculamos las funciones de Bessel usando scipy para compararlas con las que obtuvimos\n",
    "J_0_scipy=[jv(0, x) for x in x_vals]\n",
    "J_1_scipy=[jv(1, x) for x in x_vals]\n",
    "J_2_scipy=[jv(2, x) for x in x_vals]\n",
    "\n",
    "# Graficamos la comparación entre ambas soluciones\n",
    "plt.figure(figsize=(10, 6))\n",
    "\n",
    "# Para J_0(x)\n",
    "plt.subplot(3, 1, 1)  # Primera gráfica en una subdivisión 3x1\n",
    "plt.plot(x_vals, J_0_vals, label='Regla de Simpson', linestyle='dashed')\n",
    "plt.plot(x_vals, J_0_scipy, label='Scipy', linestyle='solid')\n",
    "plt.title('Comparación J_0(x)')\n",
    "plt.legend()\n",
    "plt.grid(True)\n",
    "\n",
    "# Para J_1(x)\n",
    "plt.subplot(3, 1, 2)  # Segunda gráfica\n",
    "plt.plot(x_vals, J_1_vals, label='Regla de Simpson', linestyle='dashed')\n",
    "plt.plot(x_vals, J_1_scipy, label='Scipy', linestyle='solid')\n",
    "plt.title('Comparación J_1(x)')\n",
    "plt.legend()\n",
    "plt.grid(True)\n",
    "\n",
    "# Para J_2(x)\n",
    "plt.subplot(3, 1, 3)  # Tercera gráfica\n",
    "plt.plot(x_vals, J_2_vals, label='Regla de Simpson', linestyle='dashed')\n",
    "plt.plot(x_vals, J_2_scipy, label='Scipy', linestyle='solid')\n",
    "plt.title('Comparación J_2(x)')\n",
    "plt.legend()\n",
    "plt.grid(True)\n",
    "\n",
    "# Mostramos las gráficas\n",
    "plt.tight_layout()  # Para ajustar las gráficas y no se sobrepongan\n",
    "plt.show()\n",
    "\n",
    "print(\"Valores calculados con la regla de Simpson (J_0):\", J_0_vals[:10])\n",
    "print(\"Valores calculados con scipy (J_0):\", J_0_scipy[:10])\n",
    "print('Podemos ver que los valores son casi idénticos con los obtenidos en el inciso anterior')"
   ]
  },
  {
   "cell_type": "markdown",
   "id": "413631cd-f42c-4db9-8ad2-8ed511e64ff3",
   "metadata": {},
   "source": [
    "c) Escribe un segundo programa que haga una gráfica de densidad *(density plot)* de la intensidad del patrón de difracción circular de una fuente de luz puntual con $λ = 500 nm$, en una región cuadrada del plano focal, usando la fórmula dada anteriormente. Su imagen debe cubrir valores de r desde cero hasta aproximadamente $1 μm$. \\\n",
    " Hint: Puede resultarte útil saber que $lim_{x→0} J_1(x)/x = 1/2$."
   ]
  },
  {
   "cell_type": "code",
   "execution_count": null,
   "id": "db173e2b-eede-43eb-a876-a951b3f750d4",
   "metadata": {},
   "outputs": [],
   "source": [
    "# Para este ejercicio me ayudaron por que namas no me salia :(\n",
    "from scipy.special import jv  # Importamos la función de Bessel J_m\n",
    "\n",
    "# Nos dan de parámetros la 'longitud de onda' y la 'k'.\n",
    "longitud_onda=500e-9  # Longitud de onda en metros (500 nm)\n",
    "k= 2 * np.pi / longitud_onda  # Constante k\n",
    "\n",
    "# Definimos el rango para r (desde -1 hasta 1 en ambas direcciones)\n",
    "r_max= 1e-6  # 1 micrómetro\n",
    "N_points= 00  # Resolución de la cuadrícula\n",
    "\n",
    "# Creamos una cuadrícula de valores de x y y\n",
    "x_vals=np.linspace(-r_max, r_max, N_points)\n",
    "y_vals= np.linspace(-r_max, r_max, N_points)\n",
    "X, Y =np.meshgrid(x_vals, y_vals)\n",
    "\n",
    "# Calculamos r para cada punto en la cuadrícula\n",
    "R =np.sqrt(X**2 + Y**2)\n",
    "\n",
    "# Calculamos la intensidad I(r) usando la fórmula dada, evitando división por cero\n",
    "J1_vals =np.array([0.5 if r == 0 else jv(1, k * r) for r in R.flatten()])\n",
    "J1_vals= J1_vals.reshape(R.shape)  # Reformateamos para que coincida con la cuadrícula\n",
    "\n",
    "# Calculamos la intensidad\n",
    "I_vals= np.where(R == 0, 0, (J1_vals / (k * R))**2)  # Evitar divisiones por cero\n",
    "\n",
    "# Hacemos el gráfico de densidad (Me ayudaron mis amigos de compu XD se ve muy bien\n",
    "plt.figure(figsize=(6, 6))\n",
    "plt.imshow(I_vals, extent=[-r_max*1e6, r_max*1e6, -r_max*1e6, r_max*1e6], origin='lower', cmap='inferno')\n",
    "plt.colorbar(label='Intensidad')\n",
    "plt.title('Patrón de difracción circular')\n",
    "plt.xlabel('r (micrómetros)')\n",
    "plt.ylabel('r (micrómetros)')\n",
    "plt.show()"
   ]
  },
  {
   "cell_type": "markdown",
   "id": "49e06b1d-f9b5-45b3-aa47-8145c0d0d04a",
   "metadata": {},
   "source": [
    "**4. Capacidad calorífica de un sólido:** La teoría de sólidos de Debye dice que la capacidad calorífica de un sólido a una temperatura T \n",
    "está dada por:\n",
    "$$\n",
    "C_V = 9Vρk_B (T / θ_D)^3 ∫_0^θ(x^4 e^x) / (e^x - 1)^2 dx,\n",
    "$$\n",
    "donde $V$ es el volumen del sólido, ρ es la densidad numérica de los átomos, \n",
    "$k_B$ es la constante de Boltzmann y $θ_D$ es la llamada temperatura de Debye.\n",
    "\n",
    "a) Escribe una función $C_V(T)$ que calcule la $C_V$ para un valor dado de temperatura, \n",
    "de una muestra que consta de $1000 cm^3$ de cubos de aluminio sólido, con densidad numérica \n",
    "$ρ = 6.022 × 10^28 m^−3$ y temperatura de Debye de $θ_D = 428 K$. \n",
    "Utiliza la cuadratura gaussiana para evaluar la integral, con $N = 50$ puntos muestra."
   ]
  },
  {
   "cell_type": "markdown",
   "id": "4f6a8aba-7c77-4c09-9c20-76033f460809",
   "metadata": {},
   "source": [
    "B) Usa tu función para hacer una gráfica de la capacidad calorífica en función de la temperatura desde $T = 5 K $hasta $T = 500 K.$"
   ]
  },
  {
   "cell_type": "code",
   "execution_count": null,
   "id": "7ceb1e78-c5b0-4ccd-ba92-8ce0e68b97cc",
   "metadata": {},
   "outputs": [],
   "source": [
    "\"\"\"\n",
    "Recordemos que scipy tiene en su libreria la funcion roots_legendre es una función de SciPy que se utiliza para calcular\n",
    "los puntos de abscisas y los pesos correspondientes necesarios para realizar cuadratura gaussiana con polinomios de Legendre. Esto nos será sencillo \n",
    "para este ejercicio.\n",
    "Abscisas: Los puntos donde se evaluará la función para la integración.\n",
    "Pesos: Los coeficientes w_i que se multiplican por los valores de la función evaluada en esos puntos.\n",
    "\"\"\"\n",
    "from scipy.special import roots_legendre\n",
    "# Parámetros del problema\n",
    "V =1000 * (100)**3  # volumen en cm^3 a m^3\n",
    "rho=6.022 * 10**28  # densidad numérica de los átomos (m^-3)\n",
    "kB =1.380649e-23  # constante de Boltzmann en J/K\n",
    "theta_D=428  # temperatura de Debye en K\n",
    "\n",
    "# Función para el integrando de la capacidad calorífica\n",
    "def integrand_CV(x):\n",
    "    return (x**4 * np.exp(x)) / (np.exp(x) - 1)**2\n",
    "\n",
    "# Función para calcular la capacidad calorífica C_V(T)\n",
    "def C_V(T, N=50):\n",
    "\n",
    "    # Convertimos a unidades de theta_D/T\n",
    "    x_vals, w_vals = roots_legendre(N)\n",
    "    x_vals=(x_vals + 1) / 2 * theta_D / T  # Reescalamos para el intervalo 0 a theta_D/T\n",
    "    integral =sum(w * integrand_CV(x) for w, x in zip(w_vals, x_vals)) * (theta_D / T) / 2\n",
    "\n",
    "    # Calculamos C_V(T)\n",
    "    C_V = 9 * V * rho * kB * (T / theta_D)**3 * integral\n",
    "    return C_V\n",
    "\n",
    "# Graficar C_V en el rango de temperaturas desde 5 K hasta 500 K\n",
    "T_vals=np.linspace(5, 500, 100)\n",
    "C_V_vals=[C_V(T) for T in T_vals]\n",
    "\n",
    "plt.plot(T_vals, C_V_vals)\n",
    "plt.xlabel('Temperatura (K)')\n",
    "plt.ylabel(r'$C_V(T)$')\n",
    "plt.title('Capacidad calorífica en función de la temperatura')\n",
    "plt.grid(True)\n",
    "plt.show()"
   ]
  },
  {
   "cell_type": "markdown",
   "id": "216ae3d4-0b09-42f0-9d9c-083dff4db7e8",
   "metadata": {},
   "source": [
    "Llevo Estado Sólido y la gráfica coincide con la literatura, pues a bajas temperaturas se tiene un comportamiento cúbico, mientras que a altas temperaturas se llega auna constante igual a 3NKBT"
   ]
  },
  {
   "cell_type": "markdown",
   "id": "787885a5-21a8-46ea-a297-aca17a8e38e7",
   "metadata": {},
   "source": [
    "**Atracción gravitacional de una lamina uniforme:** Una lámina de metal cuadrada uniforme flota inmóvil en el espacio:\n",
    "La lámina mide $10 m$ de lado, tiene un espesor insignificante y una masa de 10 toneladas.\n",
    "\n",
    "a) Considera la fuerza gravitacional debida a la placa que siente una masa puntual de $1 kg$ \n",
    "a una distancia z del centro del cuadrado, en dirección perpendicular a la lámina, como se muestra\n",
    "en la figura. Demuestra que el componente de la fuerza a lo largo del eje z es:\n",
    "$$\n",
    "F_z = Gσz ∫∫ dx dy / (x^2 + y^2 + z^2)^(3/2),\n",
    "$$\n",
    "donde $G = 6.674 × 10^−11 m^3 kg^−1 s^−2$ es la constante gravitacional de Newton, \n",
    "y $σ$ es la masa por unidad de área de la hoja."
   ]
  },
  {
   "cell_type": "markdown",
   "id": "c82eac55-1f8f-40d3-8770-b769b8318fae",
   "metadata": {},
   "source": [
    "* Para ver la solución de este problema siga el enlace siguiente: \n",
    "[Solución al inciso a)](https://acrobat.adobe.com/id/urn:aaid:sc:VA6C2:34135582-b902-4b1e-ac02-fc29eb6f7a30)"
   ]
  },
  {
   "cell_type": "markdown",
   "id": "8fa59964-b123-4fa2-88ed-d0464f41d40f",
   "metadata": {},
   "source": [
    "b) Escribe un programa para calcular y graficar la fuerza en función de $z$ desde $z = 0$ \n",
    "hasta $z = 10 m$. Para la integral doble utiliza la cuadratura Gaussiana (doble):\n",
    "$$\n",
    "I ≈ ∑∑_{i=1}^N ω_iω_j f(x_i, y_j),\n",
    "$$\n",
    "con 100 puntos de muestra a lo largo de cada eje."
   ]
  },
  {
   "cell_type": "code",
   "execution_count": null,
   "id": "60c57eb4-ce8c-4c1c-b873-bd1fdae80e87",
   "metadata": {},
   "outputs": [],
   "source": [
    "import numpy as np\n",
    "import matplotlib.pyplot as plt\n",
    "\n",
    "# Definimos las constantes que usaremos.\n",
    "G=6.67430e-11  # Constante gravitacional en m^3 kg^-1 s^-2\n",
    "M=10_000  # Masa total de la lámina en kg (10 toneladas)\n",
    "L=10  # Longitud del lado de la lámina en metros\n",
    "sigma= M / L**2  # Densidad superficial de masa\n",
    "N=100  # Número de puntos en cada eje para la integración (100 puntos a lo largo de x y y)\n",
    "\n",
    "# Definimos los límites de integración (la lámina va de -L/2 a L/2 en ambos ejes x e y)\n",
    "x_vals=np.linspace(-L/2, L/2, N)  # Usamos valores discretos pues pensamos que la lamina se divide en una malla de n x n puntos a lo lardo de x y y.\n",
    "y_vals=np.linspace(-L/2, L/2, N)\n",
    "dx=x_vals[1] - x_vals[0]  # Diferencial de x\n",
    "dy=y_vals[1] - y_vals[0]  # Diferencial de y\n",
    "\n",
    "# Hacemos una función que representa la expresión diferencial de F_z, es decir la componente de la fuerza gravitacional diferencial en la dirección z como vimos en el inciso a).\n",
    "def dF_z(x, y, z):\n",
    "    r=np.sqrt(x**2 + y**2 + z**2)  # Distancia entre el punto (x, y) de la lámina y la masa puntual\n",
    "    return G * sigma * z / r**3  # Componente de la fuerza en la dirección z\n",
    "\n",
    "# Calculamos la fuerza F_z para diferentes valores de z\n",
    "z_vals=np.linspace(0.1, 10, 100)  # Valores de z desde 0.1 m hasta 10 m (no usamos z=0 por división entre 0)\n",
    "F_z_vals=[]\n",
    "\n",
    "# Con un cuclo 'for' para cada valor de z, calcular la fuerza F_z\n",
    "for z in z_vals:\n",
    "    F_z=0  # Inicializamos la fuerza en 0\n",
    "    for x in x_vals:\n",
    "        for y in y_vals:\n",
    "            F_z +=dF_z(x, y, z) * dx * dy  # Sumamos la contribución de cada pequeña área diferencial\n",
    "    F_z_vals.append(F_z)  # Guardamos el valor de la fuerza para este z\n",
    "\n",
    "# Graficamos la fuerza F_z en función de z\n",
    "plt.plot(z_vals, F_z_vals)\n",
    "plt.xlabel('Distancia z (m)')\n",
    "plt.ylabel('Fuerza gravitacional F_z (N)')\n",
    "plt.title('Fuerza gravitacional F_z en función de z')\n",
    "plt.grid(True)\n",
    "plt.show()"
   ]
  },
  {
   "cell_type": "markdown",
   "id": "b8a438c2-7dd6-4a91-ab6f-0f6e46eed522",
   "metadata": {},
   "source": [
    "c) Deberías ver una curva suave, excepto en valores muy pequeños de z, \n",
    "donde la fuerza debería caer repentinamente a cero. \n",
    "Esta caída no es un efecto real, sino un artefacto de la forma en que hemos realizado el cálculo.\n",
    "Explica brevemente de dónde viene este artefacto y sugiere una estrategia para eliminarlo \n",
    "o al menos disminuir su tamaño."
   ]
  },
  {
   "cell_type": "markdown",
   "id": "637160c0-eb52-49e7-85d4-67fe27146273",
   "metadata": {},
   "source": [
    "Con la curva que vemos en $b)$ podemos notar que para valores muy pequeños de $z$, la fuerza cae rapidamente. Este \"artefacto\" puede venir de que estamos aproximando la integral y no tenemos un límite como tal. Cerca de $z=0$, recordemos que la expresión de la fuerza tiene un término $r=\\sqrt(x^2+y^2+z^2)^3/2$, lo cual genera problemas cuando $r$ es muy pequeño, pues la expresión se va a infinito. Cuando $z$ tiende a $0$, los valores de $r$ tambien tienden a cero, y esto genera un 'pico' virtual en nuesttros resultados."
   ]
  },
  {
   "cell_type": "code",
   "execution_count": null,
   "id": "d6c7dada-c5f5-46a3-9485-32c1b3c3ff1a",
   "metadata": {},
   "outputs": [],
   "source": []
  }
 ],
 "metadata": {
  "kernelspec": {
   "display_name": "Python 3 (ipykernel)",
   "language": "python",
   "name": "python3"
  },
  "language_info": {
   "codemirror_mode": {
    "name": "ipython",
    "version": 3
   },
   "file_extension": ".py",
   "mimetype": "text/x-python",
   "name": "python",
   "nbconvert_exporter": "python",
   "pygments_lexer": "ipython3",
   "version": "3.12.4"
  }
 },
 "nbformat": 4,
 "nbformat_minor": 5
}
