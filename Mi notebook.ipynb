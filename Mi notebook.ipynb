{
 "cells": [
  {
   "cell_type": "markdown",
   "id": "e4bd8238-0c18-4658-a3a5-101544c62559",
   "metadata": {},
   "source": [
    "## Mi primer Notebook . Rodriguez Rodriguez Ian Alam. *Física Computacional* 8245"
   ]
  },
  {
   "cell_type": "markdown",
   "id": "db205d22-69fa-4aed-9ffd-df374f2496a5",
   "metadata": {},
   "source": [
    "**En este notebook voy a probar las cosas que voy aprendiendo para no olvidarlo en 6 meses xD**"
   ]
  },
  {
   "cell_type": "markdown",
   "id": "de16dfff-d276-4b3a-bb60-d6df04ae45ee",
   "metadata": {},
   "source": [
    "#### 1. MARKDOWN"
   ]
  },
  {
   "cell_type": "markdown",
   "id": "078a6e71-e9ef-45aa-b942-04bd029a04b1",
   "metadata": {},
   "source": [
    "Me parece que si ahora quiero hacer una lista queda como:\n",
    "- Ecuación de Schrodinger\n",
    "- El campo en una esfera\n",
    "- Milagros del universo\n",
    "\n",
    "\n"
   ]
  },
  {
   "cell_type": "markdown",
   "id": "05ac6688-ca06-4d11-8b31-5ae9e2b6c148",
   "metadata": {},
   "source": [
    "Y si ahora quiero hacer con números solo hay que *numerarlos*, no olvidemos el **espacio** entre ambos.\n",
    "1. No aguanto\n",
    "2. Muero de sueño\n",
    "3. Mañana me levanto a las 6 ptm"
   ]
  },
  {
   "cell_type": "markdown",
   "id": "bd1b02a6-8cc6-44e4-8c83-f596d6e4b630",
   "metadata": {},
   "source": [
    "Si ahora quiero dejar un espacio entre lineas, creo que es con '>':\n",
    ">\n",
    "Y ahora no se si funcione usar más\n",
    ">omggggg si funcionó, cuando pongo el coso '>' enseguida de la frase hace un espacio raro, y entre mas '>>>' más espacios.\n"
   ]
  },
  {
   "cell_type": "markdown",
   "id": "0c4448eb-143e-4bd4-8916-7d0e2e1f09fc",
   "metadata": {},
   "source": [
    "Si ahora quiero dividir mi página pongo '---' tres guiones."
   ]
  },
  {
   "cell_type": "markdown",
   "id": "03950cb5-b4db-4935-b85f-70cf0e24a6b2",
   "metadata": {},
   "source": [
    "---"
   ]
  },
  {
   "cell_type": "markdown",
   "id": "f926c9fd-8906-4000-af6f-5c7d023419a6",
   "metadata": {},
   "source": [
    "Creo que poner `Hola` resalta la palabra. Como si fuese de `código`."
   ]
  },
  {
   "cell_type": "markdown",
   "id": "538e944e-e192-4a4f-bbc3-f668aad6c7a8",
   "metadata": {},
   "source": [
    "Para escribir ecuaciones usamos los signos de dolar '$$':\n",
    "1.  $4 - 2+5$"
   ]
  },
  {
   "cell_type": "markdown",
   "id": "aeb8e98e-fca1-4c48-8c5b-212d7290a9e9",
   "metadata": {},
   "source": [
    "#### 2. Código"
   ]
  },
  {
   "cell_type": "code",
   "execution_count": 1,
   "id": "8f932854-2700-402b-b78a-565ac69daf4b",
   "metadata": {},
   "outputs": [],
   "source": [
    "from numpy import *"
   ]
  },
  {
   "cell_type": "markdown",
   "id": "be83bcb5-391f-4e65-ba61-48716e43fd50",
   "metadata": {},
   "source": [
    "Una matriz es un arreglo de vectores, para hacer el producto punto entre ellos hacemos un producto de entrada por entrada. Definimos un vector columna para hacer el producto con otro elemento de otra matriz. Definamos primero:"
   ]
  },
  {
   "cell_type": "markdown",
   "id": "258d5c27-59df-4c07-a77a-7960d42180c4",
   "metadata": {},
   "source": [
    "$(x,y)*(a,b)=xa+yb$"
   ]
  },
  {
   "cell_type": "markdown",
   "id": "ea868769-0a2c-4530-893e-676c2d42fc93",
   "metadata": {},
   "source": [
    "EL vector de la izquierda siempre va acostado y el que le sigue a multiplicar va parado. \n",
    ">\n",
    "Podemos hacer esto sin necesidad de bibliotecas."
   ]
  },
  {
   "cell_type": "markdown",
   "id": "9ad34f69-f3d5-4b21-a862-d0d404966584",
   "metadata": {},
   "source": [
    "---"
   ]
  },
  {
   "cell_type": "markdown",
   "id": "5eeee5c0-a825-4bfe-a3af-b1299a7fee88",
   "metadata": {},
   "source": [
    "Definamos el producto punto de dos vectores:"
   ]
  },
  {
   "cell_type": "code",
   "execution_count": 3,
   "id": "4997b151-222b-43a4-92fe-de1680bc86b6",
   "metadata": {},
   "outputs": [],
   "source": [
    "v1=[1,2,3,4]\n",
    "v2=[5,6,7,8]"
   ]
  },
  {
   "cell_type": "code",
   "execution_count": 4,
   "id": "032b6f42-1364-4cd6-9016-39ee1afd3beb",
   "metadata": {},
   "outputs": [
    {
     "data": {
      "text/plain": [
       "[1, 2, 3, 4]"
      ]
     },
     "execution_count": 4,
     "metadata": {},
     "output_type": "execute_result"
    }
   ],
   "source": [
    "v1"
   ]
  },
  {
   "cell_type": "code",
   "execution_count": 5,
   "id": "941012f3-a4a3-4a91-90b6-8c2c34daabde",
   "metadata": {},
   "outputs": [
    {
     "data": {
      "text/plain": [
       "[5, 6, 7, 8]"
      ]
     },
     "execution_count": 5,
     "metadata": {},
     "output_type": "execute_result"
    }
   ],
   "source": [
    "v2"
   ]
  },
  {
   "cell_type": "code",
   "execution_count": 6,
   "id": "3130d844-aab4-44a9-93df-4f148fe063db",
   "metadata": {
    "jupyter": {
     "source_hidden": true
    }
   },
   "outputs": [
    {
     "name": "stdout",
     "output_type": "stream",
     "text": [
      "depende cuanto le ponga\n",
      "depende cuanto le ponga\n",
      "depende cuanto le ponga\n",
      "depende cuanto le ponga\n"
     ]
    }
   ],
   "source": [
    "for i in range(4):\n",
    "    v1[i]*v2[i]\n",
    "    print(\"depende cuanto le ponga\")"
   ]
  },
  {
   "cell_type": "code",
   "execution_count": 7,
   "id": "b6a8b219-8c85-4207-9b26-06fede7912a2",
   "metadata": {},
   "outputs": [
    {
     "name": "stdout",
     "output_type": "stream",
     "text": [
      "depende cuanto le ponga 0\n",
      "depende cuanto le ponga 1\n",
      "depende cuanto le ponga 2\n",
      "depende cuanto le ponga 3\n"
     ]
    }
   ],
   "source": [
    "for i in range(4):\n",
    "    v1[i]*v2[i]\n",
    "    print(\"depende cuanto le ponga\",i)"
   ]
  },
  {
   "cell_type": "code",
   "execution_count": 8,
   "id": "5b655c56-1b9e-4ce7-8c49-d8a970fe166d",
   "metadata": {
    "scrolled": true
   },
   "outputs": [
    {
     "name": "stdout",
     "output_type": "stream",
     "text": [
      "1\n",
      "2\n"
     ]
    }
   ],
   "source": [
    "for i in range(2):\n",
    "    v1[i]*v2[i]\n",
    "    print(v1[i])"
   ]
  },
  {
   "cell_type": "markdown",
   "id": "5796e3a8-1691-4645-bf7b-21050a7c2ff2",
   "metadata": {},
   "source": [
    "Range nos pone un rango, decir range(3) es igual a poner [1,2,3]"
   ]
  },
  {
   "cell_type": "code",
   "execution_count": 9,
   "id": "c4e5066a-ec69-472e-b9f3-692b880e8d97",
   "metadata": {},
   "outputs": [],
   "source": [
    "r= range(13)"
   ]
  },
  {
   "cell_type": "code",
   "execution_count": 10,
   "id": "fc461c7a-c27c-49b1-bf42-1b84ed97e0ce",
   "metadata": {},
   "outputs": [
    {
     "data": {
      "text/plain": [
       "range(0, 13)"
      ]
     },
     "execution_count": 10,
     "metadata": {},
     "output_type": "execute_result"
    }
   ],
   "source": [
    "r"
   ]
  },
  {
   "cell_type": "markdown",
   "id": "cc6d1df5-00af-4cce-babe-bb37a4161b75",
   "metadata": {},
   "source": [
    "Si tenemos una lista de [0,1] tiene dos elementos, por lo que lo va a imprimir dos veces."
   ]
  },
  {
   "cell_type": "code",
   "execution_count": 11,
   "id": "c7eb0502-b033-4fa0-abf7-0aec230f80bc",
   "metadata": {},
   "outputs": [
    {
     "name": "stdout",
     "output_type": "stream",
     "text": [
      "algo\n",
      "algo\n"
     ]
    }
   ],
   "source": [
    "for i in [0,1]:\n",
    "    print(\"algo\")"
   ]
  },
  {
   "cell_type": "code",
   "execution_count": 12,
   "id": "fce96910-426f-4de2-8c3b-f4d01df11da5",
   "metadata": {},
   "outputs": [],
   "source": [
    "r=range(4)"
   ]
  },
  {
   "cell_type": "markdown",
   "id": "710f2aba-9c0c-4110-b777-23cb95ac099d",
   "metadata": {},
   "source": [
    "Para cuando definamos una variable el código solo tomara en cuenta el último valor de r."
   ]
  },
  {
   "cell_type": "code",
   "execution_count": 15,
   "id": "9e0b8877-4dac-4d8f-b162-61bbbd0f67f2",
   "metadata": {},
   "outputs": [],
   "source": [
    "r=[\"[1,2,3]\",0.2,v2,3*8]\n",
    "r=[1,2,3,4]"
   ]
  },
  {
   "cell_type": "code",
   "execution_count": 16,
   "id": "26031930-fce4-4a28-9e15-6cf67f4eb218",
   "metadata": {},
   "outputs": [
    {
     "name": "stdout",
     "output_type": "stream",
     "text": [
      "1\n",
      "2\n",
      "3\n",
      "4\n"
     ]
    }
   ],
   "source": [
    "for x in r:\n",
    "    print(x)"
   ]
  },
  {
   "cell_type": "markdown",
   "id": "a5818786-1400-4516-adde-87dc7a6d8d46",
   "metadata": {},
   "source": [
    "Regresemos a es importante saber donde ponemos la i"
   ]
  },
  {
   "cell_type": "code",
   "execution_count": 18,
   "id": "f48c5612-9d93-4cab-b295-c0e63bd4d5e9",
   "metadata": {},
   "outputs": [
    {
     "name": "stdout",
     "output_type": "stream",
     "text": [
      "3 5\n",
      "3 6\n",
      "3 7\n"
     ]
    }
   ],
   "source": [
    "for i in range(3):\n",
    "   print(v1[2],v2[i])\n",
    "  #  print(v2[i])"
   ]
  },
  {
   "cell_type": "code",
   "execution_count": 19,
   "id": "5181846b-563b-44e1-a132-a88896710c32",
   "metadata": {},
   "outputs": [
    {
     "data": {
      "text/plain": [
       "4"
      ]
     },
     "execution_count": 19,
     "metadata": {},
     "output_type": "execute_result"
    }
   ],
   "source": [
    "len(v1)"
   ]
  },
  {
   "cell_type": "code",
   "execution_count": 21,
   "id": "88d25d49-7f9c-46a4-bea3-eb70195eba18",
   "metadata": {},
   "outputs": [
    {
     "name": "stdout",
     "output_type": "stream",
     "text": [
      "0\n",
      "1\n",
      "2\n",
      "3\n"
     ]
    }
   ],
   "source": [
    "for i in range(len(v1)):\n",
    "    print(i)"
   ]
  },
  {
   "cell_type": "markdown",
   "id": "70dd7722-e1cc-489b-8780-7f708a70ad5a",
   "metadata": {},
   "source": [
    "SI cambiamos el v2 como:"
   ]
  },
  {
   "cell_type": "code",
   "execution_count": 38,
   "id": "aa82f6d9-afde-433b-9114-a8a15a563daa",
   "metadata": {},
   "outputs": [],
   "source": [
    "v1=[1,2,3,4]\n",
    "v2=[5,6,7,8,9]"
   ]
  },
  {
   "cell_type": "code",
   "execution_count": 23,
   "id": "02141d4c-9443-4a61-93d1-6f08c6ece3a1",
   "metadata": {},
   "outputs": [
    {
     "name": "stdout",
     "output_type": "stream",
     "text": [
      "15\n",
      "18\n",
      "21\n",
      "24\n"
     ]
    }
   ],
   "source": [
    "for i in range(len(v1)):\n",
    "    print(v1[2]*v2[i])"
   ]
  },
  {
   "cell_type": "markdown",
   "id": "6475b0d9-9180-4f6f-89ba-309dcf8c3c70",
   "metadata": {},
   "source": [
    "Creemos un v3 vacío."
   ]
  },
  {
   "cell_type": "code",
   "execution_count": 31,
   "id": "c6d726a6-df27-48e2-bb78-f1fe13a7e32b",
   "metadata": {},
   "outputs": [],
   "source": [
    "v3=[]"
   ]
  },
  {
   "cell_type": "markdown",
   "id": "02b99479-c80c-4c69-bdfa-39ab30c3cdb0",
   "metadata": {},
   "source": []
  },
  {
   "cell_type": "code",
   "execution_count": 36,
   "id": "fdbbb55f-c3ba-42a5-9b48-cc4e8b809bef",
   "metadata": {},
   "outputs": [
    {
     "name": "stdout",
     "output_type": "stream",
     "text": [
      "70\n"
     ]
    }
   ],
   "source": [
    "auxiliar = 0\n",
    "m=0\n",
    "for i in range(len(v1)):\n",
    "  #  print(v1[i]*v2[i])\n",
    "    m=m+v1[i]*v2[i]\n",
    "    v3.append(m)\n",
    "print(m)"
   ]
  },
  {
   "cell_type": "code",
   "execution_count": 39,
   "id": "c80dc3df-9768-4246-922e-214fb2799848",
   "metadata": {},
   "outputs": [
    {
     "data": {
      "text/plain": [
       "[5, 17, 38, 70]"
      ]
     },
     "execution_count": 39,
     "metadata": {},
     "output_type": "execute_result"
    }
   ],
   "source": [
    "v3"
   ]
  },
  {
   "cell_type": "code",
   "execution_count": 42,
   "id": "445c2637-0405-4663-8095-19648e2eaa3b",
   "metadata": {
    "scrolled": true
   },
   "outputs": [
    {
     "name": "stdout",
     "output_type": "stream",
     "text": [
      "70\n",
      "32\n",
      "70\n"
     ]
    }
   ],
   "source": [
    "v3=[]\n",
    "#auxiliar=0\n",
    "m=0\n",
    "m1=0\n",
    "m2=0\n",
    "for i in range(len(v1)):\n",
    "    m=m+v1[i]*v2[i]\n",
    "    m1=+v1[i]*v2[i]     #dice asigna y suma, la informacion de atras se pierde\n",
    "    m2+=v1[i]*v2[i]    #este es equivalemte a m\n",
    "\n",
    "    v3.append(m)\n",
    "print(m)\n",
    "print(m1)\n",
    "print(m2)\n"
   ]
  },
  {
   "cell_type": "code",
   "execution_count": 51,
   "id": "1984cacf-a6f2-43c1-a2aa-83ae98388926",
   "metadata": {},
   "outputs": [
    {
     "name": "stdout",
     "output_type": "stream",
     "text": [
      "70\n"
     ]
    }
   ],
   "source": [
    "m=0\n",
    "for i in range(len(v1)):\n",
    "    m= m+ v1[i]*v2[i]\n",
    "print(m)"
   ]
  },
  {
   "cell_type": "markdown",
   "id": "bd5fbe6e-6b36-4418-b867-4a97e4f0bcc4",
   "metadata": {},
   "source": [
    "---"
   ]
  },
  {
   "cell_type": "markdown",
   "id": "04223209-8e6a-48d4-9f18-657f26bc2237",
   "metadata": {},
   "source": [
    "Vector de rang-n por vector de rango-m"
   ]
  },
  {
   "cell_type": "code",
   "execution_count": 60,
   "id": "5723d908-b9aa-46ca-bd3b-2ba67b64b20d",
   "metadata": {},
   "outputs": [],
   "source": [
    "v5=[2,1,3,4,6,7]\n",
    "v6=[5,4,1,2,3,4,3]"
   ]
  },
  {
   "cell_type": "code",
   "execution_count": 63,
   "id": "4ddfabdf-9c4c-490b-96a5-7bab3bbd48fb",
   "metadata": {},
   "outputs": [
    {
     "name": "stdout",
     "output_type": "stream",
     "text": [
      "71\n"
     ]
    }
   ],
   "source": [
    "v7=[]\n",
    "x=0\n",
    "for j in range(len(v5)):\n",
    "    x= x+v5[j]*v6[j]\n",
    "    v7.append(x)\n",
    "print(x)"
   ]
  },
  {
   "cell_type": "markdown",
   "id": "214ef676-a2b5-4196-b8fd-6f1baa3a2b25",
   "metadata": {},
   "source": [
    "Matriz por vector"
   ]
  },
  {
   "cell_type": "code",
   "execution_count": 77,
   "id": "92bfa501-62ae-4f31-ba5d-9d194dc3dc69",
   "metadata": {},
   "outputs": [],
   "source": [
    "M=[[2,3,4],[3,2,1],[2,1,3]]\n",
    "v8=[1,1,2,4]\n"
   ]
  },
  {
   "cell_type": "code",
   "execution_count": 71,
   "id": "37be3889-518d-4503-a3eb-3a2d076b9ee8",
   "metadata": {},
   "outputs": [
    {
     "data": {
      "text/plain": [
       "3"
      ]
     },
     "execution_count": 71,
     "metadata": {},
     "output_type": "execute_result"
    }
   ],
   "source": [
    "len(M)"
   ]
  },
  {
   "cell_type": "code",
   "execution_count": 13,
   "id": "c77ae6d7-f5ff-49e4-a3f2-b6d84b15312f",
   "metadata": {},
   "outputs": [
    {
     "ename": "IndentationError",
     "evalue": "unexpected indent (2295644898.py, line 4)",
     "output_type": "error",
     "traceback": [
      "\u001b[0;36m  Cell \u001b[0;32mIn[13], line 4\u001b[0;36m\u001b[0m\n\u001b[0;31m    for i in range(len(v8)\u001b[0m\n\u001b[0m    ^\u001b[0m\n\u001b[0;31mIndentationError\u001b[0m\u001b[0;31m:\u001b[0m unexpected indent\n"
     ]
    }
   ],
   "source": [
    "v9=[]\n",
    "for i in range(len(M)):\n",
    "    y=0\n",
    "        for i in range(len(v8)\n",
    "            y= y+ M[i]*v8[i]\n",
    "    v9.append(y)\n",
    "print(y)"
   ]
  },
  {
   "cell_type": "markdown",
   "id": "094cce09-f194-4de3-8c3b-c6b0dd9c1a3d",
   "metadata": {},
   "source": [
    "Profesor: Primero necesitamos una variable contadora"
   ]
  },
  {
   "cell_type": "code",
   "execution_count": 79,
   "id": "5d2c5e94-b286-4472-9671-28e1404d3b62",
   "metadata": {},
   "outputs": [],
   "source": [
    "d=3"
   ]
  },
  {
   "cell_type": "code",
   "execution_count": 85,
   "id": "7a0ad3b3-62db-40c7-8b49-92d8db6ec5e6",
   "metadata": {},
   "outputs": [],
   "source": [
    "v1=range(d)\n",
    "v2=range(d)\n"
   ]
  },
  {
   "cell_type": "code",
   "execution_count": 86,
   "id": "129fb2b7-6902-4df9-af81-a9fdd8c63773",
   "metadata": {},
   "outputs": [
    {
     "name": "stdout",
     "output_type": "stream",
     "text": [
      "5\n"
     ]
    }
   ],
   "source": [
    "m=0\n",
    "for i in range(d):\n",
    "    m= m+ v1[i]*v2[i]\n",
    "print(m)"
   ]
  },
  {
   "cell_type": "markdown",
   "id": "b9b7de0a-38ae-423b-9844-2cb9692572b5",
   "metadata": {},
   "source": [
    "Definimos una funcion y metemos los valores."
   ]
  },
  {
   "cell_type": "code",
   "execution_count": 88,
   "id": "fc54cf47-201c-4675-8c36-8fda393480de",
   "metadata": {},
   "outputs": [],
   "source": [
    "v1=[1,2,3,4,5]\n",
    "v2=[5,6,7,8,9]"
   ]
  },
  {
   "cell_type": "code",
   "execution_count": 91,
   "id": "53d10852-fb24-4e47-88e5-6d300cac52cf",
   "metadata": {},
   "outputs": [],
   "source": [
    "def punto(d1,v1,v2):\n",
    "    d=len(v1)\n",
    "    m=0\n",
    "    for i in range(d):\n",
    "        m=m+v1[i]*v2[i]\n",
    "    return(m)"
   ]
  },
  {
   "cell_type": "code",
   "execution_count": 92,
   "id": "4925074a-30d5-4e44-b2be-769401f915fd",
   "metadata": {},
   "outputs": [
    {
     "data": {
      "text/plain": [
       "115"
      ]
     },
     "execution_count": 92,
     "metadata": {},
     "output_type": "execute_result"
    }
   ],
   "source": [
    "punto(5,v1,v2)"
   ]
  },
  {
   "cell_type": "markdown",
   "id": "d1f62a42-dbd9-4860-b66b-14855dc90458",
   "metadata": {},
   "source": [
    "---"
   ]
  },
  {
   "cell_type": "markdown",
   "id": "364452c2-655b-4e95-9545-9fc89b70977b",
   "metadata": {},
   "source": [
    "---"
   ]
  },
  {
   "cell_type": "markdown",
   "id": "7386221a-fe14-4e4d-b073-d6d0801170c5",
   "metadata": {},
   "source": [
    "## Arreglos, listas, matrices. 15/08/24"
   ]
  },
  {
   "cell_type": "code",
   "execution_count": 3,
   "id": "1c49b2f8-5a4a-40ab-ad0b-40114d38c90d",
   "metadata": {},
   "outputs": [
    {
     "name": "stdout",
     "output_type": "stream",
     "text": [
      "0 0 0 0 0 0  \n",
      "0 0 0 0 0 0  \n",
      "0 0 0 0 0 0  \n",
      "0 0 0 0 0 0  \n",
      "0 0 0 0 0 0  \n",
      "0 0 0 0 0 0  \n",
      "\n",
      "\n",
      "(1,1)  (1,2)  (1,3)  (1,4)  (1,5)  (1,6)   \n",
      "(2,1)  (2,2)  (2,3)  (2,4)  (2,5)  (2,6)   \n",
      "(3,1)  (3,2)  (3,3)  (3,4)  (3,5)  (3,6)   \n",
      "(4,1)  (4,2)  (4,3)  (4,4)  (4,5)  (4,6)   \n",
      "(5,1)  (5,2)  (5,3)  (5,4)  (5,5)  (5,6)   \n",
      "(6,1)  (6,2)  (6,3)  (6,4)  (6,5)  (6,6)   \n"
     ]
    }
   ],
   "source": [
    "# Matriz de (6x6)\n",
    "for i in range(1,7):\n",
    "    for j in range(1,7):\n",
    "        print(0, end = ' ')\n",
    "    print(' ')\n",
    "\n",
    "print ('\\n')\n",
    "\n",
    "for i in range(1,7):\n",
    "    for j in range(1,7):\n",
    "        print(f'({i},{j})', end = '  ')\n",
    "    print(' ')"
   ]
  },
  {
   "cell_type": "code",
   "execution_count": 9,
   "id": "c5782c71-e180-42b6-9514-39208383bebe",
   "metadata": {},
   "outputs": [
    {
     "name": "stdout",
     "output_type": "stream",
     "text": [
      "40\n",
      "120\n",
      "240\n",
      "400\n",
      "600\n",
      "[40, 120, 240, 400, 600]\n"
     ]
    }
   ],
   "source": [
    "# Vector por vector\n",
    "v2=[]\n",
    "v=(1,2,3,4,5)\n",
    "v1=(6,7,8,9,10)\n",
    "n=0\n",
    "\n",
    "for i in range(len(v)):\n",
    "    for j in range(len(v1)):\n",
    "        n = n+ v[i]*v1[j]\n",
    "    print(n)\n",
    "    v2.append(n)\n",
    "print(v2)\n",
    "    \n",
    "\n"
   ]
  },
  {
   "cell_type": "code",
   "execution_count": 10,
   "id": "98154d9e-8a33-4feb-8a9f-8dbf396062f4",
   "metadata": {},
   "outputs": [
    {
     "name": "stdout",
     "output_type": "stream",
     "text": [
      "130\n",
      "260\n",
      "390\n",
      "520\n",
      "650\n",
      "[130, 260, 390, 520, 650]\n"
     ]
    }
   ],
   "source": [
    "v2=[]\n",
    "v=(1,2,3,4,5)\n",
    "v1=(6,7,8,9,10)\n",
    "n=0\n",
    "\n",
    "for i in range(len(v)):\n",
    "    for i in range(len(v1)):\n",
    "        n = n+ v[i]*v1[i]\n",
    "    print(n)\n",
    "    v2.append(n)\n",
    "print(v2)\n",
    "    "
   ]
  },
  {
   "cell_type": "code",
   "execution_count": 12,
   "id": "977cacd7-7cc9-4a93-ae9c-75de90680bec",
   "metadata": {},
   "outputs": [
    {
     "name": "stdout",
     "output_type": "stream",
     "text": [
      "130\n"
     ]
    }
   ],
   "source": [
    "#Otra forma de hacer vector con vector\n",
    "v=(1,2,3,4,5)\n",
    "u=(6,7,8,9,10)\n",
    "r=0\n",
    "\n",
    "# hacer n veces (i) con i la variable contadora\n",
    "for i in range(len(v)):\n",
    "    r=0\n",
    "    for i in range(len(u)):\n",
    "     r= r + v[i]*u[i]\n",
    "print(r)"
   ]
  },
  {
   "cell_type": "code",
   "execution_count": 30,
   "id": "ec138311-c5d7-4841-bdb0-a211a7f376bc",
   "metadata": {},
   "outputs": [
    {
     "name": "stdout",
     "output_type": "stream",
     "text": [
      "[14, 10, 13, 11]\n"
     ]
    }
   ],
   "source": [
    "# Matriz por vector\n",
    "A=[[1,2,3],[3,2,1],[2,1,3],[3,1,2]]  #4 filas y 3 columnas\n",
    "V=(1,2,3)\n",
    "t=0\n",
    "vn=[]\n",
    "# Itera sobre cada fila de la matriz A\n",
    "for i in range(len(A)):\n",
    "    t=0\n",
    "    # Itera sobre cada elemento del vector V\n",
    "    for j in range(len(V)): \n",
    "      t = t+ A[i][j] * V[j] # Multiplica el elemento de la matriz por el elemento correspondiente del vector\n",
    "    vn.append(t) # Agrega el resultado a la lista vn\n",
    "print(vn) # Imprime la lista con los resultados        \n"
   ]
  },
  {
   "cell_type": "code",
   "execution_count": 52,
   "id": "145cbb89-402c-41ee-b0a3-9462eb6f5c47",
   "metadata": {},
   "outputs": [
    {
     "name": "stdout",
     "output_type": "stream",
     "text": [
      "Vector V:\n",
      "[0, 1, 2, 3, 4, 5, 6, 7, 8, 9, 10, 11]\n",
      "\n",
      "Matriz A:\n",
      "[0, 1, 2, 3, 4, 5, 6, 7, 8, 9, 10, 11]\n",
      "[1, 2, 3, 4, 5, 6, 7, 8, 9, 10, 11, 12]\n",
      "[2, 3, 4, 5, 6, 7, 8, 9, 10, 11, 12, 13]\n",
      "[3, 4, 5, 6, 7, 8, 9, 10, 11, 12, 13, 14]\n",
      "[4, 5, 6, 7, 8, 9, 10, 11, 12, 13, 14, 15]\n",
      "[5, 6, 7, 8, 9, 10, 11, 12, 13, 14, 15, 16]\n",
      "[6, 7, 8, 9, 10, 11, 12, 13, 14, 15, 16, 17]\n",
      "[7, 8, 9, 10, 11, 12, 13, 14, 15, 16, 17, 18]\n",
      "[8, 9, 10, 11, 12, 13, 14, 15, 16, 17, 18, 19]\n",
      "[9, 10, 11, 12, 13, 14, 15, 16, 17, 18, 19, 20]\n",
      "[10, 11, 12, 13, 14, 15, 16, 17, 18, 19, 20, 21]\n",
      "[11, 12, 13, 14, 15, 16, 17, 18, 19, 20, 21, 22]\n",
      "\n",
      "Resultado de la multiplicación A * V:\n",
      "[506, 572, 638, 704, 770, 836, 902, 968, 1034, 1100, 1166, 1232]\n"
     ]
    }
   ],
   "source": [
    "#Matriz-n por vector-n\n",
    "n=12    #Tamaño de la matriz y vector\n",
    "V=list(range(n)) #Vector con elementos desde 0 a n-1\n",
    "print(\"Vector V:\") #Caractericemos al vector V\n",
    "print(V)\n",
    "\n",
    "# Definir la matriz de tamaño n x n\n",
    "# Aquí creamos una matriz de ejemplo\n",
    "A = [[i + j for j in range(n)] for i in range(n)]\n",
    "print(\"\\nMatriz A:\")\n",
    "for r in A:\n",
    "    print(r)\n",
    "\n",
    "# Multiplicación de la matriz por el vector\n",
    "s = [0] * n  # Inicializar la lista para almacenar el resultado\n",
    "\n",
    "# Realizar la multiplicación\n",
    "for i in range(n):  # Iterar sobre cada fila de la matriz Este es el ciclo exterior que \n",
    "                         #itera sobre cada fila de la matriz. Si n es 50, i tomará valores de 0 a 49.\n",
    "    suma_producto = 0\n",
    "    for j in range(n):  # Iterar sobre cada columna de la matriz (y elemento del vector)\n",
    "        suma_producto += A[i][j] * V[j]\n",
    "        s[i] = suma_producto\n",
    "\n",
    "print(\"\\nResultado de la multiplicación A * V:\")\n",
    "print(s)\n",
    "\n",
    "\n",
    "\n"
   ]
  },
  {
   "cell_type": "code",
   "execution_count": null,
   "id": "243e6f39-e164-443f-9a16-cfe85f9d6577",
   "metadata": {
    "jupyter": {
     "source_hidden": true
    }
   },
   "outputs": [],
   "source": [
    "#Matriz x matriz\n",
    "A=[[1,2,3],[3,2,1],[2,1,3],[3,1,2]]  #4 filas y 3 columnas\n",
    "V=\n",
    "t=0\n",
    "vn=[]\n",
    "# Itera sobre cada fila de la matriz A\n",
    "for i in range(len(A)):\n",
    "    t=0\n",
    "    # Itera sobre cada elemento del vector V\n",
    "    for j in range(len(V)): \n",
    "      t = t+ A[i][j] * V[j] # Multiplica el elemento de la matriz por el elemento correspondiente del vector\n",
    "    vn.append(t) # Agrega el resultado a la lista vn\n",
    "print(vn) # Imprime la lista con los resultados        \n",
    "\n",
    "\n"
   ]
  },
  {
   "cell_type": "markdown",
   "id": "740749c3-3522-4452-a974-3a96567c9a6f",
   "metadata": {},
   "source": [
    "---"
   ]
  },
  {
   "cell_type": "markdown",
   "id": "e7141cd5-5ea3-4424-97c4-98dec2556354",
   "metadata": {},
   "source": [
    "## 20 de Agosto 2024"
   ]
  },
  {
   "cell_type": "code",
   "execution_count": 6,
   "id": "103d8ee1-c26f-491b-ad8b-19b3bcc889b3",
   "metadata": {},
   "outputs": [],
   "source": [
    "from math import *\n",
    "import math as mt"
   ]
  },
  {
   "cell_type": "code",
   "execution_count": 10,
   "id": "7b12fac2-d2d9-4fa1-a65f-6d300241ced4",
   "metadata": {},
   "outputs": [
    {
     "name": "stdin",
     "output_type": "stream",
     "text": [
      "Ingresa el valor de x: 45\n",
      "Ingresa el valor de y: 21\n"
     ]
    },
    {
     "name": "stdout",
     "output_type": "stream",
     "text": [
      "[45.0, 21.0]\n",
      "12.5\n",
      "0.9272952180016122\n",
      "Todo es:\n",
      "12.5 , 0.9272952180016122\n"
     ]
    }
   ],
   "source": [
    "#1b)\n",
    "x=input(\"Ingresa el valor de x:\")\n",
    "y=input(\"Ingresa el valor de y:\")\n",
    "s=[float(x),float(y)]\n",
    "print(s)\n",
    "r= sqrt(x**2 + y**2)\n",
    "print(r)\n",
    "th= mt.atan2(y,x)\n",
    "print(th)\n",
    "print(\"Todo es:\")\n",
    "print(r, \",\", th)"
   ]
  },
  {
   "cell_type": "code",
   "execution_count": 3,
   "id": "17ed5233-2813-4842-b27b-00fa088ab3e8",
   "metadata": {},
   "outputs": [
    {
     "name": "stdout",
     "output_type": "stream",
     "text": [
      "1.4142135623730951\n"
     ]
    }
   ],
   "source": [
    "r=sqrt(2)\n",
    "print(r)"
   ]
  },
  {
   "cell_type": "markdown",
   "id": "8eda5fcc-a934-44c4-9d4c-a5e23558068e",
   "metadata": {},
   "source": [
    "--- ---"
   ]
  },
  {
   "cell_type": "markdown",
   "id": "a0ebace7-6a61-4d65-b379-42e80cf62b48",
   "metadata": {},
   "source": [
    "### 27 de Agosto 2024"
   ]
  },
  {
   "cell_type": "markdown",
   "id": "6ab964ba-a865-4d25-a808-a3644ce553f4",
   "metadata": {},
   "source": [
    "#### GRAFICACIÓN\n"
   ]
  },
  {
   "cell_type": "code",
   "execution_count": 4,
   "id": "9bd85021-5154-4795-b1d1-9d37e9119bf7",
   "metadata": {},
   "outputs": [],
   "source": [
    "import numpy as np\n",
    "import matplotlib.pyplot as plt"
   ]
  },
  {
   "cell_type": "code",
   "execution_count": null,
   "id": "3eb26025-2e91-47cf-8efb-22c15f38fefd",
   "metadata": {
    "jupyter": {
     "source_hidden": true
    }
   },
   "outputs": [],
   "source": [
    "import mathplotlib.pyplot"
   ]
  },
  {
   "cell_type": "code",
   "execution_count": 7,
   "id": "66318b8f-e670-4655-a90b-873e27a1c47f",
   "metadata": {},
   "outputs": [
    {
     "name": "stdout",
     "output_type": "stream",
     "text": [
      "[0 1 2 3 4 5 6 7 8 9]\n",
      "[ 0  1  4  9 16 25 36 49 64 81]\n"
     ]
    }
   ],
   "source": [
    "\n",
    "\n",
    "x= np.arange(10)\n",
    "y=x*x\n",
    "\n",
    "print(x)\n",
    "print(y)\n"
   ]
  },
  {
   "cell_type": "code",
   "execution_count": 10,
   "id": "52bb3490-4b2d-43ab-a5bb-b4177f6b7914",
   "metadata": {},
   "outputs": [
    {
     "data": {
      "text/plain": [
       "[<matplotlib.lines.Line2D at 0x7f6da9d1de80>]"
      ]
     },
     "execution_count": 10,
     "metadata": {},
     "output_type": "execute_result"
    },
    {
     "data": {
      "image/png": "[encoded data removed]",
      "text/plain": [
       "<Figure size 640x480 with 1 Axes>"
      ]
     },
     "metadata": {},
     "output_type": "display_data"
    }
   ],
   "source": [
    "plt.plot(y, \".\")"
   ]
  },
  {
   "cell_type": "code",
   "execution_count": null,
   "id": "1e5d38e8-d194-4c9e-9632-0c764976806d",
   "metadata": {},
   "outputs": [],
   "source": []
  },
  {
   "cell_type": "code",
   "execution_count": null,
   "id": "64e640c4-ba0b-4032-80ba-1bccbdcedcba",
   "metadata": {},
   "outputs": [],
   "source": [
    "def f(x):\n",
    "    print(\"Argumento x = \", x)\n",
    "    return x*x                      # Print (x*x) no hace funcionar como una relación.\n",
    "\n",
    "# Las funciones deben regresar algo siempre\n",
    "\n",
    "# la llamamos:\n",
    "f(3)\n",
    "f(3.5)\n",
    "\n",
    "\n",
    "#a=s(3) es al usar el print de arriba es opcional pero si no hay return el a no regresa nada."
   ]
  },
  {
   "cell_type": "code",
   "execution_count": null,
   "id": "966ccb6d-22e6-422e-8f4c-3a66c96be120",
   "metadata": {
    "scrolled": true
   },
   "outputs": [],
   "source": [
    "z = np.arange(100)\n",
    "g= exp\n",
    "plt.plot(exp, \".\")"
   ]
  },
  {
   "cell_type": "code",
   "execution_count": 17,
   "id": "3d3507d4-33fe-4586-8885-e97b329e2453",
   "metadata": {},
   "outputs": [],
   "source": [
    "from math import *\n",
    "from math import exp"
   ]
  },
  {
   "cell_type": "code",
   "execution_count": 13,
   "id": "d0948f96-5550-4c23-941f-17d214d3f6b7",
   "metadata": {},
   "outputs": [
    {
     "data": {
      "text/plain": [
       "2.718281828459045"
      ]
     },
     "execution_count": 13,
     "metadata": {},
     "output_type": "execute_result"
    }
   ],
   "source": [
    "e"
   ]
  },
  {
   "cell_type": "markdown",
   "id": "8a302d76-e801-4b1d-92f4-123585ac410c",
   "metadata": {},
   "source": [
    "## 10 SEPTIEMBRE DE 2024"
   ]
  },
  {
   "cell_type": "code",
   "execution_count": 2,
   "id": "d6301d7c-a435-40af-9e7f-a1740739b590",
   "metadata": {},
   "outputs": [],
   "source": [
    "import numpy as np\n",
    "import matplotlib.pyplot as plt\n",
    "import random as rd\n",
    "\n"
   ]
  },
  {
   "cell_type": "code",
   "execution_count": null,
   "id": "ee134bb5-262a-4468-a299-7cb3af0acdf5",
   "metadata": {},
   "outputs": [],
   "source": [
    "d.random()"
   ]
  },
  {
   "cell_type": "code",
   "execution_count": null,
   "id": "4a9cc47a-7f62-4129-b359-961b994c5ea6",
   "metadata": {},
   "outputs": [],
   "source": [
    "np.random"
   ]
  },
  {
   "cell_type": "code",
   "execution_count": 5,
   "id": "43cd98f5-1f4f-4723-bcb9-5715c8886721",
   "metadata": {},
   "outputs": [],
   "source": [
    "l= 1\n",
    "x0 = 0.0\n",
    "N = 10000\n",
    "\n",
    "c      #Posiciones de x\n",
    "        \n",
    "R=[]    #Caja de valores \n",
    "\n",
    "\n",
    "#T=[]"
   ]
  },
  {
   "cell_type": "code",
   "execution_count": 7,
   "id": "92b5c264-1665-4040-87e4-244579153d47",
   "metadata": {},
   "outputs": [],
   "source": [
    "def Walker(N,x0,L)\n",
    "\n",
    "for i in range(N):\n",
    "        r =rd.random()\n",
    "        if r<=0.5:\n",
    "            x0 = x0 + l\n",
    "        else:\n",
    "            x0 = x0 - l\n",
    "\n",
    "        R.append(r)\n",
    "        X.append(x0)\n",
    "            "
   ]
  },
  {
   "cell_type": "code",
   "execution_count": 8,
   "id": "02d2959f-b27c-4d76-ab6e-7456e061c0bf",
   "metadata": {},
   "outputs": [
    {
     "data": {
      "text/plain": [
       "[<matplotlib.lines.Line2D at 0x7f6a09322330>]"
      ]
     },
     "execution_count": 8,
     "metadata": {},
     "output_type": "execute_result"
    },
    {
     "data": {
      "image/png": "[encoded data removed]",
      "text/plain": [
       "<Figure size 640x480 with 1 Axes>"
      ]
     },
     "metadata": {},
     "output_type": "display_data"
    }
   ],
   "source": [
    "plt.plot(X)"
   ]
  },
  {
   "cell_type": "code",
   "execution_count": null,
   "id": "d4ae017b-1c22-4097-b738-db473eb4f4b2",
   "metadata": {},
   "outputs": [],
   "source": []
  },
  {
   "cell_type": "code",
   "execution_count": null,
   "id": "fc5630c3-05db-4a3e-9833-ba38d4d733b2",
   "metadata": {},
   "outputs": [],
   "source": [
    "al hacer el historgrama y ponerle beans sigue sin verse normal, pero si ahora graficamos con r"
   ]
  },
  {
   "cell_type": "code",
   "execution_count": 19,
   "id": "7d6f533a-b18f-46e9-86ce-a646cb4f7101",
   "metadata": {},
   "outputs": [
    {
     "data": {
      "text/plain": [
       "(array([102.,  94., 109.,  99.,  97., 102.,  81.,  98., 106., 103., 103.,\n",
       "        110., 120., 102.,  83.,  89.,  96., 101., 108., 103., 115.,  99.,\n",
       "         98., 102., 111., 100.,  98., 125.,  89.,  94., 103., 113.,  91.,\n",
       "         90., 105.,  98., 104.,  98., 102., 112.,  85., 122.,  95.,  91.,\n",
       "        124.,  88.,  95., 112., 118.,  99., 112.,  91.,  72.,  78., 100.,\n",
       "         95.,  89., 108., 106.,  93.,  99., 115.,  91., 108., 109.,  94.,\n",
       "        106.,  88., 104.,  89., 104.,  98., 110., 102.,  96., 101., 108.,\n",
       "         87.,  94.,  83., 116.,  91.,  88., 116., 108., 105.,  88., 106.,\n",
       "        102.,  91.,  74.,  97., 102., 100.,  99., 105.,  97., 120.,  84.,\n",
       "         99.]),\n",
       " array([2.46118271e-04, 1.02424413e-02, 2.02387643e-02, 3.02350873e-02,\n",
       "        4.02314103e-02, 5.02277334e-02, 6.02240564e-02, 7.02203794e-02,\n",
       "        8.02167024e-02, 9.02130254e-02, 1.00209348e-01, 1.10205671e-01,\n",
       "        1.20201994e-01, 1.30198318e-01, 1.40194641e-01, 1.50190964e-01,\n",
       "        1.60187287e-01, 1.70183610e-01, 1.80179933e-01, 1.90176256e-01,\n",
       "        2.00172579e-01, 2.10168902e-01, 2.20165225e-01, 2.30161548e-01,\n",
       "        2.40157871e-01, 2.50154194e-01, 2.60150517e-01, 2.70146840e-01,\n",
       "        2.80143163e-01, 2.90139486e-01, 3.00135809e-01, 3.10132132e-01,\n",
       "        3.20128455e-01, 3.30124778e-01, 3.40121101e-01, 3.50117424e-01,\n",
       "        3.60113747e-01, 3.70110070e-01, 3.80106393e-01, 3.90102716e-01,\n",
       "        4.00099039e-01, 4.10095362e-01, 4.20091685e-01, 4.30088008e-01,\n",
       "        4.40084331e-01, 4.50080654e-01, 4.60076977e-01, 4.70073300e-01,\n",
       "        4.80069623e-01, 4.90065946e-01, 5.00062269e-01, 5.10058592e-01,\n",
       "        5.20054915e-01, 5.30051238e-01, 5.40047561e-01, 5.50043884e-01,\n",
       "        5.60040207e-01, 5.70036530e-01, 5.80032853e-01, 5.90029176e-01,\n",
       "        6.00025499e-01, 6.10021822e-01, 6.20018145e-01, 6.30014468e-01,\n",
       "        6.40010791e-01, 6.50007114e-01, 6.60003437e-01, 6.69999760e-01,\n",
       "        6.79996083e-01, 6.89992406e-01, 6.99988730e-01, 7.09985053e-01,\n",
       "        7.19981376e-01, 7.29977699e-01, 7.39974022e-01, 7.49970345e-01,\n",
       "        7.59966668e-01, 7.69962991e-01, 7.79959314e-01, 7.89955637e-01,\n",
       "        7.99951960e-01, 8.09948283e-01, 8.19944606e-01, 8.29940929e-01,\n",
       "        8.39937252e-01, 8.49933575e-01, 8.59929898e-01, 8.69926221e-01,\n",
       "        8.79922544e-01, 8.89918867e-01, 8.99915190e-01, 9.09911513e-01,\n",
       "        9.19907836e-01, 9.29904159e-01, 9.39900482e-01, 9.49896805e-01,\n",
       "        9.59893128e-01, 9.69889451e-01, 9.79885774e-01, 9.89882097e-01,\n",
       "        9.99878420e-01]),\n",
       " <BarContainer object of 100 artists>)"
      ]
     },
     "execution_count": 19,
     "metadata": {},
     "output_type": "execute_result"
    },
    {
     "data": {
      "image/png": "[encoded data removed]",
      "text/plain": [
       "<Figure size 640x480 with 1 Axes>"
      ]
     },
     "metadata": {},
     "output_type": "display_data"
    }
   ],
   "source": [
    "plt.hist(R, bins=100)             # Ya nos da una distribución uniforme"
   ]
  },
  {
   "cell_type": "code",
   "execution_count": null,
   "id": "425adf3a-24d5-4f41-89ac-a80e06e546fa",
   "metadata": {},
   "outputs": [],
   "source": []
  },
  {
   "cell_type": "code",
   "execution_count": 22,
   "id": "48b9076a-ec0f-4c16-8293-9ae6823a62f6",
   "metadata": {},
   "outputs": [],
   "source": [
    "def Walker(N,x0,l):\n",
    "    X = []\n",
    "    for i in range(N):\n",
    "        r =rd.random()\n",
    "        if r<=0.5:\n",
    "            x0 = x0 + l\n",
    "        else:\n",
    "            x0 = x0 - l\n",
    "\n",
    "       #  R.append(r)\n",
    "        X.append(x0)\n",
    "    return X"
   ]
  },
  {
   "cell_type": "code",
   "execution_count": 23,
   "id": "27e43271-a4e2-48cb-8315-f9e36c40083d",
   "metadata": {},
   "outputs": [
    {
     "data": {
      "text/plain": [
       "[<matplotlib.lines.Line2D at 0x7f6a08dc6480>]"
      ]
     },
     "execution_count": 23,
     "metadata": {},
     "output_type": "execute_result"
    },
    {
     "data": {
      "image/png": "[encoded data removed]",
      "text/plain": [
       "<Figure size 640x480 with 1 Axes>"
      ]
     },
     "metadata": {},
     "output_type": "display_data"
    }
   ],
   "source": [
    "plt.plot(X)"
   ]
  },
  {
   "cell_type": "code",
   "execution_count": null,
   "id": "6cf5afe7-861c-4ac0-9c19-f1b51e0f4206",
   "metadata": {},
   "outputs": [],
   "source": [
    "l= 1\n",
    "x0 = 0.0\n",
    "N = 10000\n",
    "w=[]\n",
    "P=[]\n",
    "for i in range(100+1):\n",
    "    w= Walker(N,x0,l)\n",
    "    for p in w:\n",
    "    P.append(p)\n",
    "    plt.plot(w)\n"
   ]
  },
  {
   "cell_type": "code",
   "execution_count": 26,
   "id": "9d5ed9bc-a3da-4c63-bf2b-f615eb51ddc3",
   "metadata": {},
   "outputs": [
    {
     "ename": "AttributeError",
     "evalue": "module 'matplotlib.pyplot' has no attribute 'hidt'",
     "output_type": "error",
     "traceback": [
      "\u001b[0;31m---------------------------------------------------------------------------\u001b[0m",
      "\u001b[0;31mAttributeError\u001b[0m                            Traceback (most recent call last)",
      "Cell \u001b[0;32mIn[26], line 1\u001b[0m\n\u001b[0;32m----> 1\u001b[0m \u001b[43mplt\u001b[49m\u001b[38;5;241;43m.\u001b[39;49m\u001b[43mhidt\u001b[49m(P, bins\u001b[38;5;241m=\u001b[39m\u001b[38;5;241m500\u001b[39m)\n\u001b[1;32m      2\u001b[0m sns\u001b[38;5;241m.\u001b[39mdisplot(P,kind\u001b[38;5;241m=\u001b[39m\u001b[38;5;124m\"\u001b[39m\u001b[38;5;124mkde\u001b[39m\u001b[38;5;124m\"\u001b[39m)\n",
      "\u001b[0;31mAttributeError\u001b[0m: module 'matplotlib.pyplot' has no attribute 'hidt'"
     ]
    }
   ],
   "source": [
    "plt.hist(P, bins=500)\n",
    "sns.displot(P,kind=\"kde\")"
   ]
  },
  {
   "cell_type": "code",
   "execution_count": null,
   "id": "a6fe47e1-2270-4334-bff4-b96725b31270",
   "metadata": {},
   "outputs": [],
   "source": [
    "LA DISTRIBUCION NOS DA NUMEROS ENTRE INFINITO E MENOS INFINITO"
   ]
  },
  {
   "cell_type": "code",
   "execution_count": 3,
   "id": "62b6e018-f770-4008-8087-586aa0f4f88a",
   "metadata": {},
   "outputs": [],
   "source": [
    "import math as mt"
   ]
  },
  {
   "cell_type": "code",
   "execution_count": 4,
   "id": "afd2922a-25c5-4ae7-801c-deeaea7d4ad5",
   "metadata": {},
   "outputs": [],
   "source": [
    "def Walker2(N,x0,l):\n",
    "    X = []\n",
    "    for i in range(N):\n",
    "        r =np.random.normal(0.0,mt.pi)    # Desviación estandar y pi\n",
    "      #  r=np.random.binomial(100,0.5)            #Binomial, de todos los caminantes se van a ir a la derecha pero jamas pasa por lo que se va a la verga\n",
    "        if r<=0.0:\n",
    "            x0 = x0 + l\n",
    "        else:2024\n",
    "            x0 = x0 - l\n",
    "\n",
    "       #  R.append(r)\n",
    "        X.append(x0)\n",
    "    return X"
   ]
  },
  {
   "cell_type": "code",
   "execution_count": null,
   "id": "3e8b5721-2d78-4a3f-b60c-20bbcd8fb33d",
   "metadata": {},
   "outputs": [],
   "source": [
    "l= 1\n",
    "x0 = 0.0\n",
    "N = 10000\n",
    "w=[]\n",
    "P=[]\n",
    "for i in range(100+1):\n",
    "    w= Walker2(N,x0,l)\n",
    "    for p in w:\n",
    "        P.append(p)\n",
    "     plt.plot(w)\n"
   ]
  },
  {
   "cell_type": "code",
   "execution_count": 1,
   "id": "7c5888e7-7e1d-494c-9263-3ce1449f567f",
   "metadata": {},
   "outputs": [
    {
     "ename": "NameError",
     "evalue": "name 'plt' is not defined",
     "output_type": "error",
     "traceback": [
      "\u001b[0;31m---------------------------------------------------------------------------\u001b[0m",
      "\u001b[0;31mNameError\u001b[0m                                 Traceback (most recent call last)",
      "Cell \u001b[0;32mIn[1], line 1\u001b[0m\n\u001b[0;32m----> 1\u001b[0m \u001b[43mplt\u001b[49m\u001b[38;5;241m.\u001b[39mhist(R,bins\u001b[38;5;241m=\u001b[39m\u001b[38;5;241m50\u001b[39m)\n\u001b[1;32m      2\u001b[0m sns\u001b[38;5;241m.\u001b[39mdisplot(P,bins\u001b[38;5;241m=\u001b[39m\u001b[38;5;241m50\u001b[39m)\n\u001b[1;32m      3\u001b[0m plt\u001b[38;5;241m.\u001b[39mhist(R,bins\u001b[38;5;241m=\u001b[39m\u001b[38;5;241m50\u001b[39m,kde\u001b[38;5;241m=\u001b[39m\u001b[38;5;28;01mTrue\u001b[39;00m)\n",
      "\u001b[0;31mNameError\u001b[0m: name 'plt' is not defined"
     ]
    }
   ],
   "source": [
    "#plt.hist(R,bins=50)\n",
    "sns.displot(P,bins=50)\n",
    "#plt.hist(R,bins=50,kde=True)"
   ]
  },
  {
   "cell_type": "code",
   "execution_count": null,
   "id": "2b6c283e-31b2-4837-b5d9-4210d32d8c0a",
   "metadata": {},
   "outputs": [],
   "source": [
    "from matplotlib import rc\n",
    "rc('text'"
   ]
  }
 ],
 "metadata": {
  "kernelspec": {
   "display_name": "Python 3 (ipykernel)",
   "language": "python",
   "name": "python3"
  },
  "language_info": {
   "codemirror_mode": {
    "name": "ipython",
    "version": 3
   },
   "file_extension": ".py",
   "mimetype": "text/x-python",
   "name": "python",
   "nbconvert_exporter": "python",
   "pygments_lexer": "ipython3",
   "version": "3.12.4"
  }
 },
 "nbformat": 4,
 "nbformat_minor": 5
}
