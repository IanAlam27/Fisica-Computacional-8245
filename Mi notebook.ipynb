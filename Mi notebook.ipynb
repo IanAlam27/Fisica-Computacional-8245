{
 "cells": [
  {
   "cell_type": "markdown",
   "id": "e4bd8238-0c18-4658-a3a5-101544c62559",
   "metadata": {},
   "source": [
    "## Mi primer Notebook . Rodriguez Rodriguez Ian Alam. *Física Computacional* 8245"
   ]
  },
  {
   "cell_type": "markdown",
   "id": "db205d22-69fa-4aed-9ffd-df374f2496a5",
   "metadata": {},
   "source": [
    "**En este notebook voy a probar las cosas que voy aprendiendo para no olvidarlo en 6 meses xD**"
   ]
  },
  {
   "cell_type": "markdown",
   "id": "de16dfff-d276-4b3a-bb60-d6df04ae45ee",
   "metadata": {},
   "source": [
    "#### 1. MARKDOWN"
   ]
  },
  {
   "cell_type": "markdown",
   "id": "078a6e71-e9ef-45aa-b942-04bd029a04b1",
   "metadata": {},
   "source": [
    "Me parece que si ahora quiero hacer una lista queda como:\n",
    "- Ecuación de Schrodinger\n",
    "- El campo en una esfera\n",
    "- Milagros del universo\n",
    "\n",
    "\n"
   ]
  },
  {
   "cell_type": "markdown",
   "id": "05ac6688-ca06-4d11-8b31-5ae9e2b6c148",
   "metadata": {},
   "source": [
    "Y si ahora quiero hacer con números solo hay que *numerarlos*, no olvidemos el **espacio** entre ambos.\n",
    "1. No aguanto\n",
    "2. Muero de sueño\n",
    "3. Mañana me levanto a las 6 ptm"
   ]
  },
  {
   "cell_type": "markdown",
   "id": "bd1b02a6-8cc6-44e4-8c83-f596d6e4b630",
   "metadata": {},
   "source": [
    "Si ahora quiero dejar un espacio entre lineas, creo que es con '>':\n",
    ">\n",
    "Y ahora no se si funcione usar más\n",
    ">omggggg si funcionó, cuando pongo el coso '>' enseguida de la frase hace un espacio raro, y entre mas '>>>' más espacios.\n"
   ]
  },
  {
   "cell_type": "markdown",
   "id": "0c4448eb-143e-4bd4-8916-7d0e2e1f09fc",
   "metadata": {},
   "source": [
    "Si ahora quiero dividir mi página pongo '---' tres guiones."
   ]
  },
  {
   "cell_type": "markdown",
   "id": "03950cb5-b4db-4935-b85f-70cf0e24a6b2",
   "metadata": {},
   "source": [
    "---"
   ]
  },
  {
   "cell_type": "markdown",
   "id": "f926c9fd-8906-4000-af6f-5c7d023419a6",
   "metadata": {},
   "source": [
    "Creo que poner `Hola` resalta la palabra. Como si fuese de `código`."
   ]
  },
  {
   "cell_type": "markdown",
   "id": "538e944e-e192-4a4f-bbc3-f668aad6c7a8",
   "metadata": {},
   "source": [
    "Para escribir ecuaciones usamos los signos de dolar '$$':\n",
    "1.  $4 - 2+5$"
   ]
  },
  {
   "cell_type": "markdown",
   "id": "aeb8e98e-fca1-4c48-8c5b-212d7290a9e9",
   "metadata": {},
   "source": [
    "#### 2. Código"
   ]
  },
  {
   "cell_type": "code",
   "execution_count": 1,
   "id": "8f932854-2700-402b-b78a-565ac69daf4b",
   "metadata": {},
   "outputs": [],
   "source": [
    "from numpy import *"
   ]
  },
  {
   "cell_type": "markdown",
   "id": "be83bcb5-391f-4e65-ba61-48716e43fd50",
   "metadata": {},
   "source": [
    "Una matriz es un arreglo de vectores, para hacer el producto punto entre ellos hacemos un producto de entrada por entrada. Definimos un vector columna para hacer el producto con otro elemento de otra matriz. Definamos primero:"
   ]
  },
  {
   "cell_type": "markdown",
   "id": "258d5c27-59df-4c07-a77a-7960d42180c4",
   "metadata": {},
   "source": [
    "$(x,y)*(a,b)=xa+yb$"
   ]
  },
  {
   "cell_type": "markdown",
   "id": "ea868769-0a2c-4530-893e-676c2d42fc93",
   "metadata": {},
   "source": [
    "EL vector de la izquierda siempre va acostado y el que le sigue a multiplicar va parado. \n",
    ">\n",
    "Podemos hacer esto sin necesidad de bibliotecas."
   ]
  },
  {
   "cell_type": "markdown",
   "id": "9ad34f69-f3d5-4b21-a862-d0d404966584",
   "metadata": {},
   "source": [
    "---"
   ]
  },
  {
   "cell_type": "markdown",
   "id": "5eeee5c0-a825-4bfe-a3af-b1299a7fee88",
   "metadata": {},
   "source": [
    "Definamos el producto punto de dos vectores:"
   ]
  },
  {
   "cell_type": "code",
   "execution_count": 3,
   "id": "4997b151-222b-43a4-92fe-de1680bc86b6",
   "metadata": {},
   "outputs": [],
   "source": [
    "v1=[1,2,3,4]\n",
    "v2=[5,6,7,8]"
   ]
  },
  {
   "cell_type": "code",
   "execution_count": 4,
   "id": "032b6f42-1364-4cd6-9016-39ee1afd3beb",
   "metadata": {},
   "outputs": [
    {
     "data": {
      "text/plain": [
       "[1, 2, 3, 4]"
      ]
     },
     "execution_count": 4,
     "metadata": {},
     "output_type": "execute_result"
    }
   ],
   "source": [
    "v1"
   ]
  },
  {
   "cell_type": "code",
   "execution_count": 5,
   "id": "941012f3-a4a3-4a91-90b6-8c2c34daabde",
   "metadata": {},
   "outputs": [
    {
     "data": {
      "text/plain": [
       "[5, 6, 7, 8]"
      ]
     },
     "execution_count": 5,
     "metadata": {},
     "output_type": "execute_result"
    }
   ],
   "source": [
    "v2"
   ]
  },
  {
   "cell_type": "code",
   "execution_count": 6,
   "id": "3130d844-aab4-44a9-93df-4f148fe063db",
   "metadata": {
    "jupyter": {
     "source_hidden": true
    }
   },
   "outputs": [
    {
     "name": "stdout",
     "output_type": "stream",
     "text": [
      "depende cuanto le ponga\n",
      "depende cuanto le ponga\n",
      "depende cuanto le ponga\n",
      "depende cuanto le ponga\n"
     ]
    }
   ],
   "source": [
    "for i in range(4):\n",
    "    v1[i]*v2[i]\n",
    "    print(\"depende cuanto le ponga\")"
   ]
  },
  {
   "cell_type": "code",
   "execution_count": 7,
   "id": "b6a8b219-8c85-4207-9b26-06fede7912a2",
   "metadata": {},
   "outputs": [
    {
     "name": "stdout",
     "output_type": "stream",
     "text": [
      "depende cuanto le ponga 0\n",
      "depende cuanto le ponga 1\n",
      "depende cuanto le ponga 2\n",
      "depende cuanto le ponga 3\n"
     ]
    }
   ],
   "source": [
    "for i in range(4):\n",
    "    v1[i]*v2[i]\n",
    "    print(\"depende cuanto le ponga\",i)"
   ]
  },
  {
   "cell_type": "code",
   "execution_count": 8,
   "id": "5b655c56-1b9e-4ce7-8c49-d8a970fe166d",
   "metadata": {
    "scrolled": true
   },
   "outputs": [
    {
     "name": "stdout",
     "output_type": "stream",
     "text": [
      "1\n",
      "2\n"
     ]
    }
   ],
   "source": [
    "for i in range(2):\n",
    "    v1[i]*v2[i]\n",
    "    print(v1[i])"
   ]
  },
  {
   "cell_type": "markdown",
   "id": "5796e3a8-1691-4645-bf7b-21050a7c2ff2",
   "metadata": {},
   "source": [
    "Range nos pone un rango, decir range(3) es igual a poner [1,2,3]"
   ]
  },
  {
   "cell_type": "code",
   "execution_count": 9,
   "id": "c4e5066a-ec69-472e-b9f3-692b880e8d97",
   "metadata": {},
   "outputs": [],
   "source": [
    "r= range(13)"
   ]
  },
  {
   "cell_type": "code",
   "execution_count": 10,
   "id": "fc461c7a-c27c-49b1-bf42-1b84ed97e0ce",
   "metadata": {},
   "outputs": [
    {
     "data": {
      "text/plain": [
       "range(0, 13)"
      ]
     },
     "execution_count": 10,
     "metadata": {},
     "output_type": "execute_result"
    }
   ],
   "source": [
    "r"
   ]
  },
  {
   "cell_type": "markdown",
   "id": "cc6d1df5-00af-4cce-babe-bb37a4161b75",
   "metadata": {},
   "source": [
    "Si tenemos una lista de [0,1] tiene dos elementos, por lo que lo va a imprimir dos veces."
   ]
  },
  {
   "cell_type": "code",
   "execution_count": 11,
   "id": "c7eb0502-b033-4fa0-abf7-0aec230f80bc",
   "metadata": {},
   "outputs": [
    {
     "name": "stdout",
     "output_type": "stream",
     "text": [
      "algo\n",
      "algo\n"
     ]
    }
   ],
   "source": [
    "for i in [0,1]:\n",
    "    print(\"algo\")"
   ]
  },
  {
   "cell_type": "code",
   "execution_count": 12,
   "id": "fce96910-426f-4de2-8c3b-f4d01df11da5",
   "metadata": {},
   "outputs": [],
   "source": [
    "r=range(4)"
   ]
  },
  {
   "cell_type": "markdown",
   "id": "710f2aba-9c0c-4110-b777-23cb95ac099d",
   "metadata": {},
   "source": [
    "Para cuando definamos una variable el código solo tomara en cuenta el último valor de r."
   ]
  },
  {
   "cell_type": "code",
   "execution_count": 15,
   "id": "9e0b8877-4dac-4d8f-b162-61bbbd0f67f2",
   "metadata": {},
   "outputs": [],
   "source": [
    "r=[\"[1,2,3]\",0.2,v2,3*8]\n",
    "r=[1,2,3,4]"
   ]
  },
  {
   "cell_type": "code",
   "execution_count": 16,
   "id": "26031930-fce4-4a28-9e15-6cf67f4eb218",
   "metadata": {},
   "outputs": [
    {
     "name": "stdout",
     "output_type": "stream",
     "text": [
      "1\n",
      "2\n",
      "3\n",
      "4\n"
     ]
    }
   ],
   "source": [
    "for x in r:\n",
    "    print(x)"
   ]
  },
  {
   "cell_type": "markdown",
   "id": "a5818786-1400-4516-adde-87dc7a6d8d46",
   "metadata": {},
   "source": [
    "Regresemos a es importante saber donde ponemos la i"
   ]
  },
  {
   "cell_type": "code",
   "execution_count": 18,
   "id": "f48c5612-9d93-4cab-b295-c0e63bd4d5e9",
   "metadata": {},
   "outputs": [
    {
     "name": "stdout",
     "output_type": "stream",
     "text": [
      "3 5\n",
      "3 6\n",
      "3 7\n"
     ]
    }
   ],
   "source": [
    "for i in range(3):\n",
    "   print(v1[2],v2[i])\n",
    "  #  print(v2[i])"
   ]
  },
  {
   "cell_type": "code",
   "execution_count": 19,
   "id": "5181846b-563b-44e1-a132-a88896710c32",
   "metadata": {},
   "outputs": [
    {
     "data": {
      "text/plain": [
       "4"
      ]
     },
     "execution_count": 19,
     "metadata": {},
     "output_type": "execute_result"
    }
   ],
   "source": [
    "len(v1)"
   ]
  },
  {
   "cell_type": "code",
   "execution_count": 21,
   "id": "88d25d49-7f9c-46a4-bea3-eb70195eba18",
   "metadata": {},
   "outputs": [
    {
     "name": "stdout",
     "output_type": "stream",
     "text": [
      "0\n",
      "1\n",
      "2\n",
      "3\n"
     ]
    }
   ],
   "source": [
    "for i in range(len(v1)):\n",
    "    print(i)"
   ]
  },
  {
   "cell_type": "markdown",
   "id": "70dd7722-e1cc-489b-8780-7f708a70ad5a",
   "metadata": {},
   "source": [
    "SI cambiamos el v2 como:"
   ]
  },
  {
   "cell_type": "code",
   "execution_count": 38,
   "id": "aa82f6d9-afde-433b-9114-a8a15a563daa",
   "metadata": {},
   "outputs": [],
   "source": [
    "v1=[1,2,3,4]\n",
    "v2=[5,6,7,8,9]"
   ]
  },
  {
   "cell_type": "code",
   "execution_count": 23,
   "id": "02141d4c-9443-4a61-93d1-6f08c6ece3a1",
   "metadata": {},
   "outputs": [
    {
     "name": "stdout",
     "output_type": "stream",
     "text": [
      "15\n",
      "18\n",
      "21\n",
      "24\n"
     ]
    }
   ],
   "source": [
    "for i in range(len(v1)):\n",
    "    print(v1[2]*v2[i])"
   ]
  },
  {
   "cell_type": "markdown",
   "id": "6475b0d9-9180-4f6f-89ba-309dcf8c3c70",
   "metadata": {},
   "source": [
    "Creemos un v3 vacío."
   ]
  },
  {
   "cell_type": "code",
   "execution_count": 31,
   "id": "c6d726a6-df27-48e2-bb78-f1fe13a7e32b",
   "metadata": {},
   "outputs": [],
   "source": [
    "v3=[]"
   ]
  },
  {
   "cell_type": "markdown",
   "id": "02b99479-c80c-4c69-bdfa-39ab30c3cdb0",
   "metadata": {},
   "source": []
  },
  {
   "cell_type": "code",
   "execution_count": 36,
   "id": "fdbbb55f-c3ba-42a5-9b48-cc4e8b809bef",
   "metadata": {},
   "outputs": [
    {
     "name": "stdout",
     "output_type": "stream",
     "text": [
      "70\n"
     ]
    }
   ],
   "source": [
    "auxiliar = 0\n",
    "m=0\n",
    "for i in range(len(v1)):\n",
    "  #  print(v1[i]*v2[i])\n",
    "    m=m+v1[i]*v2[i]\n",
    "    v3.append(m)\n",
    "print(m)"
   ]
  },
  {
   "cell_type": "code",
   "execution_count": 39,
   "id": "c80dc3df-9768-4246-922e-214fb2799848",
   "metadata": {},
   "outputs": [
    {
     "data": {
      "text/plain": [
       "[5, 17, 38, 70]"
      ]
     },
     "execution_count": 39,
     "metadata": {},
     "output_type": "execute_result"
    }
   ],
   "source": [
    "v3"
   ]
  },
  {
   "cell_type": "code",
   "execution_count": 42,
   "id": "445c2637-0405-4663-8095-19648e2eaa3b",
   "metadata": {
    "scrolled": true
   },
   "outputs": [
    {
     "name": "stdout",
     "output_type": "stream",
     "text": [
      "70\n",
      "32\n",
      "70\n"
     ]
    }
   ],
   "source": [
    "v3=[]\n",
    "#auxiliar=0\n",
    "m=0\n",
    "m1=0\n",
    "m2=0\n",
    "for i in range(len(v1)):\n",
    "    m=m+v1[i]*v2[i]\n",
    "    m1=+v1[i]*v2[i]     #dice asigna y suma, la informacion de atras se pierde\n",
    "    m2+=v1[i]*v2[i]    #este es equivalemte a m\n",
    "\n",
    "    v3.append(m)\n",
    "print(m)\n",
    "print(m1)\n",
    "print(m2)\n"
   ]
  },
  {
   "cell_type": "code",
   "execution_count": 51,
   "id": "1984cacf-a6f2-43c1-a2aa-83ae98388926",
   "metadata": {},
   "outputs": [
    {
     "name": "stdout",
     "output_type": "stream",
     "text": [
      "70\n"
     ]
    }
   ],
   "source": [
    "m=0\n",
    "for i in range(len(v1)):\n",
    "    m= m+ v1[i]*v2[i]\n",
    "print(m)"
   ]
  },
  {
   "cell_type": "markdown",
   "id": "bd5fbe6e-6b36-4418-b867-4a97e4f0bcc4",
   "metadata": {},
   "source": [
    "---"
   ]
  },
  {
   "cell_type": "markdown",
   "id": "04223209-8e6a-48d4-9f18-657f26bc2237",
   "metadata": {},
   "source": [
    "Vector de rang-n por vector de rango-m"
   ]
  },
  {
   "cell_type": "code",
   "execution_count": 60,
   "id": "5723d908-b9aa-46ca-bd3b-2ba67b64b20d",
   "metadata": {},
   "outputs": [],
   "source": [
    "v5=[2,1,3,4,6,7]\n",
    "v6=[5,4,1,2,3,4,3]"
   ]
  },
  {
   "cell_type": "code",
   "execution_count": 63,
   "id": "4ddfabdf-9c4c-490b-96a5-7bab3bbd48fb",
   "metadata": {},
   "outputs": [
    {
     "name": "stdout",
     "output_type": "stream",
     "text": [
      "71\n"
     ]
    }
   ],
   "source": [
    "v7=[]\n",
    "x=0\n",
    "for j in range(len(v5)):\n",
    "    x= x+v5[j]*v6[j]\n",
    "    v7.append(x)\n",
    "print(x)"
   ]
  },
  {
   "cell_type": "markdown",
   "id": "214ef676-a2b5-4196-b8fd-6f1baa3a2b25",
   "metadata": {},
   "source": [
    "Matriz por vector"
   ]
  },
  {
   "cell_type": "code",
   "execution_count": 77,
   "id": "92bfa501-62ae-4f31-ba5d-9d194dc3dc69",
   "metadata": {},
   "outputs": [],
   "source": [
    "M=[[2,3,4],[3,2,1],[2,1,3]]\n",
    "v8=[1,1,2,4]\n"
   ]
  },
  {
   "cell_type": "code",
   "execution_count": 71,
   "id": "37be3889-518d-4503-a3eb-3a2d076b9ee8",
   "metadata": {},
   "outputs": [
    {
     "data": {
      "text/plain": [
       "3"
      ]
     },
     "execution_count": 71,
     "metadata": {},
     "output_type": "execute_result"
    }
   ],
   "source": [
    "len(M)"
   ]
  },
  {
   "cell_type": "code",
   "execution_count": 13,
   "id": "c77ae6d7-f5ff-49e4-a3f2-b6d84b15312f",
   "metadata": {},
   "outputs": [
    {
     "ename": "IndentationError",
     "evalue": "unexpected indent (2295644898.py, line 4)",
     "output_type": "error",
     "traceback": [
      "\u001b[0;36m  Cell \u001b[0;32mIn[13], line 4\u001b[0;36m\u001b[0m\n\u001b[0;31m    for i in range(len(v8)\u001b[0m\n\u001b[0m    ^\u001b[0m\n\u001b[0;31mIndentationError\u001b[0m\u001b[0;31m:\u001b[0m unexpected indent\n"
     ]
    }
   ],
   "source": [
    "v9=[]\n",
    "for i in range(len(M)):\n",
    "    y=0\n",
    "        for i in range(len(v8)\n",
    "            y= y+ M[i]*v8[i]\n",
    "    v9.append(y)\n",
    "print(y)"
   ]
  },
  {
   "cell_type": "markdown",
   "id": "094cce09-f194-4de3-8c3b-c6b0dd9c1a3d",
   "metadata": {},
   "source": [
    "Profesor: Primero necesitamos una variable contadora"
   ]
  },
  {
   "cell_type": "code",
   "execution_count": 79,
   "id": "5d2c5e94-b286-4472-9671-28e1404d3b62",
   "metadata": {},
   "outputs": [],
   "source": [
    "d=3"
   ]
  },
  {
   "cell_type": "code",
   "execution_count": 85,
   "id": "7a0ad3b3-62db-40c7-8b49-92d8db6ec5e6",
   "metadata": {},
   "outputs": [],
   "source": [
    "v1=range(d)\n",
    "v2=range(d)\n"
   ]
  },
  {
   "cell_type": "code",
   "execution_count": 86,
   "id": "129fb2b7-6902-4df9-af81-a9fdd8c63773",
   "metadata": {},
   "outputs": [
    {
     "name": "stdout",
     "output_type": "stream",
     "text": [
      "5\n"
     ]
    }
   ],
   "source": [
    "m=0\n",
    "for i in range(d):\n",
    "    m= m+ v1[i]*v2[i]\n",
    "print(m)"
   ]
  },
  {
   "cell_type": "markdown",
   "id": "b9b7de0a-38ae-423b-9844-2cb9692572b5",
   "metadata": {},
   "source": [
    "Definimos una funcion y metemos los valores."
   ]
  },
  {
   "cell_type": "code",
   "execution_count": 88,
   "id": "fc54cf47-201c-4675-8c36-8fda393480de",
   "metadata": {},
   "outputs": [],
   "source": [
    "v1=[1,2,3,4,5]\n",
    "v2=[5,6,7,8,9]"
   ]
  },
  {
   "cell_type": "code",
   "execution_count": 91,
   "id": "53d10852-fb24-4e47-88e5-6d300cac52cf",
   "metadata": {},
   "outputs": [],
   "source": [
    "def punto(d1,v1,v2):\n",
    "    d=len(v1)\n",
    "    m=0\n",
    "    for i in range(d):\n",
    "        m=m+v1[i]*v2[i]\n",
    "    return(m)"
   ]
  },
  {
   "cell_type": "code",
   "execution_count": 92,
   "id": "4925074a-30d5-4e44-b2be-769401f915fd",
   "metadata": {},
   "outputs": [
    {
     "data": {
      "text/plain": [
       "115"
      ]
     },
     "execution_count": 92,
     "metadata": {},
     "output_type": "execute_result"
    }
   ],
   "source": [
    "punto(5,v1,v2)"
   ]
  },
  {
   "cell_type": "markdown",
   "id": "d1f62a42-dbd9-4860-b66b-14855dc90458",
   "metadata": {},
   "source": [
    "---"
   ]
  },
  {
   "cell_type": "markdown",
   "id": "364452c2-655b-4e95-9545-9fc89b70977b",
   "metadata": {},
   "source": [
    "---"
   ]
  },
  {
   "cell_type": "markdown",
   "id": "7386221a-fe14-4e4d-b073-d6d0801170c5",
   "metadata": {},
   "source": [
    "## Arreglos, listas, matrices. 15/08/24"
   ]
  },
  {
   "cell_type": "code",
   "execution_count": 3,
   "id": "1c49b2f8-5a4a-40ab-ad0b-40114d38c90d",
   "metadata": {},
   "outputs": [
    {
     "name": "stdout",
     "output_type": "stream",
     "text": [
      "0 0 0 0 0 0  \n",
      "0 0 0 0 0 0  \n",
      "0 0 0 0 0 0  \n",
      "0 0 0 0 0 0  \n",
      "0 0 0 0 0 0  \n",
      "0 0 0 0 0 0  \n",
      "\n",
      "\n",
      "(1,1)  (1,2)  (1,3)  (1,4)  (1,5)  (1,6)   \n",
      "(2,1)  (2,2)  (2,3)  (2,4)  (2,5)  (2,6)   \n",
      "(3,1)  (3,2)  (3,3)  (3,4)  (3,5)  (3,6)   \n",
      "(4,1)  (4,2)  (4,3)  (4,4)  (4,5)  (4,6)   \n",
      "(5,1)  (5,2)  (5,3)  (5,4)  (5,5)  (5,6)   \n",
      "(6,1)  (6,2)  (6,3)  (6,4)  (6,5)  (6,6)   \n"
     ]
    }
   ],
   "source": [
    "# Matriz de (6x6)\n",
    "for i in range(1,7):\n",
    "    for j in range(1,7):\n",
    "        print(0, end = ' ')\n",
    "    print(' ')\n",
    "\n",
    "print ('\\n')\n",
    "\n",
    "for i in range(1,7):\n",
    "    for j in range(1,7):\n",
    "        print(f'({i},{j})', end = '  ')\n",
    "    print(' ')"
   ]
  },
  {
   "cell_type": "code",
   "execution_count": 2,
   "id": "77ee296f-d83a-41ab-aed7-7476df755cd3",
   "metadata": {},
   "outputs": [
    {
     "name": "stdout",
     "output_type": "stream",
     "text": [
      "0,0) 0,1) 0,2) 0,3) 0,4) 0,5) 0,6) 0,7) 0,8) 0,9) 0,10) 0,11)  \n",
      "1,0) 1,1) 1,2) 1,3) 1,4) 1,5) 1,6) 1,7) 1,8) 1,9) 1,10) 1,11)  \n",
      "2,0) 2,1) 2,2) 2,3) 2,4) 2,5) 2,6) 2,7) 2,8) 2,9) 2,10) 2,11)  \n",
      "3,0) 3,1) 3,2) 3,3) 3,4) 3,5) 3,6) 3,7) 3,8) 3,9) 3,10) 3,11)  \n",
      "4,0) 4,1) 4,2) 4,3) 4,4) 4,5) 4,6) 4,7) 4,8) 4,9) 4,10) 4,11)  \n",
      "5,0) 5,1) 5,2) 5,3) 5,4) 5,5) 5,6) 5,7) 5,8) 5,9) 5,10) 5,11)  \n",
      "6,0) 6,1) 6,2) 6,3) 6,4) 6,5) 6,6) 6,7) 6,8) 6,9) 6,10) 6,11)  \n",
      "7,0) 7,1) 7,2) 7,3) 7,4) 7,5) 7,6) 7,7) 7,8) 7,9) 7,10) 7,11)  \n",
      "8,0) 8,1) 8,2) 8,3) 8,4) 8,5) 8,6) 8,7) 8,8) 8,9) 8,10) 8,11)  \n",
      "9,0) 9,1) 9,2) 9,3) 9,4) 9,5) 9,6) 9,7) 9,8) 9,9) 9,10) 9,11)  \n",
      "10,0) 10,1) 10,2) 10,3) 10,4) 10,5) 10,6) 10,7) 10,8) 10,9) 10,10) 10,11)  \n",
      "11,0) 11,1) 11,2) 11,3) 11,4) 11,5) 11,6) 11,7) 11,8) 11,9) 11,10) 11,11)  \n"
     ]
    }
   ],
   "source": [
    "for i in range(12):\n",
    "    for j in range(12):\n",
    "        print(f'{i},{j})',end = ' ')\n",
    "    print(' ')\n",
    "    "
   ]
  },
  {
   "cell_type": "code",
   "execution_count": 9,
   "id": "c5782c71-e180-42b6-9514-39208383bebe",
   "metadata": {},
   "outputs": [
    {
     "name": "stdout",
     "output_type": "stream",
     "text": [
      "40\n",
      "120\n",
      "240\n",
      "400\n",
      "600\n",
      "[40, 120, 240, 400, 600]\n"
     ]
    }
   ],
   "source": [
    "# Vector por vector\n",
    "v2=[]\n",
    "v=(1,2,3,4,5)\n",
    "v1=(6,7,8,9,10)\n",
    "n=0\n",
    "\n",
    "for i in range(len(v)):\n",
    "    for j in range(len(v1)):\n",
    "        n = n+ v[i]*v1[j]\n",
    "    print(n)\n",
    "    v2.append(n)\n",
    "print(v2)\n",
    "    \n",
    "\n"
   ]
  },
  {
   "cell_type": "code",
   "execution_count": 10,
   "id": "98154d9e-8a33-4feb-8a9f-8dbf396062f4",
   "metadata": {},
   "outputs": [
    {
     "name": "stdout",
     "output_type": "stream",
     "text": [
      "130\n",
      "260\n",
      "390\n",
      "520\n",
      "650\n",
      "[130, 260, 390, 520, 650]\n"
     ]
    }
   ],
   "source": [
    "v2=[]\n",
    "v=(1,2,3,4,5)\n",
    "v1=(6,7,8,9,10)\n",
    "n=0\n",
    "\n",
    "for i in range(len(v)):\n",
    "    for i in range(len(v1)):\n",
    "        n = n+ v[i]*v1[i]\n",
    "    print(n)\n",
    "    v2.append(n)\n",
    "print(v2)\n",
    "    "
   ]
  },
  {
   "cell_type": "code",
   "execution_count": 4,
   "id": "977cacd7-7cc9-4a93-ae9c-75de90680bec",
   "metadata": {},
   "outputs": [
    {
     "name": "stdout",
     "output_type": "stream",
     "text": [
      "16\n"
     ]
    }
   ],
   "source": [
    "#Otra forma de hacer vector con vector\n",
    "v=(2,4)\n",
    "u=(4,2)\n",
    "r=0\n",
    "\n",
    "# hacer n veces (i) con i la variable contadora\n",
    "for i in range(len(v)):\n",
    "    r=0\n",
    "    for i in range(len(u)):\n",
    "     r= r + v[i]*u[i]\n",
    "print(r)"
   ]
  },
  {
   "cell_type": "code",
   "execution_count": 30,
   "id": "ec138311-c5d7-4841-bdb0-a211a7f376bc",
   "metadata": {},
   "outputs": [
    {
     "name": "stdout",
     "output_type": "stream",
     "text": [
      "[14, 10, 13, 11]\n"
     ]
    }
   ],
   "source": [
    "# Matriz por vector\n",
    "A=[[1,2,3],[3,2,1],[2,1,3],[3,1,2]]  #4 filas y 3 columnas\n",
    "V=(1,2,3)\n",
    "t=0\n",
    "vn=[]\n",
    "# Itera sobre cada fila de la matriz A\n",
    "for i in range(len(A)):\n",
    "    t=0\n",
    "    # Itera sobre cada elemento del vector V\n",
    "    for j in range(len(V)): \n",
    "      t = t+ A[i][j] * V[j] # Multiplica el elemento de la matriz por el elemento correspondiente del vector\n",
    "    vn.append(t) # Agrega el resultado a la lista vn\n",
    "print(vn) # Imprime la lista con los resultados        \n"
   ]
  },
  {
   "cell_type": "code",
   "execution_count": 52,
   "id": "145cbb89-402c-41ee-b0a3-9462eb6f5c47",
   "metadata": {},
   "outputs": [
    {
     "name": "stdout",
     "output_type": "stream",
     "text": [
      "Vector V:\n",
      "[0, 1, 2, 3, 4, 5, 6, 7, 8, 9, 10, 11]\n",
      "\n",
      "Matriz A:\n",
      "[0, 1, 2, 3, 4, 5, 6, 7, 8, 9, 10, 11]\n",
      "[1, 2, 3, 4, 5, 6, 7, 8, 9, 10, 11, 12]\n",
      "[2, 3, 4, 5, 6, 7, 8, 9, 10, 11, 12, 13]\n",
      "[3, 4, 5, 6, 7, 8, 9, 10, 11, 12, 13, 14]\n",
      "[4, 5, 6, 7, 8, 9, 10, 11, 12, 13, 14, 15]\n",
      "[5, 6, 7, 8, 9, 10, 11, 12, 13, 14, 15, 16]\n",
      "[6, 7, 8, 9, 10, 11, 12, 13, 14, 15, 16, 17]\n",
      "[7, 8, 9, 10, 11, 12, 13, 14, 15, 16, 17, 18]\n",
      "[8, 9, 10, 11, 12, 13, 14, 15, 16, 17, 18, 19]\n",
      "[9, 10, 11, 12, 13, 14, 15, 16, 17, 18, 19, 20]\n",
      "[10, 11, 12, 13, 14, 15, 16, 17, 18, 19, 20, 21]\n",
      "[11, 12, 13, 14, 15, 16, 17, 18, 19, 20, 21, 22]\n",
      "\n",
      "Resultado de la multiplicación A * V:\n",
      "[506, 572, 638, 704, 770, 836, 902, 968, 1034, 1100, 1166, 1232]\n"
     ]
    }
   ],
   "source": [
    "#Matriz-n por vector-n\n",
    "n=12    #Tamaño de la matriz y vector\n",
    "V=list(range(n)) #Vector con elementos desde 0 a n-1\n",
    "print(\"Vector V:\") #Caractericemos al vector V\n",
    "print(V)\n",
    "\n",
    "# Definir la matriz de tamaño n x n\n",
    "# Aquí creamos una matriz de ejemplo\n",
    "A = [[i + j for j in range(n)] for i in range(n)]\n",
    "print(\"\\nMatriz A:\")\n",
    "for r in A:\n",
    "    print(r)\n",
    "\n",
    "# Multiplicación de la matriz por el vector\n",
    "s = [0] * n  # Inicializar la lista para almacenar el resultado\n",
    "\n",
    "# Realizar la multiplicación\n",
    "for i in range(n):  # Iterar sobre cada fila de la matriz Este es el ciclo exterior que \n",
    "                         #itera sobre cada fila de la matriz. Si n es 50, i tomará valores de 0 a 49.\n",
    "    suma_producto = 0\n",
    "    for j in range(n):  # Iterar sobre cada columna de la matriz (y elemento del vector)\n",
    "        suma_producto += A[i][j] * V[j]\n",
    "        s[i] = suma_producto\n",
    "\n",
    "print(\"\\nResultado de la multiplicación A * V:\")\n",
    "print(s)\n",
    "\n",
    "\n",
    "\n"
   ]
  },
  {
   "cell_type": "code",
   "execution_count": null,
   "id": "243e6f39-e164-443f-9a16-cfe85f9d6577",
   "metadata": {
    "jupyter": {
     "source_hidden": true
    }
   },
   "outputs": [],
   "source": [
    "#Matriz x matriz\n",
    "A=[[1,2,3],[3,2,1],[2,1,3],[3,1,2]]  #4 filas y 3 columnas\n",
    "V=\n",
    "t=0\n",
    "vn=[]\n",
    "# Itera sobre cada fila de la matriz A\n",
    "for i in range(len(A)):\n",
    "    t=0\n",
    "    # Itera sobre cada elemento del vector V\n",
    "    for j in range(len(V)): \n",
    "      t = t+ A[i][j] * V[j] # Multiplica el elemento de la matriz por el elemento correspondiente del vector\n",
    "    vn.append(t) # Agrega el resultado a la lista vn\n",
    "print(vn) # Imprime la lista con los resultados        \n",
    "\n",
    "\n"
   ]
  },
  {
   "cell_type": "markdown",
   "id": "740749c3-3522-4452-a974-3a96567c9a6f",
   "metadata": {},
   "source": [
    "---"
   ]
  },
  {
   "cell_type": "markdown",
   "id": "e7141cd5-5ea3-4424-97c4-98dec2556354",
   "metadata": {},
   "source": [
    "## 20 de Agosto 2024"
   ]
  },
  {
   "cell_type": "code",
   "execution_count": 6,
   "id": "103d8ee1-c26f-491b-ad8b-19b3bcc889b3",
   "metadata": {},
   "outputs": [],
   "source": [
    "from math import *\n",
    "import math as mt"
   ]
  },
  {
   "cell_type": "code",
   "execution_count": 10,
   "id": "7b12fac2-d2d9-4fa1-a65f-6d300241ced4",
   "metadata": {},
   "outputs": [
    {
     "name": "stdin",
     "output_type": "stream",
     "text": [
      "Ingresa el valor de x: 45\n",
      "Ingresa el valor de y: 21\n"
     ]
    },
    {
     "name": "stdout",
     "output_type": "stream",
     "text": [
      "[45.0, 21.0]\n",
      "12.5\n",
      "0.9272952180016122\n",
      "Todo es:\n",
      "12.5 , 0.9272952180016122\n"
     ]
    }
   ],
   "source": [
    "#1b)\n",
    "x=input(\"Ingresa el valor de x:\")\n",
    "y=input(\"Ingresa el valor de y:\")\n",
    "s=[float(x),float(y)]\n",
    "print(s)\n",
    "r= sqrt(x**2 + y**2)\n",
    "print(r)\n",
    "th= mt.atan2(y,x)\n",
    "print(th)\n",
    "print(\"Todo es:\")\n",
    "print(r, \",\", th)"
   ]
  },
  {
   "cell_type": "code",
   "execution_count": 3,
   "id": "17ed5233-2813-4842-b27b-00fa088ab3e8",
   "metadata": {},
   "outputs": [
    {
     "name": "stdout",
     "output_type": "stream",
     "text": [
      "1.4142135623730951\n"
     ]
    }
   ],
   "source": [
    "r=sqrt(2)\n",
    "print(r)"
   ]
  },
  {
   "cell_type": "markdown",
   "id": "8eda5fcc-a934-44c4-9d4c-a5e23558068e",
   "metadata": {},
   "source": [
    "--- ---"
   ]
  },
  {
   "cell_type": "markdown",
   "id": "a0ebace7-6a61-4d65-b379-42e80cf62b48",
   "metadata": {},
   "source": [
    "### 27 de Agosto 2024"
   ]
  },
  {
   "cell_type": "markdown",
   "id": "6ab964ba-a865-4d25-a808-a3644ce553f4",
   "metadata": {},
   "source": [
    "#### GRAFICACIÓN\n"
   ]
  },
  {
   "cell_type": "code",
   "execution_count": 4,
   "id": "9bd85021-5154-4795-b1d1-9d37e9119bf7",
   "metadata": {},
   "outputs": [],
   "source": [
    "import numpy as np\n",
    "import matplotlib.pyplot as plt"
   ]
  },
  {
   "cell_type": "code",
   "execution_count": null,
   "id": "3eb26025-2e91-47cf-8efb-22c15f38fefd",
   "metadata": {
    "jupyter": {
     "source_hidden": true
    }
   },
   "outputs": [],
   "source": [
    "import mathplotlib.pyplot"
   ]
  },
  {
   "cell_type": "code",
   "execution_count": 7,
   "id": "66318b8f-e670-4655-a90b-873e27a1c47f",
   "metadata": {},
   "outputs": [
    {
     "name": "stdout",
     "output_type": "stream",
     "text": [
      "[0 1 2 3 4 5 6 7 8 9]\n",
      "[ 0  1  4  9 16 25 36 49 64 81]\n"
     ]
    }
   ],
   "source": [
    "\n",
    "\n",
    "x= np.arange(10)\n",
    "y=x*x\n",
    "\n",
    "print(x)\n",
    "print(y)\n"
   ]
  },
  {
   "cell_type": "code",
   "execution_count": 10,
   "id": "52bb3490-4b2d-43ab-a5bb-b4177f6b7914",
   "metadata": {},
   "outputs": [
    {
     "data": {
      "text/plain": [
       "[<matplotlib.lines.Line2D at 0x7f6da9d1de80>]"
      ]
     },
     "execution_count": 10,
     "metadata": {},
     "output_type": "execute_result"
    },
    {
     "data": {
      "image/png": "[encoded data removed]",
      "text/plain": [
       "<Figure size 640x480 with 1 Axes>"
      ]
     },
     "metadata": {},
     "output_type": "display_data"
    }
   ],
   "source": [
    "plt.plot(y, \".\")"
   ]
  },
  {
   "cell_type": "code",
   "execution_count": null,
   "id": "1e5d38e8-d194-4c9e-9632-0c764976806d",
   "metadata": {},
   "outputs": [],
   "source": []
  },
  {
   "cell_type": "code",
   "execution_count": null,
   "id": "64e640c4-ba0b-4032-80ba-1bccbdcedcba",
   "metadata": {},
   "outputs": [],
   "source": [
    "def f(x):\n",
    "    print(\"Argumento x = \", x)\n",
    "    return x*x                      # Print (x*x) no hace funcionar como una relación.\n",
    "\n",
    "# Las funciones deben regresar algo siempre\n",
    "\n",
    "# la llamamos:\n",
    "f(3)\n",
    "f(3.5)\n",
    "\n",
    "\n",
    "#a=s(3) es al usar el print de arriba es opcional pero si no hay return el a no regresa nada."
   ]
  },
  {
   "cell_type": "code",
   "execution_count": null,
   "id": "966ccb6d-22e6-422e-8f4c-3a66c96be120",
   "metadata": {
    "scrolled": true
   },
   "outputs": [],
   "source": [
    "z = np.arange(100)\n",
    "g= exp\n",
    "plt.plot(exp, \".\")"
   ]
  },
  {
   "cell_type": "code",
   "execution_count": 17,
   "id": "3d3507d4-33fe-4586-8885-e97b329e2453",
   "metadata": {},
   "outputs": [],
   "source": [
    "from math import *\n",
    "from math import exp"
   ]
  },
  {
   "cell_type": "code",
   "execution_count": 13,
   "id": "d0948f96-5550-4c23-941f-17d214d3f6b7",
   "metadata": {},
   "outputs": [
    {
     "data": {
      "text/plain": [
       "2.718281828459045"
      ]
     },
     "execution_count": 13,
     "metadata": {},
     "output_type": "execute_result"
    }
   ],
   "source": [
    "e"
   ]
  },
  {
   "cell_type": "markdown",
   "id": "8a302d76-e801-4b1d-92f4-123585ac410c",
   "metadata": {},
   "source": [
    "## 10 SEPTIEMBRE DE 2024"
   ]
  },
  {
   "cell_type": "code",
   "execution_count": 2,
   "id": "d6301d7c-a435-40af-9e7f-a1740739b590",
   "metadata": {},
   "outputs": [],
   "source": [
    "import numpy as np\n",
    "import matplotlib.pyplot as plt\n",
    "import random as rd\n",
    "\n"
   ]
  },
  {
   "cell_type": "code",
   "execution_count": null,
   "id": "ee134bb5-262a-4468-a299-7cb3af0acdf5",
   "metadata": {},
   "outputs": [],
   "source": [
    "d.random()"
   ]
  },
  {
   "cell_type": "code",
   "execution_count": null,
   "id": "4a9cc47a-7f62-4129-b359-961b994c5ea6",
   "metadata": {},
   "outputs": [],
   "source": [
    "np.random"
   ]
  },
  {
   "cell_type": "code",
   "execution_count": 5,
   "id": "43cd98f5-1f4f-4723-bcb9-5715c8886721",
   "metadata": {},
   "outputs": [],
   "source": [
    "l= 1\n",
    "x0 = 0.0\n",
    "N = 10000\n",
    "\n",
    "c      #Posiciones de x\n",
    "        \n",
    "R=[]    #Caja de valores \n",
    "\n",
    "\n",
    "#T=[]"
   ]
  },
  {
   "cell_type": "code",
   "execution_count": 7,
   "id": "92b5c264-1665-4040-87e4-244579153d47",
   "metadata": {},
   "outputs": [],
   "source": [
    "def Walker(N,x0,L)\n",
    "\n",
    "for i in range(N):\n",
    "        r =rd.random()\n",
    "        if r<=0.5:\n",
    "            x0 = x0 + l\n",
    "        else:\n",
    "            x0 = x0 - l\n",
    "\n",
    "        R.append(r)\n",
    "        X.append(x0)\n",
    "            "
   ]
  },
  {
   "cell_type": "code",
   "execution_count": 8,
   "id": "02d2959f-b27c-4d76-ab6e-7456e061c0bf",
   "metadata": {},
   "outputs": [
    {
     "data": {
      "text/plain": [
       "[<matplotlib.lines.Line2D at 0x7f6a09322330>]"
      ]
     },
     "execution_count": 8,
     "metadata": {},
     "output_type": "execute_result"
    },
    {
     "data": {
      "image/png": "[encoded data removed]",
      "text/plain": [
       "<Figure size 640x480 with 1 Axes>"
      ]
     },
     "metadata": {},
     "output_type": "display_data"
    }
   ],
   "source": [
    "plt.plot(X)"
   ]
  },
  {
   "cell_type": "code",
   "execution_count": null,
   "id": "d4ae017b-1c22-4097-b738-db473eb4f4b2",
   "metadata": {},
   "outputs": [],
   "source": []
  },
  {
   "cell_type": "code",
   "execution_count": null,
   "id": "fc5630c3-05db-4a3e-9833-ba38d4d733b2",
   "metadata": {},
   "outputs": [],
   "source": [
    "al hacer el historgrama y ponerle beans sigue sin verse normal, pero si ahora graficamos con r"
   ]
  },
  {
   "cell_type": "code",
   "execution_count": 19,
   "id": "7d6f533a-b18f-46e9-86ce-a646cb4f7101",
   "metadata": {},
   "outputs": [
    {
     "data": {
      "text/plain": [
       "(array([102.,  94., 109.,  99.,  97., 102.,  81.,  98., 106., 103., 103.,\n",
       "        110., 120., 102.,  83.,  89.,  96., 101., 108., 103., 115.,  99.,\n",
       "         98., 102., 111., 100.,  98., 125.,  89.,  94., 103., 113.,  91.,\n",
       "         90., 105.,  98., 104.,  98., 102., 112.,  85., 122.,  95.,  91.,\n",
       "        124.,  88.,  95., 112., 118.,  99., 112.,  91.,  72.,  78., 100.,\n",
       "         95.,  89., 108., 106.,  93.,  99., 115.,  91., 108., 109.,  94.,\n",
       "        106.,  88., 104.,  89., 104.,  98., 110., 102.,  96., 101., 108.,\n",
       "         87.,  94.,  83., 116.,  91.,  88., 116., 108., 105.,  88., 106.,\n",
       "        102.,  91.,  74.,  97., 102., 100.,  99., 105.,  97., 120.,  84.,\n",
       "         99.]),\n",
       " array([2.46118271e-04, 1.02424413e-02, 2.02387643e-02, 3.02350873e-02,\n",
       "        4.02314103e-02, 5.02277334e-02, 6.02240564e-02, 7.02203794e-02,\n",
       "        8.02167024e-02, 9.02130254e-02, 1.00209348e-01, 1.10205671e-01,\n",
       "        1.20201994e-01, 1.30198318e-01, 1.40194641e-01, 1.50190964e-01,\n",
       "        1.60187287e-01, 1.70183610e-01, 1.80179933e-01, 1.90176256e-01,\n",
       "        2.00172579e-01, 2.10168902e-01, 2.20165225e-01, 2.30161548e-01,\n",
       "        2.40157871e-01, 2.50154194e-01, 2.60150517e-01, 2.70146840e-01,\n",
       "        2.80143163e-01, 2.90139486e-01, 3.00135809e-01, 3.10132132e-01,\n",
       "        3.20128455e-01, 3.30124778e-01, 3.40121101e-01, 3.50117424e-01,\n",
       "        3.60113747e-01, 3.70110070e-01, 3.80106393e-01, 3.90102716e-01,\n",
       "        4.00099039e-01, 4.10095362e-01, 4.20091685e-01, 4.30088008e-01,\n",
       "        4.40084331e-01, 4.50080654e-01, 4.60076977e-01, 4.70073300e-01,\n",
       "        4.80069623e-01, 4.90065946e-01, 5.00062269e-01, 5.10058592e-01,\n",
       "        5.20054915e-01, 5.30051238e-01, 5.40047561e-01, 5.50043884e-01,\n",
       "        5.60040207e-01, 5.70036530e-01, 5.80032853e-01, 5.90029176e-01,\n",
       "        6.00025499e-01, 6.10021822e-01, 6.20018145e-01, 6.30014468e-01,\n",
       "        6.40010791e-01, 6.50007114e-01, 6.60003437e-01, 6.69999760e-01,\n",
       "        6.79996083e-01, 6.89992406e-01, 6.99988730e-01, 7.09985053e-01,\n",
       "        7.19981376e-01, 7.29977699e-01, 7.39974022e-01, 7.49970345e-01,\n",
       "        7.59966668e-01, 7.69962991e-01, 7.79959314e-01, 7.89955637e-01,\n",
       "        7.99951960e-01, 8.09948283e-01, 8.19944606e-01, 8.29940929e-01,\n",
       "        8.39937252e-01, 8.49933575e-01, 8.59929898e-01, 8.69926221e-01,\n",
       "        8.79922544e-01, 8.89918867e-01, 8.99915190e-01, 9.09911513e-01,\n",
       "        9.19907836e-01, 9.29904159e-01, 9.39900482e-01, 9.49896805e-01,\n",
       "        9.59893128e-01, 9.69889451e-01, 9.79885774e-01, 9.89882097e-01,\n",
       "        9.99878420e-01]),\n",
       " <BarContainer object of 100 artists>)"
      ]
     },
     "execution_count": 19,
     "metadata": {},
     "output_type": "execute_result"
    },
    {
     "data": {
      "image/png": "[encoded data removed]",
      "text/plain": [
       "<Figure size 640x480 with 1 Axes>"
      ]
     },
     "metadata": {},
     "output_type": "display_data"
    }
   ],
   "source": [
    "plt.hist(R, bins=100)             # Ya nos da una distribución uniforme"
   ]
  },
  {
   "cell_type": "code",
   "execution_count": null,
   "id": "425adf3a-24d5-4f41-89ac-a80e06e546fa",
   "metadata": {},
   "outputs": [],
   "source": []
  },
  {
   "cell_type": "code",
   "execution_count": 22,
   "id": "48b9076a-ec0f-4c16-8293-9ae6823a62f6",
   "metadata": {},
   "outputs": [],
   "source": [
    "def Walker(N,x0,l):\n",
    "    X = []\n",
    "    for i in range(N):\n",
    "        r =rd.random()\n",
    "        if r<=0.5:\n",
    "            x0 = x0 + l\n",
    "        else:\n",
    "            x0 = x0 - l\n",
    "\n",
    "       #  R.append(r)\n",
    "        X.append(x0)\n",
    "    return X"
   ]
  },
  {
   "cell_type": "code",
   "execution_count": 23,
   "id": "27e43271-a4e2-48cb-8315-f9e36c40083d",
   "metadata": {},
   "outputs": [
    {
     "data": {
      "text/plain": [
       "[<matplotlib.lines.Line2D at 0x7f6a08dc6480>]"
      ]
     },
     "execution_count": 23,
     "metadata": {},
     "output_type": "execute_result"
    },
    {
     "data": {
      "image/png": "[encoded data removed]",
      "text/plain": [
       "<Figure size 640x480 with 1 Axes>"
      ]
     },
     "metadata": {},
     "output_type": "display_data"
    }
   ],
   "source": [
    "plt.plot(X)"
   ]
  },
  {
   "cell_type": "code",
   "execution_count": null,
   "id": "6cf5afe7-861c-4ac0-9c19-f1b51e0f4206",
   "metadata": {},
   "outputs": [],
   "source": [
    "l= 1\n",
    "x0 = 0.0\n",
    "N = 10000\n",
    "w=[]\n",
    "P=[]\n",
    "for i in range(100+1):\n",
    "    w= Walker(N,x0,l)\n",
    "    for p in w:\n",
    "    P.append(p)\n",
    "    plt.plot(w)\n"
   ]
  },
  {
   "cell_type": "code",
   "execution_count": 26,
   "id": "9d5ed9bc-a3da-4c63-bf2b-f615eb51ddc3",
   "metadata": {},
   "outputs": [
    {
     "ename": "AttributeError",
     "evalue": "module 'matplotlib.pyplot' has no attribute 'hidt'",
     "output_type": "error",
     "traceback": [
      "\u001b[0;31m---------------------------------------------------------------------------\u001b[0m",
      "\u001b[0;31mAttributeError\u001b[0m                            Traceback (most recent call last)",
      "Cell \u001b[0;32mIn[26], line 1\u001b[0m\n\u001b[0;32m----> 1\u001b[0m \u001b[43mplt\u001b[49m\u001b[38;5;241;43m.\u001b[39;49m\u001b[43mhidt\u001b[49m(P, bins\u001b[38;5;241m=\u001b[39m\u001b[38;5;241m500\u001b[39m)\n\u001b[1;32m      2\u001b[0m sns\u001b[38;5;241m.\u001b[39mdisplot(P,kind\u001b[38;5;241m=\u001b[39m\u001b[38;5;124m\"\u001b[39m\u001b[38;5;124mkde\u001b[39m\u001b[38;5;124m\"\u001b[39m)\n",
      "\u001b[0;31mAttributeError\u001b[0m: module 'matplotlib.pyplot' has no attribute 'hidt'"
     ]
    }
   ],
   "source": [
    "plt.hist(P, bins=500)\n",
    "sns.displot(P,kind=\"kde\")"
   ]
  },
  {
   "cell_type": "code",
   "execution_count": null,
   "id": "a6fe47e1-2270-4334-bff4-b96725b31270",
   "metadata": {},
   "outputs": [],
   "source": [
    "LA DISTRIBUCION NOS DA NUMEROS ENTRE INFINITO E MENOS INFINITO"
   ]
  },
  {
   "cell_type": "code",
   "execution_count": 3,
   "id": "62b6e018-f770-4008-8087-586aa0f4f88a",
   "metadata": {},
   "outputs": [],
   "source": [
    "import math as mt"
   ]
  },
  {
   "cell_type": "code",
   "execution_count": 4,
   "id": "afd2922a-25c5-4ae7-801c-deeaea7d4ad5",
   "metadata": {},
   "outputs": [],
   "source": [
    "def Walker2(N,x0,l):\n",
    "    X = []\n",
    "    for i in range(N):\n",
    "        r =np.random.normal(0.0,mt.pi)    # Desviación estandar y pi\n",
    "      #  r=np.random.binomial(100,0.5)            #Binomial, de todos los caminantes se van a ir a la derecha pero jamas pasa por lo que se va a la verga\n",
    "        if r<=0.0:\n",
    "            x0 = x0 + l\n",
    "        else:2024\n",
    "            x0 = x0 - l\n",
    "\n",
    "       #  R.append(r)\n",
    "        X.append(x0)\n",
    "    return X"
   ]
  },
  {
   "cell_type": "code",
   "execution_count": null,
   "id": "3e8b5721-2d78-4a3f-b60c-20bbcd8fb33d",
   "metadata": {},
   "outputs": [],
   "source": [
    "l= 1\n",
    "x0 = 0.0\n",
    "N = 10000\n",
    "w=[]\n",
    "P=[]\n",
    "for i in range(100+1):\n",
    "    w= Walker2(N,x0,l)\n",
    "    for p in w:\n",
    "        P.append(p)\n",
    "     plt.plot(w)\n"
   ]
  },
  {
   "cell_type": "code",
   "execution_count": 1,
   "id": "7c5888e7-7e1d-494c-9263-3ce1449f567f",
   "metadata": {},
   "outputs": [
    {
     "ename": "NameError",
     "evalue": "name 'plt' is not defined",
     "output_type": "error",
     "traceback": [
      "\u001b[0;31m---------------------------------------------------------------------------\u001b[0m",
      "\u001b[0;31mNameError\u001b[0m                                 Traceback (most recent call last)",
      "Cell \u001b[0;32mIn[1], line 1\u001b[0m\n\u001b[0;32m----> 1\u001b[0m \u001b[43mplt\u001b[49m\u001b[38;5;241m.\u001b[39mhist(R,bins\u001b[38;5;241m=\u001b[39m\u001b[38;5;241m50\u001b[39m)\n\u001b[1;32m      2\u001b[0m sns\u001b[38;5;241m.\u001b[39mdisplot(P,bins\u001b[38;5;241m=\u001b[39m\u001b[38;5;241m50\u001b[39m)\n\u001b[1;32m      3\u001b[0m plt\u001b[38;5;241m.\u001b[39mhist(R,bins\u001b[38;5;241m=\u001b[39m\u001b[38;5;241m50\u001b[39m,kde\u001b[38;5;241m=\u001b[39m\u001b[38;5;28;01mTrue\u001b[39;00m)\n",
      "\u001b[0;31mNameError\u001b[0m: name 'plt' is not defined"
     ]
    }
   ],
   "source": [
    "#plt.hist(R,bins=50)\n",
    "sns.displot(P,bins=50)\n",
    "#plt.hist(R,bins=50,kde=True)"
   ]
  },
  {
   "cell_type": "code",
   "execution_count": null,
   "id": "2b6c283e-31b2-4837-b5d9-4210d32d8c0a",
   "metadata": {
    "jupyter": {
     "source_hidden": true
    }
   },
   "outputs": [],
   "source": [
    "from matplotlib import rc\n",
    "rc('text'"
   ]
  },
  {
   "cell_type": "markdown",
   "id": "10a69156-72ed-4f2f-9452-ffd398618a94",
   "metadata": {},
   "source": [
    "---"
   ]
  },
  {
   "cell_type": "markdown",
   "id": "e7a6e8d7-66a0-4ab7-b1f4-c960b996f3cb",
   "metadata": {},
   "source": [
    "TAREA 3"
   ]
  },
  {
   "cell_type": "code",
   "execution_count": 20,
   "id": "29809ee7-18c8-46c3-9cb3-70718751a2b5",
   "metadata": {},
   "outputs": [],
   "source": [
    "import numpy as np\n",
    "import matplotlib.pyplot as plt"
   ]
  },
  {
   "cell_type": "code",
   "execution_count": 66,
   "id": "a4682496-dc03-4fe8-b855-969444446794",
   "metadata": {},
   "outputs": [],
   "source": [
    "E = open(\"manchasolares.txt\",\"r\")\n",
    "datos=[]\n",
    "\n",
    "for linea in E:\n",
    "    datos.append(linea)"
   ]
  },
  {
   "cell_type": "code",
   "execution_count": 46,
   "id": "3da8dc55-c67a-4b08-aa24-11a783576022",
   "metadata": {},
   "outputs": [
    {
     "data": {
      "text/plain": [
       "array([58. , 62.6, 70. , ..., 25.2, 23.5, 21.6])"
      ]
     },
     "execution_count": 46,
     "metadata": {},
     "output_type": "execute_result"
    }
   ],
   "source": [
    "M=[]\n",
    "m=[]\n",
    "for x in datos:\n",
    "    dat = x.split('\\t')\n",
    "    M.append(float(dat[0].strip()))\n",
    "    m.append(float(dat[1].strip()))\n",
    "\n",
    "M = np.array(M)\n",
    "m = np.array(m)\n",
    "m"
   ]
  },
  {
   "cell_type": "code",
   "execution_count": 42,
   "id": "2be47981-997a-4023-a049-834171077ed9",
   "metadata": {},
   "outputs": [
    {
     "data": {
      "text/plain": [
       "Text(0, 0.5, 'Mancha')"
      ]
     },
     "execution_count": 42,
     "metadata": {},
     "output_type": "execute_result"
    },
    {
     "data": {
      "image/png": "[encoded data removed]",
      "text/plain": [
       "<Figure size 640x480 with 1 Axes>"
      ]
     },
     "metadata": {},
     "output_type": "display_data"
    }
   ],
   "source": [
    "plt.plot(M,m)\n",
    "#plt.axvline(x = 0.0, color = 'black')\n",
    "#plt.axhline(y = 0.0, color = 'black')\n",
    "plt.grid()\n",
    "plt.title(\"Manchas Solares\")\n",
    "plt.xlabel(\"Mes\")\n",
    "plt.ylabel(\"Mancha\")\n",
    "## plt.xlim(0, 1000)"
   ]
  },
  {
   "cell_type": "code",
   "execution_count": 75,
   "id": "61ca3c43-b819-4e27-a4c5-883c83b1fcac",
   "metadata": {},
   "outputs": [
    {
     "name": "stdout",
     "output_type": "stream",
     "text": [
      "[414.8, 451.6, 455.3, 461.20000000000005, 481.0, 554.6, 556.3000000000001, 534.8, 544.4, 557.7, 570.5, 501.90000000000003, 516.7, 528.8000000000001, 555.9, 557.9000000000001, 535.3, 508.59999999999997, 484.0, 468.6, 409.1, 363.2, 353.9, 351.29999999999995, 326.6, 322.9, 339.2, 317.40000000000003, 284.2, 252.0, 245.29999999999998, 214.0, 204.2, 251.7, 287.8, 319.0, 314.6, 358.0, 337.3, 293.40000000000003, 280.70000000000005, 258.6, 259.0, 224.6, 227.3, 245.89999999999998, 237.3, 235.7, 227.39999999999998, 205.39999999999998, 212.4, 194.7, 181.7, 165.7, 140.7, 118.7, 82.7, 56.400000000000006, 45.099999999999994, 45.8, 65.8, 84.6, 93.89999999999999, 100.39999999999999, 110.80000000000001, 103.3, 80.8, 72.2, 71.10000000000001, 69.7, 52.099999999999994, 38.9, 34.7, 33.1, 25.099999999999998, 36.1, 53.3, 60.099999999999994, 80.1, 84.0, 87.89999999999999, 75.5, 61.199999999999996, 66.9, 59.8, 50.9, 50.2, 56.599999999999994, 61.5, 66.0, 62.5, 73.0, 87.8, 102.2, 117.9, 139.0, 142.4, 153.3, 183.40000000000003, 196.89999999999998, 199.4, 226.0, 246.7, 259.3, 260.0, 269.29999999999995, 309.1, 290.79999999999995, 302.29999999999995, 308.70000000000005, 295.4, 308.9, 274.3, 270.9, 268.9, 273.2, 278.5, 262.8, 272.1, 278.1, 285.1, 287.8, 315.1, 345.5, 358.2, 355.5, 362.5, 378.8, 367.0, 364.5, 363.1, 388.8, 380.1, 378.8, 394.9, 381.50000000000006, 373.8, 361.5, 374.2, 378.2, 393.6, 413.0, 434.09999999999997, 481.59999999999997, 519.9, 544.0, 544.1, 564.1, 581.1, 563.6, 510.29999999999995, 460.0, 441.70000000000005, 386.7, 358.2, 308.4, 339.5, 329.5, 324.4, 347.2, 356.3, 394.2, 394.3, 417.0, 381.2, 346.9, 310.5, 265.40000000000003, 224.0, 221.7, 216.3, 250.2, 263.59999999999997, 291.79999999999995, 317.4, 322.9, 356.09999999999997, 328.2, 316.29999999999995, 299.7, 268.3, 238.60000000000002, 208.89999999999998, 196.89999999999998, 190.5, 172.2, 167.89999999999998, 161.9, 157.9, 154.7, 148.7, 142.9, 137.2, 140.2, 143.9, 134.9, 126.9, 120.7, 113.7, 98.7, 80.0, 100.6, 92.6, 105.39999999999999, 95.39999999999999, 86.7, 79.7, 47.39999999999999, 46.4, 25.3, 41.5, 65.6, 91.6, 130.3, 158.2, 182.3, 196.40000000000003, 190.9, 201.7, 201.39999999999998, 212.6, 237.5, 257.5, 289.1, 314.4, 318.00000000000006, 316.59999999999997, 339.59999999999997, 363.69999999999993, 362.80000000000007, 363.5, 392.0, 427.1, 440.0, 474.40000000000003, 495.70000000000005, 493.09999999999997, 482.6, 501.49999999999994, 484.5, 467.1, 511.79999999999995, 567.9, 652.4000000000001, 713.9000000000001, 788.4, 806.0, 791.4, 813.6, 744.9, 637.7, 559.7, 531.0, 536.8000000000001, 520.6, 544.9, 597.5, 659.5999999999999, 678.5999999999999, 604.8, 524.7, 466.99999999999994, 428.29999999999995, 448.8, 466.0, 497.7, 510.0, 564.7, 589.8, 536.8000000000001, 513.0, 546.2, 578.5, 508.2, 510.40000000000003, 448.70000000000005, 410.0, 386.40000000000003, 351.8, 371.2, 357.6, 380.90000000000003, 387.90000000000003, 365.20000000000005, 338.0, 338.7, 293.0, 272.8, 237.20000000000002, 210.29999999999998, 193.99999999999997, 172.1, 165.50000000000003, 165.29999999999998, 180.10000000000002, 199.2, 251.9, 278.3, 295.8, 306.20000000000005, 291.5, 262.2, 203.4, 155.6, 125.8, 92.2, 75.9, 62.800000000000004, 56.199999999999996, 59.9, 57.099999999999994, 43.300000000000004, 43.4, 40.0, 47.9, 39.5, 33.9, 45.1, 40.7, 61.400000000000006, 65.1, 68.2, 84.4, 80.5, 91.6, 70.9, 83.5, 93.2, 101.4, 125.2, 146.2, 190.2, 202.5, 225.5, 291.0, 336.3, 377.0, 427.0, 502.5, 579.7, 590.7, 656.4, 733.0, 815.3, 812.5999999999999, 830.4, 868.9, 961.8000000000001, 976.1, 951.8000000000001, 982.5, 1020.2, 1031.5, 942.8999999999999, 876.3, 838.0, 863.7, 810.0, 798.7, 788.4, 797.1, 825.4000000000001, 771.7, 764.7, 743.7, 717.7, 714.0, 641.0, 627.0, 614.0, 585.0, 578.2, 556.2, 572.2, 560.2, 555.9, 537.9, 490.7, 461.4, 474.09999999999997, 462.79999999999995, 422.09999999999997, 413.40000000000003, 458.1, 497.09999999999997, 471.9, 463.2, 461.2, 420.2, 382.5, 320.0, 300.5, 272.0, 258.0, 271.7, 259.0, 261.8, 244.8, 251.3, 248.3, 230.5, 207.7, 199.7, 190.7, 185.39999999999998, 178.1, 183.2, 174.70000000000002, 169.89999999999998, 174.10000000000002, 155.4, 146.7, 126.4, 118.4, 103.7, 84.5, 72.5, 65.5, 67.5, 58.5, 57.0, 50.0, 52.0, 51.0, 49.0, 60.0, 65.0, 65.5, 63.5, 62.5, 70.2, 73.9, 86.2, 116.0, 128.0, 151.0, 182.5, 202.0, 203.0, 203.90000000000003, 231.50000000000003, 247.2, 285.4, 337.5, 369.2, 415.0, 457.1, 520.9, 547.8, 571.5, 625.2, 676.9000000000001, 693.2, 669.1, 684.0, 702.8, 689.3000000000001, 682.6, 713.8, 783.7, 813.5, 820.2, 895.0, 905.0, 897.0, 883.0, 834.5, 806.0, 786.2, 789.7, 796.5, 794.2, 827.7, 809.4000000000001, 784.7, 757.2, 746.5, 725.5, 706.8, 735.6, 726.1, 729.1, 706.8, 698.8, 665.2, 675.7, 691.2, 677.2, 701.7, 686.0, 690.3, 649.3, 604.8, 571.1, 530.6, 511.6, 501.90000000000003, 490.90000000000003, 473.90000000000003, 477.3, 452.3, 449.0, 441.9, 433.59999999999997, 423.79999999999995, 422.09999999999997, 403.09999999999997, 395.6, 380.09999999999997, 373.4, 375.2, 362.2, 383.2, 379.7, 393.7, 388.7, 383.7, 371.5, 367.5, 363.5, 346.8, 341.8, 336.8, 347.0, 342.0, 338.5, 332.5, 327.8, 322.8, 316.8, 291.1, 259.6, 253.60000000000002, 245.3, 240.0, 235.0, 249.7, 263.7, 245.1, 256.8, 252.60000000000002, 248.60000000000002, 244.60000000000002, 217.7, 217.79999999999998, 229.5, 239.4, 219.8, 219.70000000000002, 221.20000000000002, 211.3, 174.89999999999998, 140.6, 132.1, 117.90000000000002, 118.80000000000001, 119.7, 113.7, 114.6, 123.7, 121.8, 124.0, 136.2, 132.2, 120.9, 125.80000000000001, 103.5, 106.20000000000002, 85.5, 72.9, 71.3, 58.8, 61.5, 47.1, 40.1, 39.0, 45.0, 34.9, 36.7, 38.400000000000006, 41.3, 39.8, 31.7, 29.400000000000002, 27.400000000000002, 34.1, 28.300000000000004, 22.5, 19.5, 17.5, 16.5, 6.5, 6.9, 19.4, 29.299999999999997, 30.9, 40.5, 59.8, 66.7, 62.39999999999999, 63.1, 63.599999999999994, 51.0, 29.300000000000004, 25.5, 19.999999999999996, 18.0, 22.799999999999997, 32.099999999999994, 45.99999999999999, 41.400000000000006, 43.7, 58.8, 72.9, 83.1, 80.7, 93.0, 98.5, 114.9, 120.9, 130.4, 148.9, 167.6, 189.1, 180.2, 188.2, 197.89999999999998, 201.39999999999998, 203.0, 210.8, 227.8, 240.60000000000002, 248.89999999999998, 256.2, 265.6, 269.8, 267.6, 267.8, 270.8, 281.8, 278.3, 268.8, 272.8, 274.8, 275.6, 253.3, 239.8, 249.60000000000002, 235.60000000000002, 233.89999999999998, 217.20000000000002, 233.0, 262.3, 269.0, 281.0, 278.0, 292.2, 294.90000000000003, 291.20000000000005, 273.59999999999997, 260.4, 244.90000000000003, 239.70000000000002, 244.7, 256.4, 284.0, 309.2, 340.4, 341.40000000000003, 339.8, 315.0, 293.0, 273.5, 250.1, 248.7, 241.70000000000002, 233.60000000000002, 235.6, 233.40000000000003, 234.8, 221.7, 210.0, 208.3, 193.70000000000002, 181.0, 172.0, 168.70000000000002, 160.0, 159.3, 157.9, 156.3, 138.3, 124.2, 109.8, 106.6, 91.60000000000001, 79.6, 80.3, 80.1, 76.2, 60.400000000000006, 53.00000000000001, 41.0, 28.3, 20.8, 15.1, 19.4, 30.3, 43.8, 50.5, 54.0, 65.7, 58.10000000000001, 55.1, 53.89999999999999, 54.400000000000006, 55.60000000000001, 44.800000000000004, 42.6, 34.099999999999994, 29.499999999999996, 22.6, 13.600000000000001, 13.1, 10.6, 8.6, 0.9, 0.6000000000000001, 0.4, 0.0, 0.0, 0.0, 0.0, 0.0, 0.0, 0.0, 0.0, 0.0, 0.0, 0.0, 0.0, 0.0, 0.0, 0.0, 0.0, 6.6, 6.6, 9.0, 15.1, 15.9, 17.0, 21.700000000000003, 23.6, 21.9, 15.8, 16.0, 16.2, 5.3999999999999995, 19.1, 23.599999999999998, 27.499999999999996, 34.4, 43.2, 42.7, 37.400000000000006, 34.1, 46.8, 44.4, 45.5, 63.8, 61.9, 75.3, 86.5, 97.7, 100.8, 104.7, 108.3, 98.7, 94.7, 83.8, 84.4, 80.69999999999999, 70.99999999999999, 73.39999999999999, 68.9, 77.6, 82.80000000000001, 83.50000000000001, 113.4, 131.5, 143.8, 139.10000000000002, 174.9, 191.2, 206.2, 211.5, 213.4, 240.8, 249.89999999999998, 240.70000000000002, 262.3, 304.5, 329.8, 336.90000000000003, 315.50000000000006, 328.00000000000006, 282.4, 256.5, 254.1, 247.9, 234.2, 231.8, 266.5, 314.90000000000003, 284.9, 268.0, 278.1, 291.7, 278.79999999999995, 219.3, 218.49999999999997, 226.2, 214.6, 199.50000000000003, 176.9, 165.60000000000002, 174.5, 198.7, 206.7, 199.8, 208.9, 209.6, 206.7, 164.5, 153.9, 158.7, 147.9, 125.5, 114.10000000000001, 122.80000000000001, 132.0, 130.6, 136.0, 147.2, 154.5, 160.0, 155.6, 143.39999999999998, 143.9, 133.5, 125.4, 129.70000000000002, 109.89999999999999, 111.30000000000001, 110.6, 111.3, 100.80000000000001, 79.30000000000001, 77.6, 78.5, 56.800000000000004, 57.300000000000004, 57.60000000000001, 51.400000000000006, 44.099999999999994, 25.1, 25.7, 24.4, 34.1, 36.8, 35.3, 32.8, 28.899999999999995, 40.599999999999994, 34.7, 31.8, 37.1, 45.1, 46.300000000000004, 30.200000000000003, 17.599999999999998, 16.099999999999998, 10.5, 2.5, 0.4, 1.0, 0.6, 0.6, 0.6, 1.1, 1.1, 0.5, 0.5, 0.5, 20.9, 42.099999999999994, 52.89999999999999, 52.89999999999999, 72.29999999999998, 75.09999999999998, 54.699999999999996, 33.0, 23.599999999999998, 44.099999999999994, 49.9, 47.099999999999994, 47.99999999999999, 52.99999999999999, 67.1, 69.0, 47.599999999999994, 63.099999999999994, 77.6, 103.5, 113.7, 107.0, 118.8, 115.0, 121.6, 108.4, 100.9, 121.9, 130.3, 151.0, 166.1, 200.9, 222.29999999999998, 204.5, 231.1, 238.2, 269.2, 251.29999999999998, 259.09999999999997, 298.0, 293.4, 310.2, 298.8, 306.5, 312.8, 304.6, 314.70000000000005, 306.7, 296.1, 306.59999999999997, 317.29999999999995, 332.70000000000005, 337.70000000000005, 378.5, 430.4, 431.8, 443.9, 429.29999999999995, 422.9, 390.79999999999995, 339.7, 328.5, 301.4, 323.3, 363.6, 374.0, 401.0, 448.9, 477.1, 457.6000000000001, 419.8, 420.0, 402.6, 363.8999999999999, 358.4, 390.3, 439.40000000000003, 438.1, 446.70000000000005, 438.4, 416.99999999999994, 394.4, 372.5, 387.5, 404.59999999999997, 408.2, 407.6, 438.9, 409.0, 365.8, 317.0, 314.7, 319.6, 264.09999999999997, 255.89999999999998, 261.3, 256.79999999999995, 242.5, 243.1, 260.3, 240.9, 238.7, 236.5, 219.59999999999997, 172.9, 126.0, 120.20000000000002, 93.2, 94.0, 91.3, 97.39999999999999, 101.0, 82.69999999999999, 81.3, 54.8, 50.5, 41.2, 41.0, 45.699999999999996, 38.699999999999996, 47.599999999999994, 45.5, 57.9, 50.2, 44.1, 47.0, 44.89999999999999, 48.7, 34.6, 42.2, 65.6, 87.3, 114.0, 112.8, 133.3, 141.5, 178.2, 191.29999999999998, 190.0, 242.3, 276.8, 357.90000000000003, 391.6, 448.0, 492.3, 521.1, 569.7, 567.1, 614.8000000000001, 626.1999999999999, 673.4, 701.5000000000001, 701.6999999999999, 698.6, 693.1, 702.5999999999999, 784.2, 855.5, 923.3000000000001, 962.8000000000001, 963.6000000000001, 954.4000000000001, 906.1000000000001, 880.9000000000001, 839.3, 801.0, 786.5, 781.8000000000001, 753.6000000000001, 735.6999999999999, 686.5, 731.0, 733.9000000000001, 764.5000000000001, 729.2, 692.5000000000001, 686.5, 619.3, 583.5, 523.3000000000001, 508.6000000000001, 506.0, 529.6999999999999, 533.8000000000001, 504.79999999999995, 481.2, 456.1, 435.3, 464.0, 519.0, 548.1, 563.0999999999999, 572.1, 568.5, 525.0, 460.09999999999997, 435.1, 435.50000000000006, 420.3, 399.8, 369.9, 376.1, 365.3, 350.40000000000003, 355.59999999999997, 319.0, 291.09999999999997, 246.8, 231.89999999999998, 245.10000000000002, 247.10000000000002, 253.9, 263.3, 270.1, 258.4, 210.7, 193.8, 183.29999999999998, 166.1, 151.29999999999998, 149.7, 154.8, 136.5, 128.7, 133.2, 129.9, 141.1, 156.7, 153.79999999999998, 154.5, 131.39999999999998, 121.29999999999998, 92.7, 73.30000000000001, 66.2, 62.400000000000006, 70.7, 66.60000000000001, 62.400000000000006, 60.4, 62.60000000000001, 62.60000000000001, 65.5, 74.89999999999999, 90.39999999999999, 82.89999999999999, 73.89999999999999, 85.6, 94.80000000000001, 88.19999999999999, 88.9, 88.1, 106.0, 110.50000000000001, 130.2, 166.5, 202.0, 239.0, 248.49999999999997, 253.39999999999998, 242.09999999999997, 228.4, 212.10000000000002, 203.70000000000002, 232.3, 240.39999999999998, 259.1, 293.4, 322.0, 342.6, 348.0, 355.79999999999995, 359.59999999999997, 402.79999999999995, 389.4, 389.79999999999995, 390.19999999999993, 406.3, 396.4, 375.0, 363.90000000000003, 379.0, 398.8, 388.4, 484.1, 559.3, 694.9, 758.3, 782.6, 889.5, 860.7, 808.4, 735.1, 698.4000000000001, 717.8000000000001, 697.9000000000001, 718.6999999999999, 710.4, 735.6999999999999, 748.1, 778.6, 796.4, 795.5999999999999, 791.5, 761.6000000000001, 727.6, 649.2, 570.2, 506.09999999999997, 503.59999999999997, 472.59999999999997, 491.0, 506.9, 506.9, 528.6, 517.5, 490.1, 452.70000000000005, 425.70000000000005, 386.8, 359.0, 362.59999999999997, 389.5, 382.7, 373.7, 410.1, 453.9, 432.30000000000007, 417.80000000000007, 425.6, 427.8, 388.40000000000003, 340.4, 343.70000000000005, 349.70000000000005, 338.1, 346.29999999999995, 378.6, 387.6, 380.90000000000003, 383.80000000000007, 387.70000000000005, 363.19999999999993, 336.90000000000003, 310.2, 286.5, 288.40000000000003, 287.8, 286.3, 285.3, 288.5, 288.7, 269.0, 249.40000000000003, 244.0, 248.79999999999998, 256.4, 252.20000000000002, 247.0, 241.10000000000002, 224.50000000000003, 194.00000000000003, 163.5, 150.7, 134.8, 130.0, 127.69999999999999, 131.0, 126.80000000000001, 128.5, 114.6, 118.8, 119.30000000000001, 112.89999999999999, 108.50000000000001, 103.5, 95.30000000000001, 76.2, 59.9, 47.99999999999999, 39.699999999999996, 22.3, 27.5, 22.599999999999998, 20.400000000000002, 20.5, 22.300000000000004, 22.700000000000003, 19.6, 15.4, 17.5, 21.6, 22.6, 26.599999999999994, 24.6, 32.300000000000004, 34.3, 43.4, 44.9, 45.699999999999996, 52.300000000000004, 73.1, 81.9, 90.4, 99.9, 137.1, 166.6, 169.5, 190.7, 207.5, 225.50000000000003, 240.6, 238.3, 248.29999999999998, 255.6, 273.3, 293.7, 316.29999999999995, 369.2, 379.7, 402.1, 429.09999999999997, 461.4, 471.59999999999997, 466.1, 505.2, 525.4, 536.9, 556.1, 571.5999999999999, 600.5, 606.7, 600.6, 587.8, 569.3, 562.4000000000001, 519.2, 529.1, 556.7, 591.0000000000001, 603.0, 596.3000000000001, 615.0, 605.8, 592.8, 538.4, 515.8000000000001, 524.6, 533.0, 491.9, 484.4, 500.1, 504.9, 483.79999999999995, 452.49999999999994, 449.4, 441.8, 426.90000000000003, 408.90000000000003, 372.6, 359.09999999999997, 369.79999999999995, 373.29999999999995, 383.6, 381.6, 404.6, 392.79999999999995, 379.0, 335.9, 310.8, 305.0, 304.79999999999995, 303.5, 306.7, 306.6, 291.0, 282.40000000000003, 237.99999999999997, 237.3, 221.2, 221.60000000000002, 246.59999999999997, 245.6, 289.9, 285.8, 288.70000000000005, 305.3, 302.29999999999995, 310.0, 272.2, 270.3, 287.3, 258.1, 252.09999999999997, 236.60000000000002, 247.60000000000002, 243.1, 220.00000000000003, 225.0, 203.1, 201.60000000000002, 183.7, 171.39999999999998, 161.5, 140.7, 145.5, 146.10000000000002, 149.0, 149.5, 137.8, 141.5, 119.2, 93.5, 76.3, 72.8, 68.9, 53.9, 44.6, 32.6, 34.5, 25.5, 19.4, 19.4, 24.4, 28.5, 29.1, 37.5, 44.2, 67.9, 78.4, 89.3, 106.0, 129.1, 146.2, 152.10000000000002, 165.60000000000002, 184.3, 205.0, 229.99999999999997, 262.4, 298.9, 330.79999999999995, 356.29999999999995, 361.8, 341.2, 386.0, 426.79999999999995, 425.09999999999997, 444.79999999999995, 472.70000000000005, 491.00000000000006, 465.20000000000005, 461.19999999999993, 479.3, 514.6, 591.5, 692.2, 790.1, 821.3000000000001, 876.4, 915.3, 893.8, 880.1999999999999, 851.6999999999999, 846.1, 802.0, 773.4999999999999, 780.6999999999998, 796.6999999999999, 794.7, 756.4, 771.1, 755.9000000000001, 692.9999999999999, 619.5999999999999, 579.5, 578.1999999999999, 554.6999999999999, 564.7, 572.8, 585.9, 588.1, 607.6, 633.6, 606.4, 632.6, 633.1, 637.5, 611.5, 592.7, 606.8, 590.5, 564.1, 500.0, 460.9, 441.1, 402.3, 351.1, 322.00000000000006, 329.5, 333.9, 327.8, 323.8, 323.09999999999997, 307.99999999999994, 297.2, 286.2, 293.2, 290.3, 271.9, 274.20000000000005, 258.5, 249.6, 196.4, 156.6, 162.39999999999998, 157.2, 139.8, 134.4, 132.3, 125.4, 94.0, 77.60000000000001, 83.8, 69.80000000000001, 71.6, 72.0, 100.19999999999999, 89.8, 77.2, 68.89999999999999, 69.8, 63.599999999999994, 42.9, 54.900000000000006, 59.699999999999996, 66.3, 75.5, 75.39999999999999, 77.4, 78.9, 90.6, 96.60000000000001, 78.2, 75.8, 80.80000000000001, 71.7, 64.3, 52.3, 49.599999999999994, 49.9, 40.8, 34.199999999999996, 25.9, 30.1, 26.9, 20.300000000000004, 17.8, 18.8, 17.0, 11.1, 12.0, 12.6, 7.299999999999999, 12.399999999999999, 10.700000000000001, 15.0, 21.5, 31.599999999999998, 37.699999999999996, 43.8, 54.50000000000001, 56.99999999999999, 73.5, 90.0, 103.19999999999999, 110.39999999999999, 120.8, 147.6, 145.5, 166.4, 213.1, 236.6, 243.79999999999998, 239.29999999999998, 253.79999999999998, 258.9, 244.40000000000003, 252.99999999999997, 265.79999999999995, 296.7, 337.20000000000005, 342.4, 344.09999999999997, 356.9, 368.2, 355.0, 323.1, 334.2, 347.8, 379.2, 388.5, 386.40000000000003, 386.8, 357.69999999999993, 348.59999999999997, 312.0, 332.29999999999995, 328.90000000000003, 344.1, 350.6, 335.70000000000005, 358.6, 305.70000000000005, 340.2, 360.19999999999993, 359.29999999999995, 369.1, 370.8, 423.79999999999995, 423.4, 434.29999999999995, 475.20000000000005, 510.1, 502.4, 484.4, 459.7, 421.3, 390.20000000000005, 364.59999999999997, 336.3, 306.40000000000003, 302.40000000000003, 292.1, 308.1, 296.00000000000006, 303.2, 339.6, 376.09999999999997, 399.8, 378.0, 367.8, 351.5, 309.4, 247.4, 210.8, 186.70000000000002, 204.39999999999998, 209.39999999999998, 209.2, 214.6, 215.0, 206.0, 170.10000000000002, 135.0, 104.60000000000001, 90.49999999999999, 70.5, 66.8, 49.60000000000001, 47.9, 67.6, 70.3, 83.4, 91.6, 94.80000000000001, 94.5, 81.39999999999999, 86.4, 75.7, 61.4, 61.800000000000004, 60.3, 60.4, 46.8, 37.2, 32.9, 33.900000000000006, 30.900000000000002, 34.6, 34.2, 31.9, 37.6, 35.5, 37.699999999999996, 29.4, 29.1, 37.699999999999996, 49.800000000000004, 49.6, 47.400000000000006, 45.20000000000001, 45.50000000000001, 41.4, 21.400000000000002, 20.0, 19.5, 24.1, 18.7, 25.0, 32.9, 45.0, 54.599999999999994, 59.4, 65.9, 67.8, 81.5, 74.7, 84.0, 115.5, 156.0, 201.3, 212.1, 255.5, 286.5, 287.29999999999995, 271.5, 281.8, 324.4, 320.5, 338.6, 376.29999999999995, 420.09999999999997, 427.5, 453.29999999999995, 466.2, 467.09999999999997, 452.9, 455.20000000000005, 453.70000000000005, 425.3, 428.2, 445.79999999999995, 465.09999999999997, 476.4, 490.0, 546.2, 558.4000000000001, 550.3000000000001, 540.7, 544.5999999999999, 539.2, 494.6, 468.99999999999994, 470.5999999999999, 496.7, 501.80000000000007, 524.6, 510.3, 523.9000000000001, 517.8000000000001, 473.20000000000005, 434.30000000000007, 391.6, 388.5, 383.59999999999997, 385.0, 395.9, 407.4, 391.90000000000003, 393.6, 390.3, 381.30000000000007, 360.99999999999994, 360.2, 341.4, 329.9, 324.2, 300.1, 280.59999999999997, 258.9, 274.9, 244.7, 254.0, 238.89999999999998, 249.2, 242.79999999999998, 238.39999999999998, 240.6, 208.4, 210.7, 192.7, 161.4, 148.4, 140.8, 159.8, 143.10000000000002, 131.5, 153.5, 156.1, 170.70000000000002, 160.89999999999998, 161.09999999999997, 178.5, 167.5, 146.29999999999998, 141.29999999999998, 137.8, 157.7, 162.8, 153.1, 163.6, 141.39999999999998, 124.69999999999999, 104.50000000000001, 81.3, 89.2, 83.2, 76.9, 67.2, 66.0, 66.1, 56.099999999999994, 52.0, 62.7, 62.900000000000006, 65.9, 73.3, 74.89999999999999, 73.8, 64.5, 64.19999999999999, 61.09999999999999, 50.4, 38.6, 30.5, 28.6, 24.799999999999997, 11.9, 17.6, 23.099999999999998, 23.6, 22.2, 18.3, 22.0, 15.600000000000001, 9.8, 14.600000000000001, 13.6, 25.4, 21.700000000000003, 20.7, 22.099999999999998, 17.499999999999996, 19.799999999999997, 15.0, 31.3, 38.8, 38.50000000000001, 45.900000000000006, 60.60000000000001, 66.5, 76.30000000000001, 80.6, 95.8, 115.4, 127.2, 124.8, 137.6, 167.5, 196.79999999999998, 200.5, 196.2, 222.3, 226.39999999999998, 221.4, 217.70000000000002, 236.7, 270.4, 263.3, 274.5, 273.0, 285.70000000000005, 289.9, 317.5, 343.90000000000003, 329.0, 339.0, 333.4, 351.6, 324.6, 323.1, 362.5, 421.7, 428.2, 400.7, 373.2, 382.7, 359.3, 309.8, 317.5, 375.6, 391.99999999999994, 383.59999999999997, 346.1, 327.3, 328.8, 301.6, 362.1, 366.7, 401.5, 405.5, 381.2, 354.49999999999994, 300.6, 324.90000000000003, 337.70000000000005, 356.29999999999995, 363.2, 352.70000000000005, 332.29999999999995, 276.0, 268.2, 247.5, 248.29999999999998, 248.6, 305.2, 363.4, 338.1, 342.8, 334.2, 351.4, 307.5, 286.9, 286.9, 277.40000000000003, 260.50000000000006, 239.59999999999997, 216.1, 188.60000000000002, 214.70000000000002, 234.5, 266.09999999999997, 256.7, 265.1, 247.7, 197.70000000000002, 164.1, 122.2, 109.89999999999999, 89.89999999999999, 94.7, 124.6, 107.3, 100.8, 90.10000000000001, 87.60000000000001, 69.19999999999999, 47.400000000000006, 51.5, 47.900000000000006, 48.0, 43.0, 39.2, 25.3, 20.5, 20.5, 17.3, 13.3, 14.200000000000001, 16.1, 16.3, 18.2, 20.9, 21.2, 25.8, 25.9, 22.6, 24.9, 24.2, 26.8, 17.799999999999997, 14.100000000000001, 13.0, 6.6, 6.0, 3.3, 4.0, 6.199999999999999, 6.8999999999999995, 10.7, 11.8, 14.200000000000001, 16.099999999999998, 30.3, 34.800000000000004, 42.4, 45.0, 50.1, 59.7, 50.599999999999994, 61.800000000000004, 72.7, 90.3, 124.89999999999999, 151.0, 184.10000000000002, 200.7, 247.2, 295.79999999999995, 323.09999999999997, 333.79999999999995, 346.0, 355.5, 321.2, 294.9, 280.7, 298.20000000000005, 316.5, 348.5, 381.7, 389.9, 369.7, 347.8, 326.7, 317.79999999999995, 303.1, 324.3, 361.0, 410.7, 434.70000000000005, 483.20000000000005, 545.1, 590.1999999999999, 672.8, 707.4, 704.9000000000001, 687.2, 701.6000000000001, 677.8, 588.5999999999999, 531.4000000000001, 539.7, 520.0, 450.09999999999997, 461.69999999999993, 498.09999999999997, 505.79999999999995, 510.29999999999995, 517.0, 516.8000000000001, 457.3, 435.1, 421.70000000000005, 388.50000000000006, 393.20000000000005, 445.2, 461.79999999999995, 451.29999999999995, 439.49999999999994, 440.5, 394.40000000000003, 318.09999999999997, 304.5, 289.4, 304.9, 266.90000000000003, 258.20000000000005, 262.0, 238.39999999999998, 203.7, 169.8, 204.6, 198.5, 189.7, 193.7, 202.8, 193.2, 176.0, 171.0, 174.8, 185.20000000000002, 179.70000000000002, 170.8, 156.6, 152.2, 138.8, 108.69999999999999, 112.29999999999998, 149.2, 142.0, 132.2, 117.7, 116.8, 96.9, 46.900000000000006, 42.10000000000001, 41.5, 53.199999999999996, 46.8, 41.8, 40.4, 40.3, 36.1, 27.700000000000003, 26.699999999999996, 25.699999999999996, 35.599999999999994, 41.1, 47.9, 41.599999999999994, 38.599999999999994, 43.199999999999996, 31.8, 31.5, 42.3, 63.5, 91.1, 105.3, 128.6, 142.9, 144.6, 137.1, 114.5, 118.4, 111.3, 117.4, 137.7, 168.7, 201.7, 216.4, 258.6, 296.1, 311.90000000000003, 363.0, 396.3, 428.30000000000007, 430.6, 399.9, 405.59999999999997, 380.5, 361.0, 352.70000000000005, 351.00000000000006, 384.0, 380.2, 386.1, 415.4, 446.80000000000007, 455.6, 477.6, 496.20000000000005, 475.9, 449.20000000000005, 410.0, 408.79999999999995, 378.4, 366.5, 352.59999999999997, 381.2, 400.9, 418.0, 435.5, 445.29999999999995, 491.5, 506.0, 516.3, 520.5, 501.29999999999995, 474.59999999999997, 442.2, 413.1, 392.09999999999997, 352.59999999999997, 344.0, 351.9, 364.79999999999995, 366.09999999999997, 369.1, 353.3, 354.5, 377.4000000000001, 413.5, 408.59999999999997, 392.7, 393.29999999999995, 377.49999999999994, 333.20000000000005, 254.0, 210.60000000000002, 185.60000000000002, 182.7, 178.9, 177.7, 174.70000000000002, 167.4, 185.6, 183.5, 180.29999999999998, 169.29999999999998, 158.8, 161.60000000000002, 131.5, 120.5, 99.30000000000001, 93.4, 95.89999999999999, 90.6, 88.19999999999999, 80.4, 81.60000000000001, 80.80000000000001, 85.19999999999999, 82.69999999999999, 78.89999999999999, 71.7, 69.39999999999999, 59.69999999999999, 48.5, 51.2, 66.60000000000001, 72.7, 66.7, 61.7, 55.900000000000006, 46.4, 24.4, 19.4, 19.5, 16.9, 12.0, 12.600000000000001, 20.2, 19.4, 27.7, 46.8, 53.2, 59.099999999999994, 59.599999999999994, 59.3, 53.7, 42.7, 51.4, 60.7, 72.9, 92.0, 98.50000000000001, 117.1, 147.4, 162.70000000000002, 172.29999999999998, 191.29999999999998, 232.3, 269.2, 285.0, 313.90000000000003, 358.1, 393.1, 414.79999999999995, 405.20000000000005, 413.70000000000005, 403.2, 415.90000000000003, 414.8, 428.9, 489.70000000000005, 543.1, 623.3, 664.8, 672.6999999999999, 693.0, 694.3, 701.2, 713.8000000000001, 723.0, 739.8, 755.4, 713.0999999999999, 671.5999999999999, 624.8999999999999, 606.4000000000001, 592.2, 568.3, 621.3, 630.0, 696.9000000000001, 693.4000000000001, 696.5, 694.6, 689.4000000000001, 684.6000000000001, 599.5999999999999, 561.3, 536.3000000000001, 546.3000000000001, 542.4, 550.7, 568.0, 596.4, 644.4, 623.4, 573.2, 514.3000000000001, 467.20000000000005, 420.79999999999995, 391.5, 364.09999999999997, 350.4, 392.19999999999993, 409.19999999999993, 455.3, 438.5, 432.8, 436.79999999999995, 421.2, 399.3, 338.3, 318.19999999999993, 296.0, 267.1, 258.6, 279.9, 295.4, 314.9, 328.40000000000003, 337.29999999999995, 311.2, 279.90000000000003, 272.7, 261.0, 275.4, 262.0, 239.70000000000002, 221.79999999999998, 189.2, 152.2, 110.7, 116.4, 127.5, 122.3, 131.0, 141.20000000000002, 148.1, 131.5, 116.6, 117.3, 107.79999999999998, 90.4, 72.1, 68.19999999999999, 79.39999999999999, 69.89999999999999, 51.0, 52.0, 44.5, 36.8, 23.0, 24.3, 40.5, 43.8, 60.4, 68.7, 92.1, 105.6, 101.60000000000001, 108.8, 123.9, 143.7, 151.5, 175.6, 188.8, 202.20000000000002, 239.0, 254.40000000000003, 245.6, 250.6, 310.9, 352.6, 359.49999999999994, 398.4, 444.5, 513.1, 534.1, 551.9, 578.5, 617.4, 665.6, 665.1000000000001, 691.3, 726.7, 774.2, 851.7, 893.9, 936.1, 991.5, 1031.1000000000001, 1044.9, 971.6, 924.2, 874.8000000000001, 772.1, 697.5, 723.5999999999999, 769.6, 820.8999999999999, 854.5999999999999, 926.4, 974.9000000000001, 921.5, 843.3, 813.5, 790.4000000000001, 814.8000000000002, 829.0, 839.7, 850.1000000000001, 833.8000000000001, 840.5, 781.9999999999999, 769.8, 754.4, 791.7, 787.6, 763.4000000000001, 734.4, 698.8000000000001, 680.6, 643.3000000000001, 609.3000000000001, 598.6999999999999, 589.1, 530.7, 478.7, 427.3, 397.8, 366.7, 341.4, 345.99999999999994, 377.5, 431.20000000000005, 477.70000000000005, 479.29999999999995, 480.4, 507.6, 466.30000000000007, 410.2, 355.4, 334.59999999999997, 296.29999999999995, 235.2, 212.69999999999996, 183.7, 174.3, 172.90000000000003, 205.1, 211.29999999999998, 206.0, 204.7, 202.59999999999997, 189.8, 138.79999999999998, 120.60000000000001, 124.60000000000001, 115.0, 102.5, 84.6, 104.19999999999999, 113.49999999999999, 93.9, 83.0, 63.70000000000001, 55.300000000000004, 32.3, 23.9, 17.5, 16.700000000000003, 14.4, 19.0, 26.9, 17.5, 22.7, 31.099999999999998, 38.5, 56.8, 69.2, 72.60000000000001, 76.9, 96.6, 120.7, 124.30000000000001, 144.2, 182.0, 229.2, 289.5, 334.70000000000005, 381.6, 464.9, 540.6, 592.8000000000001, 640.1999999999999, 679.9, 735.4000000000001, 781.0000000000001, 835.8, 880.3999999999999, 945.0999999999999, 1020.6, 1056.5, 1017.2, 1001.4, 1021.3, 984.6, 993.2, 1015.4000000000001, 1043.1000000000001, 1121.5, 1200.1, 1246.4, 1285.1000000000001, 1300.4, 1307.3000000000002, 1262.2, 1204.3999999999999, 1168.8, 1100.8999999999999, 1089.8000000000002, 1125.1, 1135.6, 1121.1000000000001, 1098.1, 1114.1999999999998, 1140.2, 1083.1, 1067.6, 1049.3999999999999, 1069.1, 1050.2, 982.4, 1038.9, 998.4000000000001, 946.4999999999999, 898.4999999999999, 854.8, 851.5, 757.9000000000001, 714.9000000000001, 725.5, 721.1, 706.3000000000001, 681.7, 709.8, 734.8000000000001, 695.6, 665.6, 641.0, 577.2, 489.20000000000005, 415.0, 393.59999999999997, 355.0, 346.79999999999995, 359.09999999999997, 368.8, 379.40000000000003, 355.70000000000005, 337.30000000000007, 299.8, 268.3, 262.8, 244.80000000000004, 253.5, 264.59999999999997, 266.7, 249.8, 221.3, 227.0, 220.10000000000002, 203.29999999999998, 184.5, 182.5, 185.1, 150.9, 140.7, 156.8, 169.50000000000003, 169.29999999999998, 178.10000000000002, 199.8, 205.8, 186.20000000000002, 165.2, 160.9, 145.4, 123.1, 96.39999999999999, 82.5, 76.69999999999999, 64.5, 56.10000000000001, 44.30000000000001, 41.800000000000004, 39.699999999999996, 45.7, 60.1, 65.10000000000001, 72.10000000000001, 72.8, 89.5, 90.30000000000001, 84.7, 79.30000000000001, 84.4, 97.69999999999999, 89.39999999999999, 90.5, 106.80000000000001, 122.30000000000001, 130.8, 159.4, 188.89999999999998, 219.59999999999997, 248.09999999999997, 274.9, 299.79999999999995, 308.29999999999995, 320.2, 342.9, 397.1, 439.5, 501.1000000000001, 513.4000000000001, 542.7, 539.6, 520.2, 533.8000000000001, 498.8, 517.5, 525.3, 584.4, 614.6999999999999, 619.4000000000001, 634.8000000000001, 627.8000000000001, 660.7, 644.5999999999999, 618.9, 616.3, 641.3, 667.8000000000001, 626.6, 626.0999999999999, 634.4, 645.6, 664.2, 663.3, 697.3, 693.5, 685.9, 663.4, 618.9, 607.8000000000001, 581.3, 573.2, 587.9, 617.6999999999999, 629.3, 643.1, 677.1, 686.0, 687.0, 652.2, 648.8, 625.9, 593.6, 570.3, 549.1, 535.1, 496.3, 481.5, 443.8, 410.1, 399.8, 382.2, 371.7, 351.6, 357.3, 389.7, 370.2, 397.20000000000005, 427.1, 438.59999999999997, 455.9, 461.7, 476.7, 465.1, 449.0, 447.1, 408.20000000000005, 365.50000000000006, 332.4, 298.5, 280.5, 276.90000000000003, 277.7, 271.9, 251.60000000000002, 234.29999999999998, 247.59999999999997, 220.59999999999997, 202.1, 185.9, 190.4, 190.8, 152.8, 162.4, 178.0, 190.7, 218.89999999999998, 226.49999999999997, 245.39999999999998, 252.20000000000002, 237.70000000000002, 222.20000000000002, 185.3, 163.20000000000002, 134.5, 92.5, 76.5, 67.4, 76.7, 104.9, 107.30000000000001, 111.3, 121.70000000000002, 118.10000000000001, 97.99999999999999, 62.599999999999994, 70.6, 80.3, 73.3, 77.7, 71.5, 83.6, 75.2, 77.0, 69.8, 72.9, 87.4, 94.1, 89.3, 81.60000000000001, 95.0, 118.2, 123.20000000000002, 130.2, 165.5, 196.39999999999998, 206.9, 211.60000000000002, 242.1, 305.6, 338.1, 394.0, 447.59999999999997, 499.5, 518.0, 482.5, 544.2, 569.6, 584.8, 612.4, 708.6, 787.9999999999999, 787.8, 764.2, 800.6999999999999, 827.5, 820.3, 825.0, 875.4, 960.0999999999999, 1009.0, 1035.8, 1035.9999999999998, 1048.8000000000002, 986.6, 964.5000000000001, 961.1, 942.0999999999999, 918.8, 899.1999999999999, 928.0, 928.6000000000001, 896.6, 913.7, 891.4, 897.3, 877.8, 869.5, 849.1, 765.6, 795.4000000000001, 812.8, 844.5999999999999, 850.6, 860.6, 919.8000000000001, 887.2, 892.1000000000001, 878.6000000000001, 838.2, 782.9000000000001, 743.2, 738.1, 682.1, 647.1, 619.8000000000001, 635.7, 652.3, 630.4999999999999, 573.9, 521.6, 507.59999999999997, 508.7, 472.79999999999995, 470.7, 491.5, 475.3, 450.40000000000003, 384.6, 326.9, 301.7, 315.3, 348.5, 362.4, 405.4, 418.1, 398.5, 338.59999999999997, 270.8, 213.1, 159.5, 132.1, 111.2, 101.60000000000001, 103.10000000000001, 107.30000000000001, 112.0, 117.5, 131.7, 126.89999999999999, 113.60000000000001, 116.0, 104.7, 97.8, 69.6, 81.7, 92.89999999999999, 92.8, 90.3, 74.1, 89.69999999999999, 73.9, 62.6, 79.5, 81.0, 86.7, 79.0, 74.0, 84.9, 89.1, 106.9, 117.5, 140.1, 176.39999999999998, 195.6, 216.6, 223.5, 233.2, 259.2, 260.5, 302.8, 330.2, 350.40000000000003, 425.1, 479.90000000000003, 551.5, 595.4, 632.5, 697.5, 774.9000000000001, 822.3999999999999, 875.9, 887.2, 892.6999999999999, 906.1, 923.0999999999999, 888.6999999999999, 892.5, 937.8, 966.6, 1001.1, 970.4, 1020.8, 982.4000000000001, 946.0, 926.8999999999999, 886.1000000000001, 826.0000000000001, 798.0999999999999, 867.9000000000001, 852.8, 858.0, 857.2, 881.5, 868.9999999999999, 836.1999999999999, 852.9, 847.4, 837.3, 877.3, 914.0999999999999, 922.8999999999999, 906.3, 910.4, 897.3000000000001, 872.0, 848.3000000000001, 833.1, 814.5000000000001, 770.2, 735.8, 656.6, 592.3000000000001, 495.7, 452.9, 441.79999999999995, 459.8, 477.20000000000005, 450.8, 477.3, 483.20000000000005, 456.7, 426.2, 393.40000000000003, 392.0, 343.2, 295.8, 290.0, 264.3, 263.4, 263.3, 256.6, 265.9, 225.6, 207.79999999999998, 186.9, 164.20000000000002, 151.2, 145.2, 173.1, 173.3, 171.5, 160.6, 168.0, 173.4, 143.4, 139.9, 129.29999999999998, 119.6, 104.0, 84.7, 91.80000000000001, 86.30000000000001, 80.7, 77.7, 67.80000000000001, 65.2, 48.89999999999999, 45.39999999999999, 47.2, 43.900000000000006, 53.9, 46.300000000000004, 42.4, 54.8, 56.3, 53.8, 47.00000000000001, 54.099999999999994, 68.7, 69.3, 68.7, 73.4, 90.20000000000002, 132.8, 140.1, 160.6, 189.09999999999997, 210.6, 226.5, 230.0, 260.59999999999997, 277.9, 307.4, 342.1, 393.99999999999994, 432.1, 434.20000000000005, 451.9, 463.1, 458.5, 432.6, 408.5, 416.7, 449.1, 504.90000000000003, 556.4000000000001, 583.8000000000001, 586.5, 639.5, 666.3, 613.1999999999999, 589.8, 609.0, 676.0, 684.8, 673.2, 713.5, 793.5, 811.1, 782.3000000000001, 756.2, 741.4, 720.9, 646.4000000000001, 596.5000000000001, 600.3000000000001, 608.6, 598.4, 628.0, 614.1999999999999, 639.9999999999999, 677.2, 695.0, 704.9000000000001, 703.0999999999999, 735.4, 736.4, 684.0999999999999, 679.3, 693.6, 649.6999999999999, 635.2, 644.2, 655.4, 632.2, 606.9, 599.4, 579.5, 509.1, 460.6, 423.1, 382.20000000000005, 378.80000000000007, 382.40000000000003, 409.09999999999997, 396.7, 402.2, 414.9, 384.0, 338.0, 311.1, 311.50000000000006, 285.29999999999995, 259.5, 256.2, 270.0, 265.1, 243.7, 252.4, 254.4, 229.1, 209.3, 197.6, 194.4, 170.6, 169.8, 191.2, 200.0, 207.2, 204.60000000000002, 189.1, 164.4, 166.20000000000002, 141.4, 109.89999999999999, 98.6, 120.10000000000001, 124.4, 97.2, 94.10000000000001, 102.10000000000001, 105.90000000000002, 86.2, 85.3, 85.0, 89.6, 87.4, 77.5, 70.4, 60.69999999999999, 59.199999999999996, 52.099999999999994, 47.400000000000006, 45.3, 42.8, 32.8, 30.799999999999997, 24.400000000000002, 20.5, 27.400000000000002, 29.4, 30.899999999999995, 24.2, 21.7, 20.1, 11.9, 11.9, 12.8, 10.200000000000001, 10.700000000000001, 11.600000000000001, 11.2, 9.1, 7.9, 10.0, 11.899999999999999, 10.5, 14.100000000000001, 18.1, 19.299999999999997, 27.2, 37.2, 56.0, 67.10000000000001, 70.30000000000001, 74.89999999999999, 77.69999999999999, 80.6, 81.4, 91.2, 106.7, 119.6, 106.0, 89.9, 70.30000000000001, 45.1, 21.6]\n"
     ]
    }
   ],
   "source": [
    "Y=[]\n",
    "\n",
    "for i in range(len(m)):\n",
    "    if 5 < i < (len(m)-5):\n",
    "        y = 0\n",
    "        for j in range(6):\n",
    "            y = y + m[i+j]+m[i-j]\n",
    "        Y.append(y)\n",
    "    else:\n",
    "        y = 0\n",
    "        for j in range(len(m)-i):\n",
    "            y = y + m[i+j]+m[i-j]\n",
    "        Y.append(y)\n",
    "print(Y)\n",
    "    "
   ]
  },
  {
   "cell_type": "code",
   "execution_count": 39,
   "id": "2e6cac11-ed68-442a-bbfc-aa1879208d00",
   "metadata": {},
   "outputs": [
    {
     "data": {
      "text/plain": [
       "16"
      ]
     },
     "execution_count": 39,
     "metadata": {},
     "output_type": "execute_result"
    }
   ],
   "source": []
  },
  {
   "cell_type": "code",
   "execution_count": null,
   "id": "39575b9d-42d4-4448-84d7-2c0e3b28f015",
   "metadata": {},
   "outputs": [],
   "source": []
  }
 ],
 "metadata": {
  "kernelspec": {
   "display_name": "Python 3 (ipykernel)",
   "language": "python",
   "name": "python3"
  },
  "language_info": {
   "codemirror_mode": {
    "name": "ipython",
    "version": 3
   },
   "file_extension": ".py",
   "mimetype": "text/x-python",
   "name": "python",
   "nbconvert_exporter": "python",
   "pygments_lexer": "ipython3",
   "version": "3.12.4"
  }
 },
 "nbformat": 4,
 "nbformat_minor": 5
}
