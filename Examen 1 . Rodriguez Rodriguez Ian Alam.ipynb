{
 "cells": [
  {
   "cell_type": "markdown",
   "id": "f45e9652-99af-4f23-bd2d-b12568edf5d5",
   "metadata": {},
   "source": [
    "<h1 align=\"center\">Rodriguez Rodriguez Ian Alam</h1>\n",
    "<h2 align=\"center\">Física computacional.  Semestre 2015-1. 8245 </h2>\n",
    "<h4 align=\"center\"></h4> \n",
    "<h2 align=\"center\">Examen 1 </h2>\n"
   ]
  },
  {
   "cell_type": "markdown",
   "id": "c0bea469-e191-40be-b0ba-1a755050b492",
   "metadata": {},
   "source": [
    "1. Escribe un pseudocódigo de un algoritmo que realice el producto de dos matrices A, B en $R^n x R^n$ \n",
    "    "
   ]
  },
  {
   "cell_type": "code",
   "execution_count": 4,
   "id": "3a99be63-f784-4137-8eaf-f5394ec452f8",
   "metadata": {},
   "outputs": [
    {
     "name": "stdout",
     "output_type": "stream",
     "text": [
      "[30, 24, 18]\n",
      "[84, 69, 54]\n",
      "[138, 114, 90]\n"
     ]
    }
   ],
   "source": [
    "# Podemos definir una función que tenga como argumentos la matriz A y B cada una\n",
    "\n",
    "def producto_matriz(A,B):             # Como las matrices son nxn entonces son matrices cuadradas. Por lo que decimos\n",
    "    n=len(A)                          # que la longitud de ambas será de la misma n.\n",
    "\n",
    "    # Inciamos una matriz con solamente ceros que será la \"matriz resultado\".\n",
    "\n",
    "    C=[[0 for i in range(n)] for i in range(n)]\n",
    "\n",
    "\n",
    " # Ahora hacemos el producto de las matrices.\n",
    "    for i in range(n):                 # Para cada elemento en el rando de n en cada entrada\n",
    "        for j in range(n):         \n",
    "            for k in range(n):\n",
    "                C[i][j] += A[i][k] * B[k][j]    # Definimos la operación del producto tomamos para la matriz, recordemos que las columnas\n",
    "# de una deben coincidir con las filas del otro en este caso [k].\n",
    "    \n",
    "    return C\n",
    "\n",
    "# Por ejemplo si tenemos las matrices A y B de nxn definidas como:\n",
    "\n",
    "A = [[1, 2, 3],\n",
    "    [4, 5, 6],\n",
    "    [7, 8, 9]]\n",
    "\n",
    "B = [[9, 8, 7],\n",
    "    [6, 5, 4],\n",
    "    [3, 2, 1]]\n",
    "\n",
    "resultado = producto_matriz(A, B)\n",
    "\n",
    "# Imprimimos el resultado\n",
    "\n",
    "# Decimos que por cada elemento de resultado imprimimos ese elemento para que se ordene como queremos.\n",
    "\n",
    "for fila in resultado:\n",
    "    print(fila)\n"
   ]
  },
  {
   "cell_type": "markdown",
   "id": "27af6f38-1fd8-4afe-8a0b-7322773e67be",
   "metadata": {},
   "source": [
    "2. Escribe un programa que calcule una aproximación del numero $\\pi$, a partir de la siguiente serie desde $k=0$ hasta $k=infinito$.\n",
    "$$ \\frac{\\pi}{2} = \\sum{\\frac{2^kk!^2}{(2k+1)!}}$$"
   ]
  },
  {
   "cell_type": "code",
   "execution_count": 5,
   "id": "558a43ed-6eef-4a6b-b697-e7d8a37926da",
   "metadata": {},
   "outputs": [],
   "source": [
    "# Primero importamos la lbrería math\n",
    "from math import *\n",
    "import math as mt"
   ]
  },
  {
   "cell_type": "code",
   "execution_count": 12,
   "id": "15b589e8-25a4-4230-813a-d24ff5024cd0",
   "metadata": {},
   "outputs": [
    {
     "name": "stdout",
     "output_type": "stream",
     "text": [
      "El valor de pi es: 3.140578169680336\n"
     ]
    }
   ],
   "source": [
    "# Definamos la funcion aproximación:\n",
    "def aprox_pi(n_iteraciones):\n",
    "    suma=0                                           # Empezamos la suma desde 0\n",
    "    for k in range(n_iteraciones):                 # Por cada elemento de las iteraciones\n",
    "\n",
    "  # Aquí yo separe numerador con denominador por que me parecía más sencillo operarlos. \n",
    "        \n",
    "        num =(2**k)*(mt.factorial(k))**2\n",
    "        den =mt.factorial(2*k + 1)\n",
    "        suma += num/ den            # Definimos la suma como el cociente\n",
    "        \n",
    "    return 2*suma             # Aquí estamos \" pasando el dos del otro lado\"\n",
    "\n",
    "# Definimos el numero de iteraciones, por ejemplo 10\n",
    "\n",
    "n_iteraciones = 10\n",
    "\n",
    "pi_aproximado = aprox_pi(n_iteraciones)        \n",
    "\n",
    "print(f\"El valor de pi es: {pi_aproximado}\")\n",
    "\n",
    "# No se por que se tarda mucho pero creo que si sirve xD"
   ]
  },
  {
   "cell_type": "markdown",
   "id": "889bc441-f5f8-442e-813b-18746d83f4b2",
   "metadata": {},
   "source": [
    "3. a) Escribe un programa que arroje como resultado un archivo con los datos de un movimiento rectilineo uniforme en un intervalo de tiempo $[t_i,t_f]$ que tu definas."
   ]
  },
  {
   "cell_type": "code",
   "execution_count": 14,
   "id": "ff6d0bba-e7ac-4db4-bdc7-aaba0b30e912",
   "metadata": {},
   "outputs": [],
   "source": [
    "#importemos la librería numpy\n",
    "import numpy as np"
   ]
  },
  {
   "cell_type": "markdown",
   "id": "738b79cd-6ac9-4d0d-a550-91125f78e86e",
   "metadata": {},
   "source": [
    "Tenemos que el movimiento rctilíneo uniforme se ve como:\n",
    "$$ x(t) = x_0 + vt$$\n",
    "Con x_0 la posición inicial, v la velocidad y t el tiempo."
   ]
  },
  {
   "cell_type": "code",
   "execution_count": null,
   "id": "636558fa-f458-4557-ab7b-dee034237d48",
   "metadata": {},
   "outputs": [],
   "source": [
    "# Entonces primero definamos las variables, supongamos una velocidad de 10m/s.\n",
    "x_0=0\n",
    "v=10\n",
    "# Supongamos que va de un tiempo inicial t_0=0 a uno final t_f=100\n",
    "t_i=0\n",
    "t_f=100\n",
    "# Podemos definir un numero de puntos en el intervalo\n",
    "n_puntos = 100\n",
    "#Genermos una lista de tiempos\n",
    "tiempos= np.linspace(t_i,t_f,n_puntos)\n",
    "# Calculamos la posicion en cada momento\n",
    "posiciones = x_0 + v * tiempos\n",
    "O.append(x\n",
    "# Guardamos el resultado en un archivo usando el comando:\n",
    "YA DE AQUI NO RECUERDO COMO GUARDARLO :CCC\n",
    "open(\"MRU.txt\", \"w\") as archivo:                           \n",
    "    archivo.write(\"timepo(s), posicion(m) \\n\")\n",
    "        for t,x in zip(tiempos, posiciones):\n",
    "            archivo.write(f\n",
    "print(\"Datos guardados en 'MRU.txt'\")\n"
   ]
  },
  {
   "cell_type": "code",
   "execution_count": null,
   "id": "3ce3d5b5-00de-4770-a1ea-fca87414ffdf",
   "metadata": {},
   "outputs": [],
   "source": []
  }
 ],
 "metadata": {
  "kernelspec": {
   "display_name": "Python 3 (ipykernel)",
   "language": "python",
   "name": "python3"
  },
  "language_info": {
   "codemirror_mode": {
    "name": "ipython",
    "version": 3
   },
   "file_extension": ".py",
   "mimetype": "text/x-python",
   "name": "python",
   "nbconvert_exporter": "python",
   "pygments_lexer": "ipython3",
   "version": "3.12.4"
  }
 },
 "nbformat": 4,
 "nbformat_minor": 5
}
