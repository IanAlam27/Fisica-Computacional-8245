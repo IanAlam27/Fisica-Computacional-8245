{
 "cells": [
  {
   "cell_type": "markdown",
   "id": "e4bd8238-0c18-4658-a3a5-101544c62559",
   "metadata": {},
   "source": [
    "## Mi primer Notebook . Rodriguez Rodriguez Ian Alam. *Física Computacional* 8245"
   ]
  },
  {
   "cell_type": "markdown",
   "id": "db205d22-69fa-4aed-9ffd-df374f2496a5",
   "metadata": {},
   "source": [
    "**En este notebook voy a probar las cosas que voy aprendiendo para no olvidarlo en 6 meses xD**"
   ]
  },
  {
   "cell_type": "markdown",
   "id": "de16dfff-d276-4b3a-bb60-d6df04ae45ee",
   "metadata": {},
   "source": [
    "#### 1. MARKDOWN"
   ]
  },
  {
   "cell_type": "markdown",
   "id": "078a6e71-e9ef-45aa-b942-04bd029a04b1",
   "metadata": {},
   "source": [
    "Me parece que si ahora quiero hacer una lista queda como:\n",
    "- Ecuación de Schrodinger\n",
    "- El campo en una esfera\n",
    "- Milagros del universo\n",
    "\n",
    "\n"
   ]
  },
  {
   "cell_type": "markdown",
   "id": "05ac6688-ca06-4d11-8b31-5ae9e2b6c148",
   "metadata": {},
   "source": [
    "Y si ahora quiero hacer con números solo hay que *numerarlos*, no olvidemos el **espacio** entre ambos.\n",
    "1. No aguanto\n",
    "2. Muero de sueño\n",
    "3. Mañana me levanto a las 6 ptm"
   ]
  },
  {
   "cell_type": "markdown",
   "id": "bd1b02a6-8cc6-44e4-8c83-f596d6e4b630",
   "metadata": {},
   "source": [
    "Si ahora quiero dejar un espacio entre lineas, creo que es con '>':\n",
    ">\n",
    "Y ahora no se si funcione usar más\n",
    ">omggggg si funcionó, cuando pongo el coso '>' enseguida de la frase hace un espacio raro, y entre mas '>>>' más espacios.\n"
   ]
  },
  {
   "cell_type": "markdown",
   "id": "0c4448eb-143e-4bd4-8916-7d0e2e1f09fc",
   "metadata": {},
   "source": [
    "Si ahora quiero dividir mi página pongo '---' tres guiones."
   ]
  },
  {
   "cell_type": "markdown",
   "id": "03950cb5-b4db-4935-b85f-70cf0e24a6b2",
   "metadata": {},
   "source": [
    "---"
   ]
  },
  {
   "cell_type": "markdown",
   "id": "f926c9fd-8906-4000-af6f-5c7d023419a6",
   "metadata": {},
   "source": [
    "Creo que poner `Hola` resalta la palabra. Como si fuese de `código`."
   ]
  },
  {
   "cell_type": "markdown",
   "id": "538e944e-e192-4a4f-bbc3-f668aad6c7a8",
   "metadata": {},
   "source": [
    "Para escribir ecuaciones usamos los signos de dolar '$$':\n",
    "1. $noventa y cinco$"
   ]
  },
  {
   "cell_type": "code",
   "execution_count": null,
   "id": "e690fb4c-66ff-4055-aa80-cdcfcdf7f6aa",
   "metadata": {},
   "outputs": [],
   "source": []
  }
 ],
 "metadata": {
  "kernelspec": {
   "display_name": "Python 3 (ipykernel)",
   "language": "python",
   "name": "python3"
  },
  "language_info": {
   "codemirror_mode": {
    "name": "ipython",
    "version": 3
   },
   "file_extension": ".py",
   "mimetype": "text/x-python",
   "name": "python",
   "nbconvert_exporter": "python",
   "pygments_lexer": "ipython3",
   "version": "3.12.4"
  }
 },
 "nbformat": 4,
 "nbformat_minor": 5
}
