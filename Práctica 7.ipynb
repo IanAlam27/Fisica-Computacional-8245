{
 "cells": [
  {
   "cell_type": "markdown",
   "id": "7466a0f7-6280-4be9-bcf5-773b8d6b5a4a",
   "metadata": {},
   "source": [
    "<h1 align=\"center\">Rodriguez Rodriguez Ian Alam</h1>\n",
    "<h2 align=\"center\">Física computacional.  Semestre 2015-1. 8245 </h2>\n",
    "<h4 align=\"center\"></h4> "
   ]
  },
  {
   "cell_type": "markdown",
   "id": "5490600a-7528-44a5-96e5-a04d1e8dfcaf",
   "metadata": {},
   "source": [
    "## Práctica 7. Métodos de solución numérica para ecuaciones lineales y no lineales\n",
    "---"
   ]
  },
  {
   "cell_type": "markdown",
   "id": "770f29f7-f289-4921-89e3-90ffb0d36480",
   "metadata": {},
   "source": [
    "### EJERCICIOS:\n",
    "\n",
    "\n",
    "**1. Descomposición LU :** \n",
    "\n",
    "**a)** A partir del programa para la *Eliminación Gaussiana* que hicimos en clase, escribe una programa que calcule la descomposición $LU$ de una matriz. De hecho,el cálculo es el mismo que para la eliminación gaussiana, excepto que en cada paso del cálculo debes extraer los elementos apropiados de la matriz y ensamblarlos para formar la matriz diagonal inferior $L (i.e; L = L_0^{-1} * L_1^{-1} * L_2^{-1} )$"
   ]
  },
  {
   "cell_type": "code",
   "execution_count": null,
   "id": "851fd6a2-e8d8-4756-a8e6-2a115cbe8987",
   "metadata": {},
   "outputs": [],
   "source": []
  },
  {
   "cell_type": "code",
   "execution_count": null,
   "id": "c463b648-cc3d-400e-b522-a957f7f28859",
   "metadata": {},
   "outputs": [],
   "source": []
  },
  {
   "cell_type": "markdown",
   "id": "a0dc8bcd-8cc2-4670-aa3a-7b57343e9361",
   "metadata": {},
   "source": [
    "**b)** Prueba tu probgrama calculando la descomposición $LU$ de la matriz del sistema que abordamos en clase:\n",
    "<h3 align=\"center\">$\\mathbb{A}\\vec{x} = \\vec{b}$</h3> "
   ]
  },
  {
   "cell_type": "markdown",
   "id": "3f77ca36-b66a-449a-8912-6819b852ee90",
   "metadata": {},
   "source": [
    "<h3 align=\"center\">$\n",
    "\\begin{pmatrix}\n",
    "2 & 1 & 4 & 1\\\\\n",
    "3 & 4 & -1 & -1\\\\\n",
    "1 & -4 & 1 & 5\\\\\n",
    "2 & -2 & 1 & 3\\\\\n",
    "\\end{pmatrix}\n",
    "  \\begin{align}\n",
    "    \\begin{pmatrix}\n",
    "           w \\\\\n",
    "           x \\\\\n",
    "           y \\\\\n",
    "           z \n",
    "    \\end{pmatrix}\n",
    "    =\n",
    "    \\begin{pmatrix}\n",
    "           -4 \\\\\n",
    "           3 \\\\\n",
    "           9 \\\\\n",
    "           7 \n",
    "         \\end{pmatrix}\n",
    "  \\end{align}\n",
    "$</h3> "
   ]
  },
  {
   "cell_type": "markdown",
   "id": "fba2e8ff-2d38-4203-8731-a3d2f6943348",
   "metadata": {},
   "source": []
  },
  {
   "cell_type": "code",
   "execution_count": null,
   "id": "02930293-35ec-4bac-9323-04979d12d238",
   "metadata": {},
   "outputs": [],
   "source": []
  },
  {
   "cell_type": "markdown",
   "id": "d0063630-b169-49b5-b74c-ddccd6d64826",
   "metadata": {},
   "source": [
    "**c)** Multiplica las matrices $L$ y $U$ que obtengas y verifica que se recupere la matriz original."
   ]
  },
  {
   "cell_type": "code",
   "execution_count": null,
   "id": "2bbc9f83-389a-4120-a7c3-a3832f457608",
   "metadata": {},
   "outputs": [],
   "source": []
  },
  {
   "cell_type": "code",
   "execution_count": null,
   "id": "86055f69-f9d9-4087-b637-fe0180017ac2",
   "metadata": {},
   "outputs": [],
   "source": []
  },
  {
   "cell_type": "markdown",
   "id": "f40b0c07-ec3b-42be-9d03-fed9b6e6cce1",
   "metadata": {},
   "source": [
    "**d** Convierte tu programa en una función y úsala para crear un programa completo para resolver el sistema $(Ec. 1)$, realizando una doble sustitución inversa *(Back sustitution)*."
   ]
  },
  {
   "cell_type": "code",
   "execution_count": null,
   "id": "3686ca2d-7156-4a2d-8140-50f8317a7983",
   "metadata": {},
   "outputs": [],
   "source": []
  },
  {
   "cell_type": "code",
   "execution_count": null,
   "id": "30d0c1eb-be9e-45ad-bdfc-2f20e4723f9d",
   "metadata": {},
   "outputs": [],
   "source": []
  },
  {
   "cell_type": "markdown",
   "id": "e1e3154e-223f-494c-8ef4-83660fad2885",
   "metadata": {},
   "source": [
    "**e)** Resuelve el mismo sistema usando la función ́$solve$ del paquete numpy y verifica que obtengas la misma respuesta, para cualquier otro sistema que propongas."
   ]
  },
  {
   "cell_type": "markdown",
   "id": "c53bec0e-6a31-4ec7-8013-4a18fba86a6b",
   "metadata": {},
   "source": [
    "**2.Pozo cuántico asimétrico:**"
   ]
  },
  {
   "cell_type": "code",
   "execution_count": null,
   "id": "5c958a34-e24b-44dd-b2aa-3fa85d4a8589",
   "metadata": {},
   "outputs": [],
   "source": []
  },
  {
   "cell_type": "code",
   "execution_count": null,
   "id": "bde8f35d-75c1-4736-9712-c6f4def1971e",
   "metadata": {},
   "outputs": [],
   "source": []
  }
 ],
 "metadata": {
  "kernelspec": {
   "display_name": "Python 3 (ipykernel)",
   "language": "python",
   "name": "python3"
  },
  "language_info": {
   "codemirror_mode": {
    "name": "ipython",
    "version": 3
   },
   "file_extension": ".py",
   "mimetype": "text/x-python",
   "name": "python",
   "nbconvert_exporter": "python",
   "pygments_lexer": "ipython3",
   "version": "3.12.4"
  }
 },
 "nbformat": 4,
 "nbformat_minor": 5
}
