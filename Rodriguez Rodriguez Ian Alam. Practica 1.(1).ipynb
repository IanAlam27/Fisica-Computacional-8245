{
 "cells": [
  {
   "cell_type": "markdown",
   "id": "b56567f0-c15e-4829-9546-deeed02c53ff",
   "metadata": {},
   "source": [
    "<h1 align=\"center\">Rodriguez Rodriguez Ian Alam</h1>\n",
    "<h2 align=\"center\">Física computacional.  Semestre 2015-1. 8245 </h2>\n",
    "<h4 align=\"center\"></h4> \n",
    "\n",
    "\n",
    "\n"
   ]
  },
  {
   "cell_type": "markdown",
   "id": "34927365-ab00-4649-8222-52be441deef1",
   "metadata": {},
   "source": [
    "## Práctica 1.  Programación para la física computacional\n",
    "\n",
    "\n",
    "### Programación básica para la física\n",
    "\n",
    "---"
   ]
  },
  {
   "cell_type": "markdown",
   "id": "2533488f-df53-4ffd-a055-7c03c46f9323",
   "metadata": {},
   "source": [
    "### EJERCICIOS:\n",
    "\n",
    "\n",
    "**1. Coordenadas polares y cartesianas:** Supongamos que se nos da (es decir, el usuario introduce) la posición de un punto en un espacio bidimensional: \n",
    " \n",
    "(a) Si el punto se especifica  en coordenadas polares $r$,$\\theta$. Escribe un programa (en `python` sin usar la biblioteca `numpy`) que calcule e imprima la conversión a coordenadas cartesianas $x$, $y$."
   ]
  },
  {
   "cell_type": "code",
   "execution_count": 34,
   "id": "217b7fcb-151e-4812-9b0d-22420c4bd758",
   "metadata": {},
   "outputs": [],
   "source": [
    "#Para usar este Jupyter notebook, primero necesitamos importar las bibliotecas que usaremos para resolver los problemas.\n",
    "from math import *\n",
    "import math as mt\n"
   ]
  },
  {
   "cell_type": "code",
   "execution_count": null,
   "id": "a7e8d54a-2eab-4f31-9fa1-64e7d529d9ae",
   "metadata": {},
   "outputs": [],
   "source": [
    "print(\"Coordenadas polares a cartesianas\")\n",
    "# Ahora vamos a definir dos variables (rad , ang) que representan la magnitud del vector 'r' y 'θ' el ángulo que forma el vector con el eje X. \n",
    "\n",
    "rad = float(input(\"Ingresa el valor de r:\"))                # 'float' nos sirve para convertir y permitir ingresar numeros reales al 'input'. \n",
    "          \n",
    "# Aquí nos aseguramos que el ángulo 'θ' se encuentre comprendido entre 0 y 360 grados mediante un ciclo 'while True', que inicia un bucle que continuará ejecutándose sin fin porque True siempre es verdadero.\n",
    "\n",
    "\n",
    "while True:\n",
    "    ang = float(input(\"Ingresa el ángulo θ:\"))              # l Se pide al usuario que introduzca un valor para 𝜃.\n",
    "\n",
    "    if 0 <= ang <= 360:                                     # Si el valor se encuentra entre 0 y 360 entonces termina el ciclo.\n",
    "        break\n",
    "    else:                                                   # De otra forma nos indica el error\n",
    "        print(\"Ingresa valores comprendidos entre [0 , 360] grados.\")     #S Mostrará un mensaje para ingresar de nuevo el valor.\n",
    "        \n",
    "                                             \n",
    "ang_ra = mt.radians(ang)                                    # Definiremos otra variable que transforme los grados dados por el usuario en radianes con la función 'radians' para usar las funciones trigonométricas.\n",
    "\n",
    "\n",
    "#Ahora hacemos la conversión de las variables polares a cartesianas, definiremos a 'x' y 'y'como:\n",
    "\n",
    "x = rad * mt.cos(ang_ra)\n",
    "y = rad * mt.sin(ang_ra)\n",
    "\n",
    "# Mostramos el resultado.\n",
    "print(\"Tus coordenadas cartesianas son: \")                     \n",
    "print(\"x=\", x ,\",\", \"y=\", y)"
   ]
  },
  {
   "cell_type": "markdown",
   "id": "519bc412-5e26-4636-8e8a-ea93560c0696",
   "metadata": {},
   "source": [
    "(b) Si el punto se especifica en coordenadas cartesianas $x$, $y$. Escribe un programa (en `python` sin usar `numpy`) que calcule e imprima la conversión a coordenadas polares $r$,$\\theta$."
   ]
  },
  {
   "cell_type": "code",
   "execution_count": null,
   "id": "970f481a-2d17-421e-a550-738622b6ef9a",
   "metadata": {},
   "outputs": [],
   "source": [
    "print(\"Coordenadas cartesianas a polares\")\n",
    "\n",
    "# Definimos las variables que representan los valores que el usuario ingresará, es decir un vector de enrtadas 'x' y 'y'.\n",
    "\n",
    "x = float(input(\"Ingresa el valor de X:\"))\n",
    "y= float(input(\"Ingresa el valor de Y:\"))\n",
    "\n",
    "# Definimos al módulo del vector como 'mod' y su ángulo como 'tht'.\n",
    "mod = sqrt(x**2 + y**2)\n",
    "tht = mt.atan2(y,x)\n",
    "\n",
    "# Como la funcion tan comprende angulos entre -1 y 1, es decir -180 y 180 graodos, pensé mas sencillo mostrarlos en grados, por lo que con ayuda de la función 'degrees' podemos hacer la conversión.\n",
    "tht_gr = mt.degrees(tht)\n",
    "\n",
    "if tht_gr < 0:                              # Aplicamos la condición de que si el ángulo calculado en grados es negativo, se le suma 360 grados para obtener un ángulo positivo comprendido entre 0 y 360 grados.\n",
    "    tht_gr += 360 \n",
    "\n",
    "# Mostramos el resultado\n",
    "print(\"Tus coordenadas polares son: \")                     \n",
    "print(\"r=\", mod ,\",\", \"0=\", tht_gr)\n",
    "    "
   ]
  },
  {
   "cell_type": "markdown",
   "id": "0227428b-69b0-4188-8289-c4736b612e2e",
   "metadata": {},
   "source": [
    "**2. Productos vectoriales y matriciales:** Escribe el pseudocódigo de los algoritmos que realicen las siguientes operaciones vectoriales; así como los respectivos programas en `python`, sin usar bibliotecas como `numpy` ni cualquier otra (*i.e.* usando sólo listas ) que implementen dichos algoritmos:\n",
    "\n",
    "(a) El *producto interior* (producto punto) de dos vectores en $\\mathbb{R}^3$. En este caso, para la implementación el usuario del programa debe insertar las entradas de los vectores."
   ]
  },
  {
   "cell_type": "code",
   "execution_count": null,
   "id": "4dad9cf3-6db0-4e60-8143-818dbf64ac30",
   "metadata": {},
   "outputs": [],
   "source": [
    "# Primero definiremos las variables que introducirá el usuario, que serán las coordenadas de cada vector en R3.\n",
    "\n",
    "print(\"Ingrese las coordenadas del primer vector (x, y, z):\")\n",
    "x1 = float(input(\"x = \"))\n",
    "y1 = float(input(\"y = \"))\n",
    "z1 = float(input(\"z = \"))\n",
    "\n",
    "# Ahora las coordenadas del segundo vector\n",
    "print(\"Ingrese las coordenadas del segundo vector (x, y, z):\")\n",
    "x2 = float(input(\"x = \"))\n",
    "y2 = float(input(\"y = \"))\n",
    "z2 = float(input(\"z = \"))\n",
    "\n",
    "# Definimos o reordenamos a nustras entradas como listas.\n",
    "v1 = [x1, y1, z1]\n",
    "v2 = [x2, y2, z2]\n",
    "\n",
    "# El producto punto se hace entrada por entrada, así que usaremos un ciclo 'for'.\n",
    "producto_punto = 0                          # Creamos una variable llamada 'producto_punto' el cual comenszará su valor en 0.\n",
    "for i in range(len(v1)):                   # Ahora, para cada elemento en el rango de la longitud de los elementos en v1 haremos la operacion v1 por v2 entrada por entrada, para eso\n",
    "    producto_punto += v1[i] * v2[i]          # Redefiniremos a la variable 'producto punto' para que cada que el ciclo itere sobre cada i de v1, en cada entrada se multiplique \n",
    "                                            # por v2 y se le sume el valor de 'producto punto' anterior que iteró sobre cada valor del vector v1.  \n",
    "# Mostramos el resultado.\n",
    "print(f\"El producto punto de los vectores {v1} y {v2} es:\")       # Al usar la 'f' en una 'string' se le llama Las f-strings y nos permiten meter variables dentro de la cadena usando {}.\n",
    "print(producto_punto)                                        "
   ]
  },
  {
   "cell_type": "markdown",
   "id": "f920edfb-295d-4654-87fd-76f0ef061f61",
   "metadata": {},
   "source": [
    "(b) El producto interior de dos vectores en $\\mathbb{R}^n$. Para la implementación, en este caso, encuentra una manera de generar dos vectores diferentes en $\\mathbb{R}^n$<a name=\"cite_ref-1\"></a>[<sup>[1]</sup>](#cite_note-1)."
   ]
  },
  {
   "cell_type": "code",
   "execution_count": null,
   "id": "4ad89a31-97af-47a6-84d7-b9897cebd825",
   "metadata": {},
   "outputs": [],
   "source": [
    "# Podemos hacerlo análogo al inciso anterior. Primero definamos  'n' como el número de entradas de cada vector, el usuario ingresará este valor.\n",
    "n = int(input(\"Introduce el tamaño de los vectores (n): \"))\n",
    "\n",
    "# Como el número de entradas es positiva, n debe ser positivo o cero, para esto usamos la condición while.\n",
    "while n <= 0:                                         #Mientras que n sea menor o igual a cero, entonces mostrará un error para que vuelvas a intentarlo.\n",
    "    print(\"El tamaño debe ser un número entero positivo.\")\n",
    "    n = int(input(\"Introduce el tamaño de los vectores (n): \"))\n",
    "\n",
    "# Creamos dos listas vacías que nos guarden la información de los vectores.\n",
    "vector1 = []\n",
    "vector2 = []\n",
    "\n",
    "# Pedimos las coordenadas al usuario, es decir los valores para el primer vector.\n",
    "print(f\"Ingrese {n} valores para las entradas del primer vector:\") \n",
    "for i in range(n):                              # Para cada 'i' en el rango de 'n', definimos una variable flotatnte dentro del ciclo que nos indique el número de entradas\n",
    "    valor = float(input(f\"Entrada {i+1} = \"))    # para cada vector, y se le sumará 1 en cada salida.\n",
    "    vector1.append(valor)                          # Con 'append' guardamos la informacion de la variable valor en nuestra lista vacía 'vector1'.\n",
    "\n",
    "# Hacemos lo mismo para el segundo vector.\n",
    "print(f\"Ingrese {n} valores para las entradas del segundo vector:\")\n",
    "for i in range(n):\n",
    "    valor = float(input(f\"Entrada {i+1} = \"))\n",
    "    vector2.append(valor)\n",
    "\n",
    "# Ya con los valores guardados en cada vector, podemos realizar la operación del inciso anterior.\n",
    "\n",
    "producto_punto = 0                                   \n",
    "for i in range(n):                                     # Para cada elemento en n la coordenada 'i' del vector 1 y la coordenada 1 del vector dos se van a multiplicar y el resultado \n",
    "    producto_punto += vector1[i] * vector2[i]          #  se va a sumar con el valor obtenido de producto punto anterior, así hasta que 'i' termine de iterar.\n",
    "\n",
    "# Mostramos el resultado usando una f-string.\n",
    "print(f\"El producto punto de los vectores {vector1} y {vector2} es:\")\n",
    "print(producto_punto)"
   ]
  },
  {
   "cell_type": "markdown",
   "id": "545df56a-a35e-461e-9e38-f0de5e5e0066",
   "metadata": {},
   "source": [
    "Tuve muchos probelemas con el archivo de texto, no se que pasaba con mi kernel o windows o algo no me jalaban mis textos. UnU"
   ]
  },
  {
   "cell_type": "markdown",
   "id": "5a7f67e3-481c-4b7d-a5ec-7123e9d8d8fe",
   "metadata": {},
   "source": [
    "(c) El producto de una matriz en $\\mathbb{A} \\in \\mathbb{R}^{nxn}$, por un vector de $\\mathbb{R}^n$. Para la implementación las entradas tanto del vector como de la matriz deben leerse de un archivo de datos (que tú puedes generar)."
   ]
  },
  {
   "cell_type": "markdown",
   "id": "754c9c39-49b3-4adb-8f33-276bbd63431a",
   "metadata": {},
   "source": [
    "(d) El producto de dos matrices $\\mathbb{A}, \\mathbb{B} \\in \\mathbb{R}^{nxn}$. En la implementación las entradas de ambas matrices deben leerse de un archivo de datos (que tú generes).\n"
   ]
  },
  {
   "cell_type": "markdown",
   "id": "7e1f907d-ea2d-441d-8d92-833e2944d7c6",
   "metadata": {},
   "source": [
    "(e) Convierte tus códigos en funciones y generaliza todo en un única función que realice el producto de dos matrices $\\mathbb{A}, \\in \\mathbb{R}^{nm}$ y $\\mathbb{B} \\in \\mathbb{R}^{mn}$, así como el cálculo de cualquiera de los incisos anteriores, dependiendo de la entrada que se le de a la función.En todos los casos, las entradas deben leerse de un archivo de datos."
   ]
  },
  {
   "cell_type": "markdown",
   "id": "a9e91157-c18a-490e-89be-1c82d12a9e1e",
   "metadata": {},
   "source": [
    "**3. Caida de una pelota desde una torre:** Se deja caer una pelota desde una torre de altura $h$. Tiene velocidad inicial cero y acelera hacia abajo con la gravedad. \n",
    "\n",
    "Escribe un programa que le pida al usuario que ingrese la altura en metros de la torre y luego calcule e imprima el tiempo en segundos hasta que la pelota toque el suelo (ignora la resistencia del aire). \n",
    "    \n",
    "Despues, usa tu programa para calcular el tiempo de una pelota lanzada desde una torre de 100 m de altura.\n"
   ]
  },
  {
   "cell_type": "markdown",
   "id": "2e928e78-dedc-4a02-9356-f84fd18effe1",
   "metadata": {},
   "source": [
    "---"
   ]
  },
  {
   "cell_type": "markdown",
   "id": "df0113fb-cabb-43b9-bb85-27a62d716950",
   "metadata": {},
   "source": [
    ">> Primero recordemos que los cuerpos en caida libre en la Tierra describen un comportamiento de aceleración constante, donde esta es la aceleración de la gravedad (g). En este caso podemos afirmar que en una vecindad cercan a la superficie de la Tierra, los cuerpos caen hacia la Tierra, es decir el suelo (hacia abajo). Con esto dicho, podremos fijar nuestro sistema de referencia para un cuerpo en caida libre, contenido en un plano a lo largo de un sólo eje (0,y), por lo que que tomamos como positiva la direciion hacia arriba. "
   ]
  },
  {
   "cell_type": "markdown",
   "id": "cec9c649-9f51-4219-bb4b-4d82a9106681",
   "metadata": {},
   "source": [
    "Dicho esto, recordemos que la aceleración está dada por la expresión $a=\\frac{\\Delta v}{\\Delta x}=\\frac{V - V_0}{t - t_0}$, si un objeto comienza con una velocidad $V_0 = 0$ en el tiempo $t_0= 0$, a un tiempo t, tendrá una velocidad $V$, entonces deespejando $a$ tendremos: \n",
    "$$\n",
    "a = \\frac{V - V_0}{t} ---->\n",
    "V = V_0 + at\n",
    "$$\n",
    "Ahora si queremos la velocidad en función del tiempo, recordemos que la velocidad promedio en el intervalo es el promedio de las velocidades. $V = \\frac{V - V_0}{2}$, pero por lo anterior, $V = V_0 + at$, entonces sustituyendo a V en la ecuación anterior tenemos que:\n",
    "$$\n",
    "V = V_0 + \\frac{at}{2}\n",
    "$$\n",
    "Con esto podremos describir a la velocidad en terminos de una particula que parte en $x_0=0$, a tiempo $t_0=0$ a la posición $x$ en tiempo $t$. Si:\n",
    "$$\n",
    "V=\\frac{\\Delta x}{\\Delta t}=\\frac{x - x_0}{t - t_0}=\\frac{x - x_0}{t}\n",
    "$$\n",
    "Podemos despejar $x$ de la ecuación y tendremos $x=x_0+vt$, pero $V = \\frac{V - V_0}{2}$, entonces:\n",
    "$$\n",
    "x= x_0 + V_0 + \\frac{at}{2}\n",
    "$$\n",
    "Por lo que encontramos la posición en todos los tiempos posteriores. Como trabajamos en el eje 'y' y tomando a $a=-g$, simplemente reemplazamos en la ecuación anterior y tenemos que:\n",
    "$$\n",
    "y= y_0 + V_0 - \\frac{gt}{2}\n",
    "$$"
   ]
  },
  {
   "cell_type": "markdown",
   "id": "3ccbc1de-dd79-43b1-99de-45bab7c224e6",
   "metadata": {},
   "source": [
    "Si iniciamos en el origen $y_0=0$, con velocidad inicial $V_0=0$, entonces $y=\\frac{gt}{2}$. Despejando el tiempo $t$, finalmente obtenemos que:\n",
    "$$\n",
    "t = \\sqrt{\\frac{2y}{g}}\n",
    "$$\n",
    "Donde 'y' es la altura a la que se encuentra la pelota. Con esto escribamos el programa."
   ]
  },
  {
   "cell_type": "code",
   "execution_count": null,
   "id": "663880df-bd91-497f-902a-f9979c790053",
   "metadata": {
    "scrolled": true
   },
   "outputs": [],
   "source": [
    "# Recordemos importar la biblioteca \"import math as mt\"\n",
    "# Creamos una entrada para que el usuario elija la altura 'y'.\n",
    "\n",
    "y = float(input(\"Introduce la altura desde la que se deja caer la pelota (en metros): \"))\n",
    "g = 9.81 # Definimos a la constante de la gravedad(en m/s^2)\n",
    "\n",
    "# Definimos la operación con la ecuación que deducimos anteriormente.\n",
    "t = mt.sqrt(2 * y / g)\n",
    "\n",
    "# Finalmente mostramos el resultado.\n",
    "\n",
    "print(f\"El tiempo que tarda la pelota en tocar el suelo es: {t:.3f} segundos\")     # Escribir '.3f' nos indica que queremos que únicamente nos muestre 3 decimales después del punto."
   ]
  },
  {
   "cell_type": "markdown",
   "id": "04a36fdb-0df3-4eb9-979c-24dfdb083ae2",
   "metadata": {},
   "source": [
    "Para calcular el tiempo de una pelota lanzada desde una torre de 100 m de altura."
   ]
  },
  {
   "cell_type": "code",
   "execution_count": null,
   "id": "50e14e1b-eaea-474e-9c10-c173ae1df141",
   "metadata": {},
   "outputs": [],
   "source": [
    "# Analogamente creamos la altura fija.\n",
    "y = 100\n",
    "g = 9.81 # Definimos a la constante de la gravedad(en m/s^2)\n",
    "# Definimos la operación con la ecuación que deducimos anteriormente.\n",
    "t = mt.sqrt(2 * y / g)\n",
    "\n",
    "# Finalmente mostramos el resultado.\n",
    "\n",
    "print(f\"El tiempo que tarda la pelota en tocar el suelo es: {t:.3f} segundos\")"
   ]
  },
  {
   "cell_type": "markdown",
   "id": "36899a8b-30f7-49fd-8e58-f46c070c3b4d",
   "metadata": {},
   "source": [
    "\n",
    "**4. Altitud de un satélite**: se va a lanzar un satélite en una órbita circular alrededor de la Tierra de modo que orbite el planeta una vez cada $T$ segundos."
   ]
  },
  {
   "cell_type": "markdown",
   "id": "81cadaa2-9251-4085-b7a5-d85ccb3ba71b",
   "metadata": {},
   "source": [
    "(a) Demuestre que la altitud $h$ sobre la superficie de la Tierra que debe tener el satélite es:\n",
    "\n",
    "<h3 align=\"center\">$h = \\biggl( {GMT^2\\over4\\pi^2} \\biggr)^{1/3} - R$,</h3> \n",
    "\n",
    "donde $G = 6,67 × 10^{−11} m^3 kg^{−1}s^{−2}$ es la constante gravitatoria de Newton, $M = 5,97 ×\n",
    "1024 kg$ es la masa de la Tierra, y $R = 6371 km$ es su radio.\n",
    "\n"
   ]
  },
  {
   "cell_type": "markdown",
   "id": "031dc29b-515a-44f8-984a-68b9b0132c60",
   "metadata": {},
   "source": [
    "* Para ver la solución de este problema siga el enlace siguiente: \n",
    "[Altitud de un satélite](https://acrobat.adobe.com/id/urn:aaid:sc:VA6C2:748e0100-8a1c-4375-8d76-004f8de06ed1)\n"
   ]
  },
  {
   "cell_type": "markdown",
   "id": "b0ad8fd9-d75f-4f92-bb96-4163329604c2",
   "metadata": {},
   "source": [
    "(b) Escribe un programa que le pida al usuario que ingrese el valor deseado de $T$ y luego calcule\n",
    "e imprima la altura correcta en metros.\n"
   ]
  },
  {
   "cell_type": "code",
   "execution_count": null,
   "id": "553bdec5-a3a6-4d05-94c4-2d047395c82e",
   "metadata": {},
   "outputs": [],
   "source": [
    "# Primero definamos las constantes del problema.\n",
    "G = 6.67e-11 # Constante gravitacional en m^3 kg^-1 s^-2\n",
    "M = 5.97e24    # Masa de la Tierra en kg\n",
    "R_t = 6371e3    # Radio de la Tierra en metros\n",
    "\n",
    "# Podemos hacer uso de ua función Función para calcular la altura. Primero debemos definir lo que hará la función y luego ingresar el input.\n",
    "\n",
    "def calcularh(T):\n",
    "# Realizamos la opreación con las variables de la ecuación.\n",
    "    h = ((G * M * T**2) / (4 * mt.pi**2))**(1/3) - R_t       # Aquí calculamos el valor dentro del paréntesis y luego lo eleva al 1/3\n",
    "    return h                              # Con return nos regresa el valor de h\n",
    "\n",
    "# Ahora pedimos que el usuario ingrese el valor de T.\n",
    "T = float(input(\"Ingresa el valor de T (en segundos): \"))\n",
    "\n",
    "# Renombramos a la altura como la altura relacionada con la T ingresada por el usuario\n",
    "altura = calcularh(T) \n",
    "print(f\"La altura h sobre la superficie de la Tierra es: {altura:.2f} metros\")                # Mostramos el resultado con 3 decimales."
   ]
  },
  {
   "cell_type": "markdown",
   "id": "b8f4166e-c5d1-4820-a1d9-c982c4eecde2",
   "metadata": {},
   "source": [
    "(c) Utiliza tu programa para calcular las altitudes de los satélites que orbitan la Tierra una vez al día (la llamada *órbita \"geosincrónica\"*), una vez cada **90 minutos** y una vez cada **45 minutos**. \n",
    "¿Qué concluyes del último de estos cálculos?"
   ]
  },
  {
   "cell_type": "code",
   "execution_count": null,
   "id": "ea0f466b-d75e-4366-b96e-eb54ed8702d2",
   "metadata": {},
   "outputs": [],
   "source": [
    "# Primero definamos las constantes del problema.\n",
    "G = 6.67e-11 # Constante gravitacional en m^3 kg^-1 s^-2\n",
    "M = 5.97e24    # Masa de la Tierra en kg\n",
    "R_t = 6371e3    # Radio de la Tierra en metros\n",
    "\n",
    "# Podemos hacer uso de ua función Función para calcular la altura. Primero debemos definir lo que hará la función y luego ingresar el input.\n",
    "\n",
    "def calcularh(T):\n",
    "# Realizamos la opreación con las variables de la ecuación.\n",
    "    h = ((G * M * T**2) / (4 * mt.pi**2))**(1/3) - R_t       # Aquí calculamos el valor dentro del paréntesis y luego lo eleva al 1/3\n",
    "    return h                              # Con return nos regresa el valor de h\n",
    "\n",
    "# Definamos los períodos en segundos\n",
    "T_geosincronica = 24 * 3600 # 24 horas\n",
    "T_90_min = 90 * 60 # 90 minutos\n",
    "T_45_min = 45 * 60 # 45 minutos\n",
    "\n",
    "# Aplicamos la funcion a nuevas variables que serán las nuevas alturas y las guardamos en unas nuevas.\n",
    "altura_geosincronica = calcularh(T_geosincronica)\n",
    "altura_90_min = calcularh(T_90_min)\n",
    "altura_45_min = calcularh(T_45_min)\n",
    "\n",
    "# Mostrar resultados\n",
    "print(f\"Altura para órbita geosincrónica: {altura_geosincronica / 1e3:.2f} km\")\n",
    "print(f\"Altura para órbita de 90 minutos: {altura_90_min / 1e3:.2f} km\")\n",
    "print(f\"Altura para órbita de 45 minutos: {altura_45_min / 1e3:.2f} km\")               # Mostramos el resultado con 3 decimales."
   ]
  },
  {
   "cell_type": "markdown",
   "id": "a43ce2b0-5911-419e-8cd1-a17e65951370",
   "metadata": {},
   "source": [
    "##### Resultado de los cálculos\n",
    "Dados los resultados podemos concluir que:\n",
    "\n",
    "El resultado de la altura para una órbita de 45 minutos es negativo, lo que significa que no es fisicamente posible para un satélite tener una órbita de este periodo de la Tierra."
   ]
  },
  {
   "cell_type": "markdown",
   "id": "fb170696-bae6-47b5-887b-de64ea2fc5e6",
   "metadata": {},
   "source": [
    "**5. Relatividad especial:** Una nave espacial viaja desde la Tierra en línea recta a una velocidad relativista $v$ a otro planeta a $x$ años luz de distancia.\n",
    " \n",
    " Escribe un programa que le pida al usuario el valor de $x$ y la velocidad $v$ como una fracción de la velocidad de la luz $c$, y que imprima el tiempo en años que tarda la nave espacial en llegar a su destino\n",
    " \n",
    "(a) en el marco de reposo de un observador en la Tierra y "
   ]
  },
  {
   "cell_type": "markdown",
   "id": "2f73fb68-9ada-480b-ae50-5ce04a2c3075",
   "metadata": {},
   "source": [
    "> Recordemos que de acuerdo con la teoría de la relatividad especial de Einstein, existe la dilatación temporal, que nos dice como la máxima rapidez con la que se mueve un reloj se mide cuando se está en reposo con respecto al observador, es decir que el tiempo medido a bordo de la nave $t'$, se dilata y es menor que el tiempo medido en el marco de referencia en reposo. Por lo que usando la transformada inversa de Lorentz en el tiempo y dado que $c=1$:\n",
    "$$\n",
    "t'= t \\sqrt{1 -\\frac{v^2}{c^2}} = t \\sqrt{1 -{v^2}}\n",
    "$$\n"
   ]
  },
  {
   "cell_type": "code",
   "execution_count": null,
   "id": "76c28567-8086-419f-b849-109e7cb9a0c1",
   "metadata": {},
   "outputs": [],
   "source": [
    "# Podemos definir una función para calcular el tiempo en la Tierra.\n",
    "def ttierra(x, v):\n",
    "    return x / v\n",
    "\n",
    "# Ahora una función para calcular el tiempo a bordo de la nave, es decir la dilatada.\n",
    "def tbordo(t, v):\n",
    "    return t * mt.sqrt(1 - v**2)\n",
    "\n",
    "# Ahora llamamos a las variables que el usuario va a introducir para que las funciones hagan las opreaciones con los datos.\n",
    "x = float(input(\"Ingresa la distancia al planeta (en años luz): \"))\n",
    "v = float(input(\"Ingresa la velocidad de la nave como fracción de la velocidad de la luz [0c-1c]: \"))\n",
    "\n",
    "# guardamos los datos de las variables en unas nuevas que almacenen los datos usados por las funciones, esdecir ya con el efecto de la función.\n",
    "tierra_tiempo = ttierra(x, v)\n",
    "nave_tiempo = tbordo(tierra_tiempo, v)\n",
    "\n",
    "# Finalmente mostramos el resultado usando los 'f-strings' y limitando los puntos decimales.\n",
    "print(f\"Tiempo en la Tierra: {tierra_tiempo:.2f} años\")\n",
    "print(f\"Tiempo a bordo de la nave: {nave_tiempo:.2f} años\")"
   ]
  },
  {
   "cell_type": "markdown",
   "id": "d3de24fa-9ded-4ccd-aefb-725f07bfc8bf",
   "metadata": {},
   "source": [
    "(b) como lo percibiría un pasajero a bordo de la nave. \n",
    " Usa tu programa para calcular las respuestas para un planeta a 10 años luz de distancia con $v = 0.99c$"
   ]
  },
  {
   "cell_type": "code",
   "execution_count": null,
   "id": "47e1c2fa-2787-4776-baef-84d8cccd45f2",
   "metadata": {},
   "outputs": [],
   "source": [
    "# Primera ingresamos y definimos las constantes.\n",
    "def ttierra(x, v):\n",
    "    return x / v\n",
    "\n",
    "# Ahora una función para calcular el tiempo a bordo de la nave, es decir la dilatada.\n",
    "def tbordo(t, v):\n",
    "    return t * mt.sqrt(1 - v**2)\n",
    "\n",
    "x = 10                           # años luz\n",
    "v = 0.99                         # fracción de la velocidad de la luz\n",
    "\n",
    "# Calculamos los tiempos.\n",
    "tierra_tiempo = ttierra(x, v)\n",
    "nave_tiempo = tbordo(tierra_tiempo, v)\n",
    "\n",
    "# Mostrar resultados\n",
    "print(f\"Tiempo en la Tierra: {tierra_tiempo:.2f} años\")\n",
    "print(f\"Tiempo a bordo de la nave: {nave_tiempo:.2f} años\")\n",
    "print(\"Significa que en el marco de referencia de la Tierra, el viaje parece durar 10 años, pero debido a la dilatación del tiempo,\") \n",
    "print(\"para un pasajero a bordo de la nave, el viaje duraría solo 1.43 años.\") \n",
    "print(\"Por lo que muestra como la dilatación hace que el tiempo a bordo de la nave pase mucho más lento que en la Tierra.\")"
   ]
  },
  {
   "cell_type": "code",
   "execution_count": null,
   "id": "17949992-e0ce-402d-a056-73a519108d9d",
   "metadata": {},
   "outputs": [],
   "source": []
  }
 ],
 "metadata": {
  "kernelspec": {
   "display_name": "Python 3 (ipykernel)",
   "language": "python",
   "name": "python3"
  },
  "language_info": {
   "codemirror_mode": {
    "name": "ipython",
    "version": 3
   },
   "file_extension": ".py",
   "mimetype": "text/x-python",
   "name": "python",
   "nbconvert_exporter": "python",
   "pygments_lexer": "ipython3",
   "version": "3.12.4"
  }
 },
 "nbformat": 4,
 "nbformat_minor": 5
}
